{
 "metadata": {
  "language_info": {
   "codemirror_mode": {
    "name": "ipython",
    "version": 3
   },
   "file_extension": ".py",
   "mimetype": "text/x-python",
   "name": "python",
   "nbconvert_exporter": "python",
   "pygments_lexer": "ipython3",
   "version": "3.8.5-final"
  },
  "orig_nbformat": 2,
  "kernelspec": {
   "name": "python3",
   "display_name": "Python 3.8.5 64-bit ('base': conda)",
   "metadata": {
    "interpreter": {
     "hash": "96de974b01b046934b52f4b659c3191343687683fcc318550f674f99061b09c5"
    }
   }
  }
 },
 "nbformat": 4,
 "nbformat_minor": 2,
 "cells": [
  {
   "cell_type": "code",
   "execution_count": 25,
   "metadata": {},
   "outputs": [],
   "source": [
    "import pandas as pd\n",
    "import numpy as np \n"
   ]
  },
  {
   "cell_type": "code",
   "execution_count": 36,
   "metadata": {},
   "outputs": [
    {
     "output_type": "execute_result",
     "data": {
      "text/plain": [
       "          Player Name  Age Pos   Tm   G  GS  Cmp  Att   Yds  TD\n",
       "0           Matt Ryan   35  QB  ATL  16  16  407  626  4581  26\n",
       "1           Tom Brady   43  QB  TAM  16  16  401  610  4633  40\n",
       "2  Ben Roethlisberger   38  QB  PIT  15  15  399  608  3803  33\n",
       "3      Justin Herbert   22  QB  LAC  15  15  396  595  4336  31\n",
       "4    Patrick Mahomes    25  QB  KAN  15  15  390  588  4740  38\n",
       "5         Josh Allen    24  QB  BUF  16  16  396  572  4544  37\n",
       "6       Kyler Murray    23  QB  ARI  16  16  375  558  3971  26\n",
       "7     Russell Wilson    32  QB  SEA  16  16  384  558  4212  40\n",
       "8          Jared Goff   26  QB  LAR  15  15  370  552  3952  20\n",
       "9     Deshaun Watson    25  QB  HOU  16  16  382  544  4823  33"
      ],
      "text/html": "<div>\n<style scoped>\n    .dataframe tbody tr th:only-of-type {\n        vertical-align: middle;\n    }\n\n    .dataframe tbody tr th {\n        vertical-align: top;\n    }\n\n    .dataframe thead th {\n        text-align: right;\n    }\n</style>\n<table border=\"1\" class=\"dataframe\">\n  <thead>\n    <tr style=\"text-align: right;\">\n      <th></th>\n      <th>Player Name</th>\n      <th>Age</th>\n      <th>Pos</th>\n      <th>Tm</th>\n      <th>G</th>\n      <th>GS</th>\n      <th>Cmp</th>\n      <th>Att</th>\n      <th>Yds</th>\n      <th>TD</th>\n    </tr>\n  </thead>\n  <tbody>\n    <tr>\n      <th>0</th>\n      <td>Matt Ryan</td>\n      <td>35</td>\n      <td>QB</td>\n      <td>ATL</td>\n      <td>16</td>\n      <td>16</td>\n      <td>407</td>\n      <td>626</td>\n      <td>4581</td>\n      <td>26</td>\n    </tr>\n    <tr>\n      <th>1</th>\n      <td>Tom Brady</td>\n      <td>43</td>\n      <td>QB</td>\n      <td>TAM</td>\n      <td>16</td>\n      <td>16</td>\n      <td>401</td>\n      <td>610</td>\n      <td>4633</td>\n      <td>40</td>\n    </tr>\n    <tr>\n      <th>2</th>\n      <td>Ben Roethlisberger</td>\n      <td>38</td>\n      <td>QB</td>\n      <td>PIT</td>\n      <td>15</td>\n      <td>15</td>\n      <td>399</td>\n      <td>608</td>\n      <td>3803</td>\n      <td>33</td>\n    </tr>\n    <tr>\n      <th>3</th>\n      <td>Justin Herbert</td>\n      <td>22</td>\n      <td>QB</td>\n      <td>LAC</td>\n      <td>15</td>\n      <td>15</td>\n      <td>396</td>\n      <td>595</td>\n      <td>4336</td>\n      <td>31</td>\n    </tr>\n    <tr>\n      <th>4</th>\n      <td>Patrick Mahomes</td>\n      <td>25</td>\n      <td>QB</td>\n      <td>KAN</td>\n      <td>15</td>\n      <td>15</td>\n      <td>390</td>\n      <td>588</td>\n      <td>4740</td>\n      <td>38</td>\n    </tr>\n    <tr>\n      <th>5</th>\n      <td>Josh Allen</td>\n      <td>24</td>\n      <td>QB</td>\n      <td>BUF</td>\n      <td>16</td>\n      <td>16</td>\n      <td>396</td>\n      <td>572</td>\n      <td>4544</td>\n      <td>37</td>\n    </tr>\n    <tr>\n      <th>6</th>\n      <td>Kyler Murray</td>\n      <td>23</td>\n      <td>QB</td>\n      <td>ARI</td>\n      <td>16</td>\n      <td>16</td>\n      <td>375</td>\n      <td>558</td>\n      <td>3971</td>\n      <td>26</td>\n    </tr>\n    <tr>\n      <th>7</th>\n      <td>Russell Wilson</td>\n      <td>32</td>\n      <td>QB</td>\n      <td>SEA</td>\n      <td>16</td>\n      <td>16</td>\n      <td>384</td>\n      <td>558</td>\n      <td>4212</td>\n      <td>40</td>\n    </tr>\n    <tr>\n      <th>8</th>\n      <td>Jared Goff</td>\n      <td>26</td>\n      <td>QB</td>\n      <td>LAR</td>\n      <td>15</td>\n      <td>15</td>\n      <td>370</td>\n      <td>552</td>\n      <td>3952</td>\n      <td>20</td>\n    </tr>\n    <tr>\n      <th>9</th>\n      <td>Deshaun Watson</td>\n      <td>25</td>\n      <td>QB</td>\n      <td>HOU</td>\n      <td>16</td>\n      <td>16</td>\n      <td>382</td>\n      <td>544</td>\n      <td>4823</td>\n      <td>33</td>\n    </tr>\n  </tbody>\n</table>\n</div>"
     },
     "metadata": {},
     "execution_count": 36
    }
   ],
   "source": [
    "#import QB stats\n",
    "DF = pd.read_csv('supp/2020QB.csv')\n",
    "Name = DF['Player'].str.split('\\\\').str[0]\n",
    "Name = Name.values.tolist()\n",
    "def remove_punc(string):\n",
    "    punc = '*+'\n",
    "    for ele in string:\n",
    "        if ele in punc:\n",
    "            string = string.replace(ele,'')\n",
    "    return string\n",
    "Name = [remove_punc(i) for i in Name]\n",
    "DF['Player Name'] = Name\n",
    "DF = DF.iloc[:, 2:]\n",
    "DF_QB = DF[['Player Name', 'Age', 'Pos', 'Tm', 'G', 'GS', 'Cmp', 'Att', 'Yds', 'TD']]\n",
    "DF_QB.head(10)"
   ]
  },
  {
   "cell_type": "code",
   "execution_count": null,
   "metadata": {},
   "outputs": [],
   "source": []
  }
 ]
}