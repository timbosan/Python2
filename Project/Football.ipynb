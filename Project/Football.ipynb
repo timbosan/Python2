{
 "metadata": {
  "language_info": {
   "codemirror_mode": {
    "name": "ipython",
    "version": 3
   },
   "file_extension": ".py",
   "mimetype": "text/x-python",
   "name": "python",
   "nbconvert_exporter": "python",
   "pygments_lexer": "ipython3",
   "version": "3.8.5-final"
  },
  "orig_nbformat": 2,
  "kernelspec": {
   "name": "python3",
   "display_name": "Python 3.8.5 64-bit ('base': conda)",
   "metadata": {
    "interpreter": {
     "hash": "96de974b01b046934b52f4b659c3191343687683fcc318550f674f99061b09c5"
    }
   }
  }
 },
 "nbformat": 4,
 "nbformat_minor": 2,
 "cells": [
  {
   "cell_type": "code",
   "execution_count": 12,
   "metadata": {},
   "outputs": [],
   "source": [
    "import pandas as pd\n",
    "import numpy as np \n"
   ]
  },
  {
   "cell_type": "code",
   "execution_count": 14,
   "metadata": {},
   "outputs": [
    {
     "output_type": "execute_result",
     "data": {
      "text/plain": [
       "   Rk                       Player   Tm  Age Pos   G  GS      QBrec  Cmp  Att  \\\n",
       "0   1           Matt Ryan\\RyanMa00  ATL   35  QB  16  16  4-12-2000  407  626   \n",
       "1   2           Tom Brady\\BradTo00  TAM   43  QB  16  16  11-5-2000  401  610   \n",
       "2   3  Ben Roethlisberger\\RoetBe00  PIT   38  QB  15  15  12-3-2000  399  608   \n",
       "3   4      Justin Herbert\\HerbJu00  LAC   22  QB  15  15   6-9-2000  396  595   \n",
       "4   5   Patrick Mahomes *\\MahoPa00  KAN   25  QB  15  15     14-1-0  390  588   \n",
       "5   6        Josh Allen *\\AlleJo02  BUF   24  QB  16  16     13-3-0  396  572   \n",
       "6   7      Kyler Murray *\\MurrKy00  ARI   23  QB  16  16   8-8-2000  375  558   \n",
       "7   8    Russell Wilson *\\WilsRu00  SEA   32  QB  16  16  12-4-2000  384  558   \n",
       "8   9          Jared Goff\\GoffJa00  LAR   26  QB  15  15   9-6-2000  370  552   \n",
       "9  10    Deshaun Watson *\\WatsDe00  HOU   25  QB  16  16  4-12-2000  382  544   \n",
       "\n",
       "   ...    Y/G   Rate   QBR  Sk  Yds.1  NY/A  ANY/A  Sk%  4QC  GWD  \n",
       "0  ...  286.3   93.3  66.9  41    257  6.48   6.52  6.1  NaN  NaN  \n",
       "1  ...  289.6  102.2  72.6  21    143  7.12   7.53  3.3  3.0  3.0  \n",
       "2  ...  253.5   94.1  60.1  13    118  5.93   6.27  2.1  4.0  4.0  \n",
       "3  ...  289.1   98.3  69.6  32    218  6.57   6.84  5.1  1.0  3.0  \n",
       "4  ...  316.0  108.2  82.9  22    147  7.53   8.33  3.6  3.0  3.0  \n",
       "5  ...  284.0  107.2  81.7  26    159  7.33   7.82  4.3  2.0  3.0  \n",
       "6  ...  248.2   94.3  68.9  27    176  6.49   6.45  4.6  3.0  4.0  \n",
       "7  ...  263.3  105.1  73.5  47    301  6.46   6.82  7.8  3.0  3.0  \n",
       "8  ...  263.5   90.0  58.4  23    161  6.59   6.27  4.0  0.0  1.0  \n",
       "9  ...  301.4  112.4  70.5  49    293  7.64   8.22  8.3  NaN  NaN  \n",
       "\n",
       "[10 rows x 31 columns]"
      ],
      "text/html": "<div>\n<style scoped>\n    .dataframe tbody tr th:only-of-type {\n        vertical-align: middle;\n    }\n\n    .dataframe tbody tr th {\n        vertical-align: top;\n    }\n\n    .dataframe thead th {\n        text-align: right;\n    }\n</style>\n<table border=\"1\" class=\"dataframe\">\n  <thead>\n    <tr style=\"text-align: right;\">\n      <th></th>\n      <th>Rk</th>\n      <th>Player</th>\n      <th>Tm</th>\n      <th>Age</th>\n      <th>Pos</th>\n      <th>G</th>\n      <th>GS</th>\n      <th>QBrec</th>\n      <th>Cmp</th>\n      <th>Att</th>\n      <th>...</th>\n      <th>Y/G</th>\n      <th>Rate</th>\n      <th>QBR</th>\n      <th>Sk</th>\n      <th>Yds.1</th>\n      <th>NY/A</th>\n      <th>ANY/A</th>\n      <th>Sk%</th>\n      <th>4QC</th>\n      <th>GWD</th>\n    </tr>\n  </thead>\n  <tbody>\n    <tr>\n      <th>0</th>\n      <td>1</td>\n      <td>Matt Ryan\\RyanMa00</td>\n      <td>ATL</td>\n      <td>35</td>\n      <td>QB</td>\n      <td>16</td>\n      <td>16</td>\n      <td>4-12-2000</td>\n      <td>407</td>\n      <td>626</td>\n      <td>...</td>\n      <td>286.3</td>\n      <td>93.3</td>\n      <td>66.9</td>\n      <td>41</td>\n      <td>257</td>\n      <td>6.48</td>\n      <td>6.52</td>\n      <td>6.1</td>\n      <td>NaN</td>\n      <td>NaN</td>\n    </tr>\n    <tr>\n      <th>1</th>\n      <td>2</td>\n      <td>Tom Brady\\BradTo00</td>\n      <td>TAM</td>\n      <td>43</td>\n      <td>QB</td>\n      <td>16</td>\n      <td>16</td>\n      <td>11-5-2000</td>\n      <td>401</td>\n      <td>610</td>\n      <td>...</td>\n      <td>289.6</td>\n      <td>102.2</td>\n      <td>72.6</td>\n      <td>21</td>\n      <td>143</td>\n      <td>7.12</td>\n      <td>7.53</td>\n      <td>3.3</td>\n      <td>3.0</td>\n      <td>3.0</td>\n    </tr>\n    <tr>\n      <th>2</th>\n      <td>3</td>\n      <td>Ben Roethlisberger\\RoetBe00</td>\n      <td>PIT</td>\n      <td>38</td>\n      <td>QB</td>\n      <td>15</td>\n      <td>15</td>\n      <td>12-3-2000</td>\n      <td>399</td>\n      <td>608</td>\n      <td>...</td>\n      <td>253.5</td>\n      <td>94.1</td>\n      <td>60.1</td>\n      <td>13</td>\n      <td>118</td>\n      <td>5.93</td>\n      <td>6.27</td>\n      <td>2.1</td>\n      <td>4.0</td>\n      <td>4.0</td>\n    </tr>\n    <tr>\n      <th>3</th>\n      <td>4</td>\n      <td>Justin Herbert\\HerbJu00</td>\n      <td>LAC</td>\n      <td>22</td>\n      <td>QB</td>\n      <td>15</td>\n      <td>15</td>\n      <td>6-9-2000</td>\n      <td>396</td>\n      <td>595</td>\n      <td>...</td>\n      <td>289.1</td>\n      <td>98.3</td>\n      <td>69.6</td>\n      <td>32</td>\n      <td>218</td>\n      <td>6.57</td>\n      <td>6.84</td>\n      <td>5.1</td>\n      <td>1.0</td>\n      <td>3.0</td>\n    </tr>\n    <tr>\n      <th>4</th>\n      <td>5</td>\n      <td>Patrick Mahomes *\\MahoPa00</td>\n      <td>KAN</td>\n      <td>25</td>\n      <td>QB</td>\n      <td>15</td>\n      <td>15</td>\n      <td>14-1-0</td>\n      <td>390</td>\n      <td>588</td>\n      <td>...</td>\n      <td>316.0</td>\n      <td>108.2</td>\n      <td>82.9</td>\n      <td>22</td>\n      <td>147</td>\n      <td>7.53</td>\n      <td>8.33</td>\n      <td>3.6</td>\n      <td>3.0</td>\n      <td>3.0</td>\n    </tr>\n    <tr>\n      <th>5</th>\n      <td>6</td>\n      <td>Josh Allen *\\AlleJo02</td>\n      <td>BUF</td>\n      <td>24</td>\n      <td>QB</td>\n      <td>16</td>\n      <td>16</td>\n      <td>13-3-0</td>\n      <td>396</td>\n      <td>572</td>\n      <td>...</td>\n      <td>284.0</td>\n      <td>107.2</td>\n      <td>81.7</td>\n      <td>26</td>\n      <td>159</td>\n      <td>7.33</td>\n      <td>7.82</td>\n      <td>4.3</td>\n      <td>2.0</td>\n      <td>3.0</td>\n    </tr>\n    <tr>\n      <th>6</th>\n      <td>7</td>\n      <td>Kyler Murray *\\MurrKy00</td>\n      <td>ARI</td>\n      <td>23</td>\n      <td>QB</td>\n      <td>16</td>\n      <td>16</td>\n      <td>8-8-2000</td>\n      <td>375</td>\n      <td>558</td>\n      <td>...</td>\n      <td>248.2</td>\n      <td>94.3</td>\n      <td>68.9</td>\n      <td>27</td>\n      <td>176</td>\n      <td>6.49</td>\n      <td>6.45</td>\n      <td>4.6</td>\n      <td>3.0</td>\n      <td>4.0</td>\n    </tr>\n    <tr>\n      <th>7</th>\n      <td>8</td>\n      <td>Russell Wilson *\\WilsRu00</td>\n      <td>SEA</td>\n      <td>32</td>\n      <td>QB</td>\n      <td>16</td>\n      <td>16</td>\n      <td>12-4-2000</td>\n      <td>384</td>\n      <td>558</td>\n      <td>...</td>\n      <td>263.3</td>\n      <td>105.1</td>\n      <td>73.5</td>\n      <td>47</td>\n      <td>301</td>\n      <td>6.46</td>\n      <td>6.82</td>\n      <td>7.8</td>\n      <td>3.0</td>\n      <td>3.0</td>\n    </tr>\n    <tr>\n      <th>8</th>\n      <td>9</td>\n      <td>Jared Goff\\GoffJa00</td>\n      <td>LAR</td>\n      <td>26</td>\n      <td>QB</td>\n      <td>15</td>\n      <td>15</td>\n      <td>9-6-2000</td>\n      <td>370</td>\n      <td>552</td>\n      <td>...</td>\n      <td>263.5</td>\n      <td>90.0</td>\n      <td>58.4</td>\n      <td>23</td>\n      <td>161</td>\n      <td>6.59</td>\n      <td>6.27</td>\n      <td>4.0</td>\n      <td>0.0</td>\n      <td>1.0</td>\n    </tr>\n    <tr>\n      <th>9</th>\n      <td>10</td>\n      <td>Deshaun Watson *\\WatsDe00</td>\n      <td>HOU</td>\n      <td>25</td>\n      <td>QB</td>\n      <td>16</td>\n      <td>16</td>\n      <td>4-12-2000</td>\n      <td>382</td>\n      <td>544</td>\n      <td>...</td>\n      <td>301.4</td>\n      <td>112.4</td>\n      <td>70.5</td>\n      <td>49</td>\n      <td>293</td>\n      <td>7.64</td>\n      <td>8.22</td>\n      <td>8.3</td>\n      <td>NaN</td>\n      <td>NaN</td>\n    </tr>\n  </tbody>\n</table>\n<p>10 rows × 31 columns</p>\n</div>"
     },
     "metadata": {},
     "execution_count": 14
    }
   ],
   "source": [
    "#import QB stats\n",
    "DF_QB = pd.read_csv('supp/2020QB.csv')\n",
    "DF_QB.head(10)"
   ]
  },
  {
   "cell_type": "code",
   "execution_count": null,
   "metadata": {},
   "outputs": [],
   "source": []
  }
 ]
}