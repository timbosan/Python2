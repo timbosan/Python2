{
 "metadata": {
  "language_info": {
   "codemirror_mode": {
    "name": "ipython",
    "version": 3
   },
   "file_extension": ".py",
   "mimetype": "text/x-python",
   "name": "python",
   "nbconvert_exporter": "python",
   "pygments_lexer": "ipython3",
   "version": "3.8.5-final"
  },
  "orig_nbformat": 2,
  "kernelspec": {
   "name": "python3",
   "display_name": "Python 3.8.5 64-bit ('base': conda)",
   "metadata": {
    "interpreter": {
     "hash": "96de974b01b046934b52f4b659c3191343687683fcc318550f674f99061b09c5"
    }
   }
  }
 },
 "nbformat": 4,
 "nbformat_minor": 2,
 "cells": [
  {
   "cell_type": "code",
   "execution_count": null,
   "metadata": {},
   "outputs": [],
   "source": [
    "import pandas as pd\n",
    "import numpy as np \n",
    "import seaborn as sns\n",
    "from matplotlib import pyplot as plt\n",
    "sns.set()\n"
   ]
  },
  {
   "cell_type": "code",
   "execution_count": null,
   "metadata": {},
   "outputs": [],
   "source": [
    "#import 2020 QB stats CSV\n",
    "DF2020 = pd.read_csv('supp/2020QB.csv')\n",
    "#splitting on '\\' to keep player name\n",
    "Name = DF2020['Player'].str.split('\\\\').str[0]\n",
    "Name = Name.values.tolist()\n",
    "\n",
    "#function to remove puncutaion from player names\n",
    "def remove_punc(string):\n",
    "    punc = '*+'\n",
    "    for ele in string:\n",
    "        if ele in punc:\n",
    "            string = string.replace(ele,'')\n",
    "    return string\n",
    "#needed to add .strip() to lagging white space which affected merge downstream\n",
    "Name = [remove_punc(i).strip() for i in Name]\n",
    "DF2020['Player Name'] = Name\n",
    "DF2020['Pos'] = DF2020['Pos'].str.upper()\n",
    "DF2020 = DF2020.iloc[:, 2:]\n",
    "DF2020['Year'] = '2020'\n",
    "\n"
   ]
  },
  {
   "cell_type": "code",
   "execution_count": null,
   "metadata": {},
   "outputs": [],
   "source": [
    "#import 2019 QB stats CSV\n",
    "DF2019 = pd.read_csv('supp/2019QB.csv')\n",
    "#splitting on '\\' to keep player name\n",
    "Name = DF2019['Player'].str.split('\\\\').str[0]\n",
    "Name = Name.values.tolist()\n",
    "\n",
    "#function to remove puncutaion from player names\n",
    "def remove_punc(string):\n",
    "    punc = '*+'\n",
    "    for ele in string:\n",
    "        if ele in punc:\n",
    "            string = string.replace(ele,'')\n",
    "    return string\n",
    "#needed to add .strip() to lagging white space which affected merge downstream\n",
    "Name = [remove_punc(i).strip() for i in Name]\n",
    "DF2019['Player Name'] = Name\n",
    "DF2019['Pos'] = DF2019['Pos'].str.upper()\n",
    "DF2019 = DF2019.iloc[:, 2:]\n",
    "DF2019['Year'] = '2019'\n",
    "\n"
   ]
  },
  {
   "cell_type": "code",
   "execution_count": null,
   "metadata": {},
   "outputs": [],
   "source": [
    "#import 2018 QB stats CSV\n",
    "DF2018 = pd.read_csv('supp/2019QB.csv')\n",
    "#splitting on '\\' to keep player name\n",
    "Name = DF2018['Player'].str.split('\\\\').str[0]\n",
    "Name = Name.values.tolist()\n",
    "\n",
    "#function to remove puncutaion from player names\n",
    "def remove_punc(string):\n",
    "    punc = '*+'\n",
    "    for ele in string:\n",
    "        if ele in punc:\n",
    "            string = string.replace(ele,'')\n",
    "    return string\n",
    "#needed to add .strip() to lagging white space which affected merge downstream\n",
    "Name = [remove_punc(i).strip() for i in Name]\n",
    "DF2018['Player Name'] = Name\n",
    "DF2018['Pos'] = DF2018['Pos'].str.upper()\n",
    "DF2018 = DF2018.iloc[:, 2:]\n",
    "DF2018['Year'] = '2018'"
   ]
  },
  {
   "cell_type": "code",
   "execution_count": null,
   "metadata": {},
   "outputs": [],
   "source": [
    "#concat DF here with fields I want\n",
    "DF_QB = pd.concat([DF2020,DF2019,DF2018])\n",
    "DF_QB = DF_QB[['Player Name', 'Age', 'Pos', 'Tm', 'Year', 'G', 'GS', 'Cmp', 'Att', 'Yds', 'TD']]\n",
    "DF_QB.head(5)\n"
   ]
  },
  {
   "cell_type": "code",
   "execution_count": null,
   "metadata": {
    "tags": []
   },
   "outputs": [],
   "source": [
    "#Loading Player Measureables data\n",
    "DFPM = pd.read_csv('supp/playermeasureables - Sheet1.csv')\n",
    "Last_NamePM = DFPM['Player'].str.split(', ').str[0]\n",
    "Last_NamePM = Last_NamePM.values.tolist()\n",
    "First_NamePM = DFPM['Player'].str.split(', ').str[1]\n",
    "First_NamePM = First_NamePM.values.tolist()\n",
    "DFPM['First Name'] = First_NamePM\n",
    "DFPM['Last Name'] = Last_NamePM\n",
    "DFPM['Player Name'] = DFPM[['First Name', 'Last Name']].apply(lambda x: ' '.join(x), axis=1)\n",
    "DFPM_Info = DFPM[['Player Name', 'Pos', 'Team', 'Height', 'Weight', 'DOB']]\n",
    "#DFPM_Info.loc[DFPM_Info['Player Name']=='Patrick Mahomes']\n",
    "\n"
   ]
  },
  {
   "cell_type": "code",
   "execution_count": 138,
   "metadata": {},
   "outputs": [
    {
     "output_type": "execute_result",
     "data": {
      "text/plain": [
       "          Player Name  Age Pos   Tm  Year   G  GS  Cmp  Att   Yds  TD Team  \\\n",
       "0           Matt Ryan   35  QB  ATL  2020  16  16  407  626  4581  26  ATL   \n",
       "1           Tom Brady   43  QB  TAM  2020  16  16  401  610  4633  40   TB   \n",
       "2  Ben Roethlisberger   38  QB  PIT  2020  15  15  399  608  3803  33  PIT   \n",
       "3      Justin Herbert   22  QB  LAC  2020  15  15  396  595  4336  31  LAC   \n",
       "4     Patrick Mahomes   25  QB  KAN  2020  15  15  390  588  4740  38   KC   \n",
       "\n",
       "  Height   Weight      DOB  \n",
       "0   6'4\"  217 lbs  5/17/85  \n",
       "1   6'4\"  225 lbs   8/3/77  \n",
       "2   6'5\"  240 lbs   3/2/82  \n",
       "3   6'6\"  237 lbs  3/10/98  \n",
       "4   6'3\"  230 lbs  9/17/95  "
      ],
      "text/html": "<div>\n<style scoped>\n    .dataframe tbody tr th:only-of-type {\n        vertical-align: middle;\n    }\n\n    .dataframe tbody tr th {\n        vertical-align: top;\n    }\n\n    .dataframe thead th {\n        text-align: right;\n    }\n</style>\n<table border=\"1\" class=\"dataframe\">\n  <thead>\n    <tr style=\"text-align: right;\">\n      <th></th>\n      <th>Player Name</th>\n      <th>Age</th>\n      <th>Pos</th>\n      <th>Tm</th>\n      <th>Year</th>\n      <th>G</th>\n      <th>GS</th>\n      <th>Cmp</th>\n      <th>Att</th>\n      <th>Yds</th>\n      <th>TD</th>\n      <th>Team</th>\n      <th>Height</th>\n      <th>Weight</th>\n      <th>DOB</th>\n    </tr>\n  </thead>\n  <tbody>\n    <tr>\n      <th>0</th>\n      <td>Matt Ryan</td>\n      <td>35</td>\n      <td>QB</td>\n      <td>ATL</td>\n      <td>2020</td>\n      <td>16</td>\n      <td>16</td>\n      <td>407</td>\n      <td>626</td>\n      <td>4581</td>\n      <td>26</td>\n      <td>ATL</td>\n      <td>6'4\"</td>\n      <td>217 lbs</td>\n      <td>5/17/85</td>\n    </tr>\n    <tr>\n      <th>1</th>\n      <td>Tom Brady</td>\n      <td>43</td>\n      <td>QB</td>\n      <td>TAM</td>\n      <td>2020</td>\n      <td>16</td>\n      <td>16</td>\n      <td>401</td>\n      <td>610</td>\n      <td>4633</td>\n      <td>40</td>\n      <td>TB</td>\n      <td>6'4\"</td>\n      <td>225 lbs</td>\n      <td>8/3/77</td>\n    </tr>\n    <tr>\n      <th>2</th>\n      <td>Ben Roethlisberger</td>\n      <td>38</td>\n      <td>QB</td>\n      <td>PIT</td>\n      <td>2020</td>\n      <td>15</td>\n      <td>15</td>\n      <td>399</td>\n      <td>608</td>\n      <td>3803</td>\n      <td>33</td>\n      <td>PIT</td>\n      <td>6'5\"</td>\n      <td>240 lbs</td>\n      <td>3/2/82</td>\n    </tr>\n    <tr>\n      <th>3</th>\n      <td>Justin Herbert</td>\n      <td>22</td>\n      <td>QB</td>\n      <td>LAC</td>\n      <td>2020</td>\n      <td>15</td>\n      <td>15</td>\n      <td>396</td>\n      <td>595</td>\n      <td>4336</td>\n      <td>31</td>\n      <td>LAC</td>\n      <td>6'6\"</td>\n      <td>237 lbs</td>\n      <td>3/10/98</td>\n    </tr>\n    <tr>\n      <th>4</th>\n      <td>Patrick Mahomes</td>\n      <td>25</td>\n      <td>QB</td>\n      <td>KAN</td>\n      <td>2020</td>\n      <td>15</td>\n      <td>15</td>\n      <td>390</td>\n      <td>588</td>\n      <td>4740</td>\n      <td>38</td>\n      <td>KC</td>\n      <td>6'3\"</td>\n      <td>230 lbs</td>\n      <td>9/17/95</td>\n    </tr>\n  </tbody>\n</table>\n</div>"
     },
     "metadata": {},
     "execution_count": 138
    }
   ],
   "source": [
    "#DF_QB.merge(DFPM_Info, how='left', on='Player Name')\n",
    "DF_QB_PM = pd.merge(DF_QB, DFPM_Info, how='left', on=['Player Name', 'Pos'])\n",
    "DF_QB_PM = DF_QB_PM[DF_QB_PM['Att'] > 60]\n",
    "DF_QB_PM.head(5)\n"
   ]
  },
  {
   "cell_type": "code",
   "execution_count": 139,
   "metadata": {},
   "outputs": [
    {
     "output_type": "execute_result",
     "data": {
      "text/plain": [
       "Player Name    object\n",
       "Age             int64\n",
       "Pos            object\n",
       "Tm             object\n",
       "Year           object\n",
       "G               int64\n",
       "GS              int64\n",
       "Cmp             int64\n",
       "Att             int64\n",
       "Yds             int64\n",
       "TD              int64\n",
       "Team           object\n",
       "Height         object\n",
       "Weight         object\n",
       "DOB            object\n",
       "dtype: object"
      ]
     },
     "metadata": {},
     "execution_count": 139
    }
   ],
   "source": [
    "#convert Height to inches\n",
    "DF_QB_PM.dtypes\n",
    "# Feet = DF_QB_PM['Height'].str.split(\"'\").str[0]\n",
    "# Inches = DF_QB_PM['Height'].str.split(\"'\").str[1].replace(\"\\\"\",\"\")\n",
    "# Feet = Feet.values.tolist()\n",
    "# Inches = Inches.values.tolist()\n",
    "\n",
    "# def convert_height()\n",
    "\n",
    "#Height1 = + float(Inches) for value in DF_QB_PM\n",
    "# def parse_ht(ht):\n",
    "#     # format: 7' 0.0\"\n",
    "#     ht_ = ht.split(\"'\")\n",
    "#     ft_ = float(ht_[0])\n",
    "#     in_ = float(ht_[1].replace(\"\\\"\",\"\"))\n",
    "#     return (12*ft_) + in_\n",
    "\n",
    "# print DF_QB_PM[\"Height\"].apply(lambda x:parse_ht(x))"
   ]
  },
  {
   "cell_type": "code",
   "execution_count": null,
   "metadata": {},
   "outputs": [],
   "source": [
    "# #2018 merged data\n",
    "# DF_QB_PM_2018 = DF_QB_PM[DF_QB_PM['Year'] == '2018']\n",
    "\n",
    "# #2019 merged data\n",
    "# DF_QB_PM_2019 = DF_QB_PM[DF_QB_PM['Year'] == '2019']\n",
    "# #2020 merged data\n",
    "# DF_QB_PM_2020 = DF_QB_PM[DF_QB_PM['Year'] == '2020']\n",
    "# DF_QB_PM_2018.head(30)\n"
   ]
  },
  {
   "cell_type": "code",
   "execution_count": null,
   "metadata": {},
   "outputs": [],
   "source": [
    "# fig, axes = plt.subplots(1, 3, figsize=(20,10))\n",
    "# fig.suptitle('Completion Distribution by Height')\n",
    "# axes[0].set_title('2018')\n",
    "# axes[1].set_title('2019')\n",
    "# axes[2].set_title('2020')\n",
    "#2018\n",
    "plt.figure(figsize=(8,8))\n",
    "sns.displot(DF_QB_PM_2018['Height'])\n",
    "# sns.histplot(ax=axes[0], x=DF_QB_PM[DF_QB_PM['Height']], y=DF_QB_PM[DF_QB_PM['Cmp']]\n",
    "# axes[0].set_title('2018')\n"
   ]
  },
  {
   "cell_type": "code",
   "execution_count": null,
   "metadata": {},
   "outputs": [],
   "source": []
  }
 ]
}