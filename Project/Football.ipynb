{
 "metadata": {
  "language_info": {
   "codemirror_mode": {
    "name": "ipython",
    "version": 3
   },
   "file_extension": ".py",
   "mimetype": "text/x-python",
   "name": "python",
   "nbconvert_exporter": "python",
   "pygments_lexer": "ipython3",
   "version": "3.8.5-final"
  },
  "orig_nbformat": 2,
  "kernelspec": {
   "name": "python3",
   "display_name": "Python 3.8.5 64-bit ('base': conda)",
   "metadata": {
    "interpreter": {
     "hash": "96de974b01b046934b52f4b659c3191343687683fcc318550f674f99061b09c5"
    }
   }
  }
 },
 "nbformat": 4,
 "nbformat_minor": 2,
 "cells": [
  {
   "cell_type": "code",
   "execution_count": 44,
   "metadata": {},
   "outputs": [],
   "source": [
    "import pandas as pd\n",
    "import numpy as np \n",
    "import seaborn as sns\n",
    "from matplotlib import pyplot as plt\n",
    "sns.set()\n"
   ]
  },
  {
   "cell_type": "code",
   "execution_count": null,
   "metadata": {},
   "outputs": [],
   "source": [
    "#import 2020 QB stats CSV\n",
    "DF2020 = pd.read_csv('supp/2020QB.csv')\n",
    "#splitting on '\\' to keep player name\n",
    "Name = DF2020['Player'].str.split('\\\\').str[0]\n",
    "Name = Name.values.tolist()\n",
    "Name = Name\n",
    "#function to remove puncutaion from player names\n",
    "def remove_punc(string):\n",
    "    punc = '*+'\n",
    "    for ele in string:\n",
    "        if ele in punc:\n",
    "            string = string.replace(ele,'')\n",
    "    return string\n",
    "#needed to add .strip() to lagging white space which affected merge downstream\n",
    "Name = [remove_punc(i).strip() for i in Name]\n",
    "DF2020['Player Name'] = Name\n",
    "DF2020['Pos'] = DF2020['Pos'].str.upper()\n",
    "DF2020 = DF2020.iloc[:, 2:]\n",
    "DF2020['Year'] = '2020'\n",
    "\n"
   ]
  },
  {
   "cell_type": "code",
   "execution_count": 15,
   "metadata": {},
   "outputs": [],
   "source": [
    "#import 2019 QB stats CSV\n",
    "DF2019 = pd.read_csv('supp/2019QB.csv')\n",
    "#splitting on '\\' to keep player name\n",
    "Name = DF2019['Player'].str.split('\\\\').str[0]\n",
    "Name = Name.values.tolist()\n",
    "Name = Name\n",
    "#function to remove puncutaion from player names\n",
    "def remove_punc(string):\n",
    "    punc = '*+'\n",
    "    for ele in string:\n",
    "        if ele in punc:\n",
    "            string = string.replace(ele,'')\n",
    "    return string\n",
    "#needed to add .strip() to lagging white space which affected merge downstream\n",
    "Name = [remove_punc(i).strip() for i in Name]\n",
    "DF2019['Player Name'] = Name\n",
    "DF2019['Pos'] = DF2019['Pos'].str.upper()\n",
    "DF2019 = DF2019.iloc[:, 2:]\n",
    "DF2019['Year'] = '2019'\n",
    "\n"
   ]
  },
  {
   "cell_type": "code",
   "execution_count": 10,
   "metadata": {},
   "outputs": [],
   "source": [
    "#import 2018 QB stats CSV\n",
    "DF2018 = pd.read_csv('supp/2019QB.csv')\n",
    "#splitting on '\\' to keep player name\n",
    "Name = DF2018['Player'].str.split('\\\\').str[0]\n",
    "Name = Name.values.tolist()\n",
    "Name = Name\n",
    "#function to remove puncutaion from player names\n",
    "def remove_punc(string):\n",
    "    punc = '*+'\n",
    "    for ele in string:\n",
    "        if ele in punc:\n",
    "            string = string.replace(ele,'')\n",
    "    return string\n",
    "#needed to add .strip() to lagging white space which affected merge downstream\n",
    "Name = [remove_punc(i).strip() for i in Name]\n",
    "DF2018['Player Name'] = Name\n",
    "DF2018['Pos'] = DF2018['Pos'].str.upper()\n",
    "DF2018 = DF2018.iloc[:, 2:]\n",
    "DF2018['Year'] = '2018'"
   ]
  },
  {
   "cell_type": "code",
   "execution_count": 16,
   "metadata": {},
   "outputs": [],
   "source": [
    "#concat DF here with fields I want\n",
    "DF_QB = pd.concat([DF2020,DF2019,DF2018])\n",
    "DF_QB = DF_QB[['Player Name', 'Age', 'Pos', 'Tm', 'Year', 'G', 'GS', 'Cmp', 'Att', 'Yds', 'TD']]\n"
   ]
  },
  {
   "cell_type": "code",
   "execution_count": 19,
   "metadata": {
    "tags": []
   },
   "outputs": [],
   "source": [
    "DFPM = pd.read_csv('supp/playermeasureables - Sheet1.csv')\n",
    "Last_NamePM = DFPM['Player'].str.split(', ').str[0]\n",
    "Last_NamePM = Last_NamePM.values.tolist()\n",
    "First_NamePM = DFPM['Player'].str.split(', ').str[1]\n",
    "First_NamePM = First_NamePM.values.tolist()\n",
    "DFPM['First Name'] = First_NamePM\n",
    "DFPM['Last Name'] = Last_NamePM\n",
    "DFPM['Player Name'] = DFPM[['First Name', 'Last Name']].apply(lambda x: ' '.join(x), axis=1)\n",
    "DFPM_Info = DFPM[['Player Name', 'Pos', 'Team', 'Height', 'Weight', 'DOB']]\n",
    "#DFPM_Info.loc[DFPM_Info['Player Name']=='Patrick Mahomes']\n",
    "\n"
   ]
  },
  {
   "cell_type": "code",
   "execution_count": 41,
   "metadata": {},
   "outputs": [
    {
     "output_type": "execute_result",
     "data": {
      "text/plain": [
       "          Player Name  Age Pos   Tm  Year   G  GS  Cmp  Att   Yds  TD Team  \\\n",
       "0           Matt Ryan   35  QB  ATL  2020  16  16  407  626  4581  26  ATL   \n",
       "1           Tom Brady   43  QB  TAM  2020  16  16  401  610  4633  40   TB   \n",
       "2  Ben Roethlisberger   38  QB  PIT  2020  15  15  399  608  3803  33  PIT   \n",
       "3      Justin Herbert   22  QB  LAC  2020  15  15  396  595  4336  31  LAC   \n",
       "4     Patrick Mahomes   25  QB  KAN  2020  15  15  390  588  4740  38   KC   \n",
       "\n",
       "  Height   Weight      DOB  \n",
       "0   6'4\"  217 lbs  5/17/85  \n",
       "1   6'4\"  225 lbs   8/3/77  \n",
       "2   6'5\"  240 lbs   3/2/82  \n",
       "3   6'6\"  237 lbs  3/10/98  \n",
       "4   6'3\"  230 lbs  9/17/95  "
      ],
      "text/html": "<div>\n<style scoped>\n    .dataframe tbody tr th:only-of-type {\n        vertical-align: middle;\n    }\n\n    .dataframe tbody tr th {\n        vertical-align: top;\n    }\n\n    .dataframe thead th {\n        text-align: right;\n    }\n</style>\n<table border=\"1\" class=\"dataframe\">\n  <thead>\n    <tr style=\"text-align: right;\">\n      <th></th>\n      <th>Player Name</th>\n      <th>Age</th>\n      <th>Pos</th>\n      <th>Tm</th>\n      <th>Year</th>\n      <th>G</th>\n      <th>GS</th>\n      <th>Cmp</th>\n      <th>Att</th>\n      <th>Yds</th>\n      <th>TD</th>\n      <th>Team</th>\n      <th>Height</th>\n      <th>Weight</th>\n      <th>DOB</th>\n    </tr>\n  </thead>\n  <tbody>\n    <tr>\n      <th>0</th>\n      <td>Matt Ryan</td>\n      <td>35</td>\n      <td>QB</td>\n      <td>ATL</td>\n      <td>2020</td>\n      <td>16</td>\n      <td>16</td>\n      <td>407</td>\n      <td>626</td>\n      <td>4581</td>\n      <td>26</td>\n      <td>ATL</td>\n      <td>6'4\"</td>\n      <td>217 lbs</td>\n      <td>5/17/85</td>\n    </tr>\n    <tr>\n      <th>1</th>\n      <td>Tom Brady</td>\n      <td>43</td>\n      <td>QB</td>\n      <td>TAM</td>\n      <td>2020</td>\n      <td>16</td>\n      <td>16</td>\n      <td>401</td>\n      <td>610</td>\n      <td>4633</td>\n      <td>40</td>\n      <td>TB</td>\n      <td>6'4\"</td>\n      <td>225 lbs</td>\n      <td>8/3/77</td>\n    </tr>\n    <tr>\n      <th>2</th>\n      <td>Ben Roethlisberger</td>\n      <td>38</td>\n      <td>QB</td>\n      <td>PIT</td>\n      <td>2020</td>\n      <td>15</td>\n      <td>15</td>\n      <td>399</td>\n      <td>608</td>\n      <td>3803</td>\n      <td>33</td>\n      <td>PIT</td>\n      <td>6'5\"</td>\n      <td>240 lbs</td>\n      <td>3/2/82</td>\n    </tr>\n    <tr>\n      <th>3</th>\n      <td>Justin Herbert</td>\n      <td>22</td>\n      <td>QB</td>\n      <td>LAC</td>\n      <td>2020</td>\n      <td>15</td>\n      <td>15</td>\n      <td>396</td>\n      <td>595</td>\n      <td>4336</td>\n      <td>31</td>\n      <td>LAC</td>\n      <td>6'6\"</td>\n      <td>237 lbs</td>\n      <td>3/10/98</td>\n    </tr>\n    <tr>\n      <th>4</th>\n      <td>Patrick Mahomes</td>\n      <td>25</td>\n      <td>QB</td>\n      <td>KAN</td>\n      <td>2020</td>\n      <td>15</td>\n      <td>15</td>\n      <td>390</td>\n      <td>588</td>\n      <td>4740</td>\n      <td>38</td>\n      <td>KC</td>\n      <td>6'3\"</td>\n      <td>230 lbs</td>\n      <td>9/17/95</td>\n    </tr>\n  </tbody>\n</table>\n</div>"
     },
     "metadata": {},
     "execution_count": 41
    }
   ],
   "source": [
    "#DF_QB.merge(DFPM_Info, how='left', on='Player Name')\n",
    "DF_QB_PM = pd.merge(DF_QB, DFPM_Info, how='left', on=['Player Name', 'Pos'])\n",
    "DF_QB_PM = DF_QB_PM[DF_QB_PM['Att'] > 60]\n",
    "DF_QB_PM.head(5)"
   ]
  },
  {
   "cell_type": "code",
   "execution_count": 48,
   "metadata": {},
   "outputs": [
    {
     "output_type": "execute_result",
     "data": {
      "text/plain": [
       "            Player Name  Age Pos   Tm  Year   G  GS  Cmp  Att   Yds  TD Team  \\\n",
       "214          Jared Goff   25  QB  LAR  2018  16  16  394  626  4638  22  LAR   \n",
       "215      Jameis Winston   25  QB  TAM  2018  16  16  380  626  5109  33   NO   \n",
       "216           Matt Ryan   34  QB  ATL  2018  15  15  408  616  4466  26  ATL   \n",
       "217           Tom Brady   42  QB  NWE  2018  16  16  373  613  4057  24   TB   \n",
       "218        Carson Wentz   27  QB  PHI  2018  16  16  388  607  4039  27  IND   \n",
       "219        Dak Prescott   26  QB  DAL  2018  16  16  388  596  4902  30  DAL   \n",
       "220       Philip Rivers   38  QB  LAC  2018  16  16  390  591  4615  23  IND   \n",
       "221       Aaron Rodgers   36  QB  GNB  2018  16  16  353  569  4002  26   GB   \n",
       "222        Kyler Murray   22  QB  ARI  2018  16  16  349  542  3722  20  ARI   \n",
       "223      Baker Mayfield   24  QB  CLE  2018  16  16  317  534  3827  22  CLE   \n",
       "224         Andy Dalton   32  QB  CIN  2018  13  13  314  528  3494  16  DAL   \n",
       "225   Mitchell Trubisky   25  QB  CHI  2018  15  15  326  516  3138  17  CHI   \n",
       "226      Russell Wilson   31  QB  SEA  2018  16  16  341  516  4110  31  SEA   \n",
       "227          Derek Carr   28  QB  OAK  2018  16  16  361  513  4054  21   LV   \n",
       "228    Ryan Fitzpatrick   37  QB  MIA  2018  15  13  311  502  3529  20  MIA   \n",
       "229      Deshaun Watson   24  QB  HOU  2018  15  15  333  495  3852  26  HOU   \n",
       "230          Kyle Allen   23  QB  CAR  2018  13  12  303  489  3322  17  WAS   \n",
       "231     Patrick Mahomes   24  QB  KAN  2018  14  14  319  484  4031  26   KC   \n",
       "232     Jimmy Garoppolo   28  QB  SFO  2018  16  16  329  476  3978  27   SF   \n",
       "233  Gardner Minshew II   23  QB  JAX  2018  14  12  285  470  3271  21  JAC   \n",
       "234          Josh Allen   23  QB  BUF  2018  16  16  271  461  3089  20  BUF   \n",
       "235        Daniel Jones   22  QB  NYG  2018  13  12  284  459  3027  24  NYG   \n",
       "236     Jacoby Brissett   27  QB  IND  2018  15  15  272  447  2942  18  IND   \n",
       "237        Kirk Cousins   31  QB  MIN  2018  15  15  307  444  3603  26  MIN   \n",
       "238         Sam Darnold   22  QB  NYJ  2018  13  13  273  441  3024  19  NYJ   \n",
       "239       Lamar Jackson   22  QB  BAL  2018  15  15  265  401  3127  36  BAL   \n",
       "240          Drew Brees   40  QB  NOR  2018  11  11  281  378  2979  27   NO   \n",
       "241    Matthew Stafford   31  QB  DET  2018   8   8  187  291  2499  19  DET   \n",
       "242      Ryan Tannehill   31  QB  TEN  2018  12  10  201  286  2742  22  TEN   \n",
       "243       Mason Rudolph   24  QB  PIT  2018  10   8  176  283  1765  13  PIT   \n",
       "\n",
       "    Height   Weight       DOB  \n",
       "214   6'4\"  222 lbs  10/14/94  \n",
       "215   6'4\"  231 lbs    1/6/94  \n",
       "216   6'4\"  217 lbs   5/17/85  \n",
       "217   6'4\"  225 lbs    8/3/77  \n",
       "218   6'5\"  237 lbs  12/30/92  \n",
       "219   6'2\"  238 lbs   7/29/93  \n",
       "220   6'5\"  228 lbs   12/8/81  \n",
       "221   6'2\"  225 lbs   12/2/83  \n",
       "222  5'10\"  207 lbs    8/7/97  \n",
       "223   6'1\"  215 lbs   4/14/95  \n",
       "224   6'2\"  220 lbs  10/29/87  \n",
       "225   6'2\"  215 lbs   8/20/94  \n",
       "226  5'11\"  215 lbs  11/29/88  \n",
       "227   6'3\"  210 lbs   3/28/91  \n",
       "228   6'2\"  228 lbs  11/24/82  \n",
       "229   6'2\"  220 lbs   9/14/95  \n",
       "230   6'3\"  210 lbs    3/8/96  \n",
       "231   6'3\"  230 lbs   9/17/95  \n",
       "232   6'2\"  225 lbs   11/2/91  \n",
       "233   6'1\"  225 lbs   5/16/96  \n",
       "234   6'5\"  237 lbs   5/21/96  \n",
       "235   6'5\"  221 lbs   5/27/97  \n",
       "236   6'4\"  238 lbs  12/11/92  \n",
       "237   6'3\"  202 lbs   8/19/88  \n",
       "238   6'3\"  225 lbs    6/5/97  \n",
       "239   6'2\"  212 lbs    1/7/97  \n",
       "240   6'0\"  209 lbs   1/15/79  \n",
       "241   6'3\"  220 lbs    2/7/88  \n",
       "242   6'4\"  217 lbs   7/27/88  \n",
       "243   6'5\"  235 lbs   7/17/95  "
      ],
      "text/html": "<div>\n<style scoped>\n    .dataframe tbody tr th:only-of-type {\n        vertical-align: middle;\n    }\n\n    .dataframe tbody tr th {\n        vertical-align: top;\n    }\n\n    .dataframe thead th {\n        text-align: right;\n    }\n</style>\n<table border=\"1\" class=\"dataframe\">\n  <thead>\n    <tr style=\"text-align: right;\">\n      <th></th>\n      <th>Player Name</th>\n      <th>Age</th>\n      <th>Pos</th>\n      <th>Tm</th>\n      <th>Year</th>\n      <th>G</th>\n      <th>GS</th>\n      <th>Cmp</th>\n      <th>Att</th>\n      <th>Yds</th>\n      <th>TD</th>\n      <th>Team</th>\n      <th>Height</th>\n      <th>Weight</th>\n      <th>DOB</th>\n    </tr>\n  </thead>\n  <tbody>\n    <tr>\n      <th>214</th>\n      <td>Jared Goff</td>\n      <td>25</td>\n      <td>QB</td>\n      <td>LAR</td>\n      <td>2018</td>\n      <td>16</td>\n      <td>16</td>\n      <td>394</td>\n      <td>626</td>\n      <td>4638</td>\n      <td>22</td>\n      <td>LAR</td>\n      <td>6'4\"</td>\n      <td>222 lbs</td>\n      <td>10/14/94</td>\n    </tr>\n    <tr>\n      <th>215</th>\n      <td>Jameis Winston</td>\n      <td>25</td>\n      <td>QB</td>\n      <td>TAM</td>\n      <td>2018</td>\n      <td>16</td>\n      <td>16</td>\n      <td>380</td>\n      <td>626</td>\n      <td>5109</td>\n      <td>33</td>\n      <td>NO</td>\n      <td>6'4\"</td>\n      <td>231 lbs</td>\n      <td>1/6/94</td>\n    </tr>\n    <tr>\n      <th>216</th>\n      <td>Matt Ryan</td>\n      <td>34</td>\n      <td>QB</td>\n      <td>ATL</td>\n      <td>2018</td>\n      <td>15</td>\n      <td>15</td>\n      <td>408</td>\n      <td>616</td>\n      <td>4466</td>\n      <td>26</td>\n      <td>ATL</td>\n      <td>6'4\"</td>\n      <td>217 lbs</td>\n      <td>5/17/85</td>\n    </tr>\n    <tr>\n      <th>217</th>\n      <td>Tom Brady</td>\n      <td>42</td>\n      <td>QB</td>\n      <td>NWE</td>\n      <td>2018</td>\n      <td>16</td>\n      <td>16</td>\n      <td>373</td>\n      <td>613</td>\n      <td>4057</td>\n      <td>24</td>\n      <td>TB</td>\n      <td>6'4\"</td>\n      <td>225 lbs</td>\n      <td>8/3/77</td>\n    </tr>\n    <tr>\n      <th>218</th>\n      <td>Carson Wentz</td>\n      <td>27</td>\n      <td>QB</td>\n      <td>PHI</td>\n      <td>2018</td>\n      <td>16</td>\n      <td>16</td>\n      <td>388</td>\n      <td>607</td>\n      <td>4039</td>\n      <td>27</td>\n      <td>IND</td>\n      <td>6'5\"</td>\n      <td>237 lbs</td>\n      <td>12/30/92</td>\n    </tr>\n    <tr>\n      <th>219</th>\n      <td>Dak Prescott</td>\n      <td>26</td>\n      <td>QB</td>\n      <td>DAL</td>\n      <td>2018</td>\n      <td>16</td>\n      <td>16</td>\n      <td>388</td>\n      <td>596</td>\n      <td>4902</td>\n      <td>30</td>\n      <td>DAL</td>\n      <td>6'2\"</td>\n      <td>238 lbs</td>\n      <td>7/29/93</td>\n    </tr>\n    <tr>\n      <th>220</th>\n      <td>Philip Rivers</td>\n      <td>38</td>\n      <td>QB</td>\n      <td>LAC</td>\n      <td>2018</td>\n      <td>16</td>\n      <td>16</td>\n      <td>390</td>\n      <td>591</td>\n      <td>4615</td>\n      <td>23</td>\n      <td>IND</td>\n      <td>6'5\"</td>\n      <td>228 lbs</td>\n      <td>12/8/81</td>\n    </tr>\n    <tr>\n      <th>221</th>\n      <td>Aaron Rodgers</td>\n      <td>36</td>\n      <td>QB</td>\n      <td>GNB</td>\n      <td>2018</td>\n      <td>16</td>\n      <td>16</td>\n      <td>353</td>\n      <td>569</td>\n      <td>4002</td>\n      <td>26</td>\n      <td>GB</td>\n      <td>6'2\"</td>\n      <td>225 lbs</td>\n      <td>12/2/83</td>\n    </tr>\n    <tr>\n      <th>222</th>\n      <td>Kyler Murray</td>\n      <td>22</td>\n      <td>QB</td>\n      <td>ARI</td>\n      <td>2018</td>\n      <td>16</td>\n      <td>16</td>\n      <td>349</td>\n      <td>542</td>\n      <td>3722</td>\n      <td>20</td>\n      <td>ARI</td>\n      <td>5'10\"</td>\n      <td>207 lbs</td>\n      <td>8/7/97</td>\n    </tr>\n    <tr>\n      <th>223</th>\n      <td>Baker Mayfield</td>\n      <td>24</td>\n      <td>QB</td>\n      <td>CLE</td>\n      <td>2018</td>\n      <td>16</td>\n      <td>16</td>\n      <td>317</td>\n      <td>534</td>\n      <td>3827</td>\n      <td>22</td>\n      <td>CLE</td>\n      <td>6'1\"</td>\n      <td>215 lbs</td>\n      <td>4/14/95</td>\n    </tr>\n    <tr>\n      <th>224</th>\n      <td>Andy Dalton</td>\n      <td>32</td>\n      <td>QB</td>\n      <td>CIN</td>\n      <td>2018</td>\n      <td>13</td>\n      <td>13</td>\n      <td>314</td>\n      <td>528</td>\n      <td>3494</td>\n      <td>16</td>\n      <td>DAL</td>\n      <td>6'2\"</td>\n      <td>220 lbs</td>\n      <td>10/29/87</td>\n    </tr>\n    <tr>\n      <th>225</th>\n      <td>Mitchell Trubisky</td>\n      <td>25</td>\n      <td>QB</td>\n      <td>CHI</td>\n      <td>2018</td>\n      <td>15</td>\n      <td>15</td>\n      <td>326</td>\n      <td>516</td>\n      <td>3138</td>\n      <td>17</td>\n      <td>CHI</td>\n      <td>6'2\"</td>\n      <td>215 lbs</td>\n      <td>8/20/94</td>\n    </tr>\n    <tr>\n      <th>226</th>\n      <td>Russell Wilson</td>\n      <td>31</td>\n      <td>QB</td>\n      <td>SEA</td>\n      <td>2018</td>\n      <td>16</td>\n      <td>16</td>\n      <td>341</td>\n      <td>516</td>\n      <td>4110</td>\n      <td>31</td>\n      <td>SEA</td>\n      <td>5'11\"</td>\n      <td>215 lbs</td>\n      <td>11/29/88</td>\n    </tr>\n    <tr>\n      <th>227</th>\n      <td>Derek Carr</td>\n      <td>28</td>\n      <td>QB</td>\n      <td>OAK</td>\n      <td>2018</td>\n      <td>16</td>\n      <td>16</td>\n      <td>361</td>\n      <td>513</td>\n      <td>4054</td>\n      <td>21</td>\n      <td>LV</td>\n      <td>6'3\"</td>\n      <td>210 lbs</td>\n      <td>3/28/91</td>\n    </tr>\n    <tr>\n      <th>228</th>\n      <td>Ryan Fitzpatrick</td>\n      <td>37</td>\n      <td>QB</td>\n      <td>MIA</td>\n      <td>2018</td>\n      <td>15</td>\n      <td>13</td>\n      <td>311</td>\n      <td>502</td>\n      <td>3529</td>\n      <td>20</td>\n      <td>MIA</td>\n      <td>6'2\"</td>\n      <td>228 lbs</td>\n      <td>11/24/82</td>\n    </tr>\n    <tr>\n      <th>229</th>\n      <td>Deshaun Watson</td>\n      <td>24</td>\n      <td>QB</td>\n      <td>HOU</td>\n      <td>2018</td>\n      <td>15</td>\n      <td>15</td>\n      <td>333</td>\n      <td>495</td>\n      <td>3852</td>\n      <td>26</td>\n      <td>HOU</td>\n      <td>6'2\"</td>\n      <td>220 lbs</td>\n      <td>9/14/95</td>\n    </tr>\n    <tr>\n      <th>230</th>\n      <td>Kyle Allen</td>\n      <td>23</td>\n      <td>QB</td>\n      <td>CAR</td>\n      <td>2018</td>\n      <td>13</td>\n      <td>12</td>\n      <td>303</td>\n      <td>489</td>\n      <td>3322</td>\n      <td>17</td>\n      <td>WAS</td>\n      <td>6'3\"</td>\n      <td>210 lbs</td>\n      <td>3/8/96</td>\n    </tr>\n    <tr>\n      <th>231</th>\n      <td>Patrick Mahomes</td>\n      <td>24</td>\n      <td>QB</td>\n      <td>KAN</td>\n      <td>2018</td>\n      <td>14</td>\n      <td>14</td>\n      <td>319</td>\n      <td>484</td>\n      <td>4031</td>\n      <td>26</td>\n      <td>KC</td>\n      <td>6'3\"</td>\n      <td>230 lbs</td>\n      <td>9/17/95</td>\n    </tr>\n    <tr>\n      <th>232</th>\n      <td>Jimmy Garoppolo</td>\n      <td>28</td>\n      <td>QB</td>\n      <td>SFO</td>\n      <td>2018</td>\n      <td>16</td>\n      <td>16</td>\n      <td>329</td>\n      <td>476</td>\n      <td>3978</td>\n      <td>27</td>\n      <td>SF</td>\n      <td>6'2\"</td>\n      <td>225 lbs</td>\n      <td>11/2/91</td>\n    </tr>\n    <tr>\n      <th>233</th>\n      <td>Gardner Minshew II</td>\n      <td>23</td>\n      <td>QB</td>\n      <td>JAX</td>\n      <td>2018</td>\n      <td>14</td>\n      <td>12</td>\n      <td>285</td>\n      <td>470</td>\n      <td>3271</td>\n      <td>21</td>\n      <td>JAC</td>\n      <td>6'1\"</td>\n      <td>225 lbs</td>\n      <td>5/16/96</td>\n    </tr>\n    <tr>\n      <th>234</th>\n      <td>Josh Allen</td>\n      <td>23</td>\n      <td>QB</td>\n      <td>BUF</td>\n      <td>2018</td>\n      <td>16</td>\n      <td>16</td>\n      <td>271</td>\n      <td>461</td>\n      <td>3089</td>\n      <td>20</td>\n      <td>BUF</td>\n      <td>6'5\"</td>\n      <td>237 lbs</td>\n      <td>5/21/96</td>\n    </tr>\n    <tr>\n      <th>235</th>\n      <td>Daniel Jones</td>\n      <td>22</td>\n      <td>QB</td>\n      <td>NYG</td>\n      <td>2018</td>\n      <td>13</td>\n      <td>12</td>\n      <td>284</td>\n      <td>459</td>\n      <td>3027</td>\n      <td>24</td>\n      <td>NYG</td>\n      <td>6'5\"</td>\n      <td>221 lbs</td>\n      <td>5/27/97</td>\n    </tr>\n    <tr>\n      <th>236</th>\n      <td>Jacoby Brissett</td>\n      <td>27</td>\n      <td>QB</td>\n      <td>IND</td>\n      <td>2018</td>\n      <td>15</td>\n      <td>15</td>\n      <td>272</td>\n      <td>447</td>\n      <td>2942</td>\n      <td>18</td>\n      <td>IND</td>\n      <td>6'4\"</td>\n      <td>238 lbs</td>\n      <td>12/11/92</td>\n    </tr>\n    <tr>\n      <th>237</th>\n      <td>Kirk Cousins</td>\n      <td>31</td>\n      <td>QB</td>\n      <td>MIN</td>\n      <td>2018</td>\n      <td>15</td>\n      <td>15</td>\n      <td>307</td>\n      <td>444</td>\n      <td>3603</td>\n      <td>26</td>\n      <td>MIN</td>\n      <td>6'3\"</td>\n      <td>202 lbs</td>\n      <td>8/19/88</td>\n    </tr>\n    <tr>\n      <th>238</th>\n      <td>Sam Darnold</td>\n      <td>22</td>\n      <td>QB</td>\n      <td>NYJ</td>\n      <td>2018</td>\n      <td>13</td>\n      <td>13</td>\n      <td>273</td>\n      <td>441</td>\n      <td>3024</td>\n      <td>19</td>\n      <td>NYJ</td>\n      <td>6'3\"</td>\n      <td>225 lbs</td>\n      <td>6/5/97</td>\n    </tr>\n    <tr>\n      <th>239</th>\n      <td>Lamar Jackson</td>\n      <td>22</td>\n      <td>QB</td>\n      <td>BAL</td>\n      <td>2018</td>\n      <td>15</td>\n      <td>15</td>\n      <td>265</td>\n      <td>401</td>\n      <td>3127</td>\n      <td>36</td>\n      <td>BAL</td>\n      <td>6'2\"</td>\n      <td>212 lbs</td>\n      <td>1/7/97</td>\n    </tr>\n    <tr>\n      <th>240</th>\n      <td>Drew Brees</td>\n      <td>40</td>\n      <td>QB</td>\n      <td>NOR</td>\n      <td>2018</td>\n      <td>11</td>\n      <td>11</td>\n      <td>281</td>\n      <td>378</td>\n      <td>2979</td>\n      <td>27</td>\n      <td>NO</td>\n      <td>6'0\"</td>\n      <td>209 lbs</td>\n      <td>1/15/79</td>\n    </tr>\n    <tr>\n      <th>241</th>\n      <td>Matthew Stafford</td>\n      <td>31</td>\n      <td>QB</td>\n      <td>DET</td>\n      <td>2018</td>\n      <td>8</td>\n      <td>8</td>\n      <td>187</td>\n      <td>291</td>\n      <td>2499</td>\n      <td>19</td>\n      <td>DET</td>\n      <td>6'3\"</td>\n      <td>220 lbs</td>\n      <td>2/7/88</td>\n    </tr>\n    <tr>\n      <th>242</th>\n      <td>Ryan Tannehill</td>\n      <td>31</td>\n      <td>QB</td>\n      <td>TEN</td>\n      <td>2018</td>\n      <td>12</td>\n      <td>10</td>\n      <td>201</td>\n      <td>286</td>\n      <td>2742</td>\n      <td>22</td>\n      <td>TEN</td>\n      <td>6'4\"</td>\n      <td>217 lbs</td>\n      <td>7/27/88</td>\n    </tr>\n    <tr>\n      <th>243</th>\n      <td>Mason Rudolph</td>\n      <td>24</td>\n      <td>QB</td>\n      <td>PIT</td>\n      <td>2018</td>\n      <td>10</td>\n      <td>8</td>\n      <td>176</td>\n      <td>283</td>\n      <td>1765</td>\n      <td>13</td>\n      <td>PIT</td>\n      <td>6'5\"</td>\n      <td>235 lbs</td>\n      <td>7/17/95</td>\n    </tr>\n  </tbody>\n</table>\n</div>"
     },
     "metadata": {},
     "execution_count": 48
    }
   ],
   "source": [
    "#2018 merged data\n",
    "DF_QB_PM_2018 = DF_QB_PM[DF_QB_PM['Year'] == '2018']\n",
    "\n",
    "#2019 merged data\n",
    "DF_QB_PM_2019 = DF_QB_PM[DF_QB_PM['Year'] == '2019']\n",
    "#2020 merged data\n",
    "DF_QB_PM_2020 = DF_QB_PM[DF_QB_PM['Year'] == '2020']\n",
    "DF_QB_PM_2018.head(30)\n"
   ]
  },
  {
   "cell_type": "code",
   "execution_count": 58,
   "metadata": {},
   "outputs": [
    {
     "output_type": "error",
     "ename": "ConversionError",
     "evalue": "Failed to convert value(s) to axis units: 0      6'4\"\n1      6'4\"\n2      6'4\"\n3      6'4\"\n4      6'5\"\n5      6'2\"\n6      6'5\"\n7      6'2\"\n8     5'10\"\n9      6'1\"\n10     6'2\"\n11     6'2\"\n12    5'11\"\n13     6'3\"\n14     6'2\"\n15     6'2\"\n16     6'3\"\n17     6'3\"\n18     6'2\"\n19     6'1\"\n20     6'5\"\n21     6'5\"\n22     6'4\"\n23     6'3\"\n24     6'3\"\n25     6'2\"\n26     6'0\"\n27     6'3\"\n28     6'4\"\n29     6'5\"\n30      NaN\n31      NaN\n32      NaN\n33     6'2\"\n34     6'1\"\n35      NaN\n36     6'4\"\n37     6'4\"\n38      NaN\n39      NaN\n40      NaN\n41      NaN\n42      NaN\n43      NaN\n44      NaN\n45      NaN\n46      NaN\n47      NaN\n48      NaN\n49      NaN\n50      NaN\nName: x, dtype: object",
     "traceback": [
      "\u001b[0;31m---------------------------------------------------------------------------\u001b[0m",
      "\u001b[0;31mTypeError\u001b[0m                                 Traceback (most recent call last)",
      "\u001b[0;32m~/opt/anaconda3/lib/python3.8/site-packages/matplotlib/axis.py\u001b[0m in \u001b[0;36mconvert_units\u001b[0;34m(self, x)\u001b[0m\n\u001b[1;32m   1519\u001b[0m         \u001b[0;32mtry\u001b[0m\u001b[0;34m:\u001b[0m\u001b[0;34m\u001b[0m\u001b[0;34m\u001b[0m\u001b[0m\n\u001b[0;32m-> 1520\u001b[0;31m             \u001b[0mret\u001b[0m \u001b[0;34m=\u001b[0m \u001b[0mself\u001b[0m\u001b[0;34m.\u001b[0m\u001b[0mconverter\u001b[0m\u001b[0;34m.\u001b[0m\u001b[0mconvert\u001b[0m\u001b[0;34m(\u001b[0m\u001b[0mx\u001b[0m\u001b[0;34m,\u001b[0m \u001b[0mself\u001b[0m\u001b[0;34m.\u001b[0m\u001b[0munits\u001b[0m\u001b[0;34m,\u001b[0m \u001b[0mself\u001b[0m\u001b[0;34m)\u001b[0m\u001b[0;34m\u001b[0m\u001b[0;34m\u001b[0m\u001b[0m\n\u001b[0m\u001b[1;32m   1521\u001b[0m         \u001b[0;32mexcept\u001b[0m \u001b[0mException\u001b[0m \u001b[0;32mas\u001b[0m \u001b[0me\u001b[0m\u001b[0;34m:\u001b[0m\u001b[0;34m\u001b[0m\u001b[0;34m\u001b[0m\u001b[0m\n",
      "\u001b[0;32m~/opt/anaconda3/lib/python3.8/site-packages/matplotlib/category.py\u001b[0m in \u001b[0;36mconvert\u001b[0;34m(value, unit, axis)\u001b[0m\n\u001b[1;32m     60\u001b[0m         \u001b[0;31m# force an update so it also does type checking\u001b[0m\u001b[0;34m\u001b[0m\u001b[0;34m\u001b[0m\u001b[0;34m\u001b[0m\u001b[0m\n\u001b[0;32m---> 61\u001b[0;31m         \u001b[0munit\u001b[0m\u001b[0;34m.\u001b[0m\u001b[0mupdate\u001b[0m\u001b[0;34m(\u001b[0m\u001b[0mvalues\u001b[0m\u001b[0;34m)\u001b[0m\u001b[0;34m\u001b[0m\u001b[0;34m\u001b[0m\u001b[0m\n\u001b[0m\u001b[1;32m     62\u001b[0m         \u001b[0;32mreturn\u001b[0m \u001b[0mnp\u001b[0m\u001b[0;34m.\u001b[0m\u001b[0mvectorize\u001b[0m\u001b[0;34m(\u001b[0m\u001b[0munit\u001b[0m\u001b[0;34m.\u001b[0m\u001b[0m_mapping\u001b[0m\u001b[0;34m.\u001b[0m\u001b[0m__getitem__\u001b[0m\u001b[0;34m,\u001b[0m \u001b[0motypes\u001b[0m\u001b[0;34m=\u001b[0m\u001b[0;34m[\u001b[0m\u001b[0mfloat\u001b[0m\u001b[0;34m]\u001b[0m\u001b[0;34m)\u001b[0m\u001b[0;34m(\u001b[0m\u001b[0mvalues\u001b[0m\u001b[0;34m)\u001b[0m\u001b[0;34m\u001b[0m\u001b[0;34m\u001b[0m\u001b[0m\n",
      "\u001b[0;32m~/opt/anaconda3/lib/python3.8/site-packages/matplotlib/category.py\u001b[0m in \u001b[0;36mupdate\u001b[0;34m(self, data)\u001b[0m\n\u001b[1;32m    210\u001b[0m             \u001b[0;31m# OrderedDict just iterates over unique values in data.\u001b[0m\u001b[0;34m\u001b[0m\u001b[0;34m\u001b[0m\u001b[0;34m\u001b[0m\u001b[0m\n\u001b[0;32m--> 211\u001b[0;31m             \u001b[0mcbook\u001b[0m\u001b[0;34m.\u001b[0m\u001b[0m_check_isinstance\u001b[0m\u001b[0;34m(\u001b[0m\u001b[0;34m(\u001b[0m\u001b[0mstr\u001b[0m\u001b[0;34m,\u001b[0m \u001b[0mbytes\u001b[0m\u001b[0;34m)\u001b[0m\u001b[0;34m,\u001b[0m \u001b[0mvalue\u001b[0m\u001b[0;34m=\u001b[0m\u001b[0mval\u001b[0m\u001b[0;34m)\u001b[0m\u001b[0;34m\u001b[0m\u001b[0;34m\u001b[0m\u001b[0m\n\u001b[0m\u001b[1;32m    212\u001b[0m             \u001b[0;32mif\u001b[0m \u001b[0mconvertible\u001b[0m\u001b[0;34m:\u001b[0m\u001b[0;34m\u001b[0m\u001b[0;34m\u001b[0m\u001b[0m\n",
      "\u001b[0;32m~/opt/anaconda3/lib/python3.8/site-packages/matplotlib/cbook/__init__.py\u001b[0m in \u001b[0;36m_check_isinstance\u001b[0;34m(_types, **kwargs)\u001b[0m\n\u001b[1;32m   2245\u001b[0m         \u001b[0;32mif\u001b[0m \u001b[0;32mnot\u001b[0m \u001b[0misinstance\u001b[0m\u001b[0;34m(\u001b[0m\u001b[0mv\u001b[0m\u001b[0;34m,\u001b[0m \u001b[0mtypes\u001b[0m\u001b[0;34m)\u001b[0m\u001b[0;34m:\u001b[0m\u001b[0;34m\u001b[0m\u001b[0;34m\u001b[0m\u001b[0m\n\u001b[0;32m-> 2246\u001b[0;31m             raise TypeError(\n\u001b[0m\u001b[1;32m   2247\u001b[0m                 \"{!r} must be an instance of {}, not a {}\".format(\n",
      "\u001b[0;31mTypeError\u001b[0m: 'value' must be an instance of str or bytes, not a float",
      "\nThe above exception was the direct cause of the following exception:\n",
      "\u001b[0;31mConversionError\u001b[0m                           Traceback (most recent call last)",
      "\u001b[0;32m<ipython-input-58-a098af5f1127>\u001b[0m in \u001b[0;36m<module>\u001b[0;34m\u001b[0m\n\u001b[1;32m      6\u001b[0m \u001b[0;31m#2018\u001b[0m\u001b[0;34m\u001b[0m\u001b[0;34m\u001b[0m\u001b[0;34m\u001b[0m\u001b[0m\n\u001b[1;32m      7\u001b[0m \u001b[0mplt\u001b[0m\u001b[0;34m.\u001b[0m\u001b[0mfigure\u001b[0m\u001b[0;34m(\u001b[0m\u001b[0mfigsize\u001b[0m\u001b[0;34m=\u001b[0m\u001b[0;34m(\u001b[0m\u001b[0;36m8\u001b[0m\u001b[0;34m,\u001b[0m\u001b[0;36m8\u001b[0m\u001b[0;34m)\u001b[0m\u001b[0;34m)\u001b[0m\u001b[0;34m\u001b[0m\u001b[0;34m\u001b[0m\u001b[0m\n\u001b[0;32m----> 8\u001b[0;31m \u001b[0msns\u001b[0m\u001b[0;34m.\u001b[0m\u001b[0mdisplot\u001b[0m\u001b[0;34m(\u001b[0m\u001b[0mDF_QB_PM_2018\u001b[0m\u001b[0;34m[\u001b[0m\u001b[0;34m'Height'\u001b[0m\u001b[0;34m]\u001b[0m\u001b[0;34m)\u001b[0m\u001b[0;34m\u001b[0m\u001b[0;34m\u001b[0m\u001b[0m\n\u001b[0m\u001b[1;32m      9\u001b[0m \u001b[0;31m# sns.histplot(ax=axes[0], x=DF_QB_PM[DF_QB_PM['Height']], y=DF_QB_PM[DF_QB_PM['Cmp']]\u001b[0m\u001b[0;34m\u001b[0m\u001b[0;34m\u001b[0m\u001b[0;34m\u001b[0m\u001b[0m\n\u001b[1;32m     10\u001b[0m \u001b[0;31m# axes[0].set_title('2018')\u001b[0m\u001b[0;34m\u001b[0m\u001b[0;34m\u001b[0m\u001b[0;34m\u001b[0m\u001b[0m\n",
      "\u001b[0;32m~/opt/anaconda3/lib/python3.8/site-packages/seaborn/distributions.py\u001b[0m in \u001b[0;36mdisplot\u001b[0;34m(data, x, y, hue, row, col, weights, kind, rug, rug_kws, log_scale, legend, palette, hue_order, hue_norm, color, col_wrap, row_order, col_order, height, aspect, facet_kws, **kwargs)\u001b[0m\n\u001b[1;32m   2222\u001b[0m \u001b[0;34m\u001b[0m\u001b[0m\n\u001b[1;32m   2223\u001b[0m             \u001b[0m_assign_default_kwargs\u001b[0m\u001b[0;34m(\u001b[0m\u001b[0mhist_kws\u001b[0m\u001b[0;34m,\u001b[0m \u001b[0mp\u001b[0m\u001b[0;34m.\u001b[0m\u001b[0mplot_univariate_histogram\u001b[0m\u001b[0;34m,\u001b[0m \u001b[0mhistplot\u001b[0m\u001b[0;34m)\u001b[0m\u001b[0;34m\u001b[0m\u001b[0;34m\u001b[0m\u001b[0m\n\u001b[0;32m-> 2224\u001b[0;31m             \u001b[0mp\u001b[0m\u001b[0;34m.\u001b[0m\u001b[0mplot_univariate_histogram\u001b[0m\u001b[0;34m(\u001b[0m\u001b[0;34m**\u001b[0m\u001b[0mhist_kws\u001b[0m\u001b[0;34m)\u001b[0m\u001b[0;34m\u001b[0m\u001b[0;34m\u001b[0m\u001b[0m\n\u001b[0m\u001b[1;32m   2225\u001b[0m \u001b[0;34m\u001b[0m\u001b[0m\n\u001b[1;32m   2226\u001b[0m         \u001b[0;32melse\u001b[0m\u001b[0;34m:\u001b[0m\u001b[0;34m\u001b[0m\u001b[0;34m\u001b[0m\u001b[0m\n",
      "\u001b[0;32m~/opt/anaconda3/lib/python3.8/site-packages/seaborn/distributions.py\u001b[0m in \u001b[0;36mplot_univariate_histogram\u001b[0;34m(self, multiple, element, fill, common_norm, common_bins, shrink, kde, kde_kws, color, legend, line_kws, estimate_kws, **plot_kws)\u001b[0m\n\u001b[1;32m    421\u001b[0m \u001b[0;34m\u001b[0m\u001b[0m\n\u001b[1;32m    422\u001b[0m         \u001b[0;31m# First pass through the data to compute the histograms\u001b[0m\u001b[0;34m\u001b[0m\u001b[0;34m\u001b[0m\u001b[0;34m\u001b[0m\u001b[0m\n\u001b[0;32m--> 423\u001b[0;31m         \u001b[0;32mfor\u001b[0m \u001b[0msub_vars\u001b[0m\u001b[0;34m,\u001b[0m \u001b[0msub_data\u001b[0m \u001b[0;32min\u001b[0m \u001b[0mself\u001b[0m\u001b[0;34m.\u001b[0m\u001b[0miter_data\u001b[0m\u001b[0;34m(\u001b[0m\u001b[0;34m\"hue\"\u001b[0m\u001b[0;34m,\u001b[0m \u001b[0mfrom_comp_data\u001b[0m\u001b[0;34m=\u001b[0m\u001b[0;32mTrue\u001b[0m\u001b[0;34m)\u001b[0m\u001b[0;34m:\u001b[0m\u001b[0;34m\u001b[0m\u001b[0;34m\u001b[0m\u001b[0m\n\u001b[0m\u001b[1;32m    424\u001b[0m \u001b[0;34m\u001b[0m\u001b[0m\n\u001b[1;32m    425\u001b[0m             \u001b[0;31m# Prepare the relevant data\u001b[0m\u001b[0;34m\u001b[0m\u001b[0;34m\u001b[0m\u001b[0;34m\u001b[0m\u001b[0m\n",
      "\u001b[0;32m~/opt/anaconda3/lib/python3.8/site-packages/seaborn/_core.py\u001b[0m in \u001b[0;36miter_data\u001b[0;34m(self, grouping_vars, reverse, from_comp_data)\u001b[0m\n\u001b[1;32m    965\u001b[0m \u001b[0;34m\u001b[0m\u001b[0m\n\u001b[1;32m    966\u001b[0m         \u001b[0;32mif\u001b[0m \u001b[0mfrom_comp_data\u001b[0m\u001b[0;34m:\u001b[0m\u001b[0;34m\u001b[0m\u001b[0;34m\u001b[0m\u001b[0m\n\u001b[0;32m--> 967\u001b[0;31m             \u001b[0mdata\u001b[0m \u001b[0;34m=\u001b[0m \u001b[0mself\u001b[0m\u001b[0;34m.\u001b[0m\u001b[0mcomp_data\u001b[0m\u001b[0;34m\u001b[0m\u001b[0;34m\u001b[0m\u001b[0m\n\u001b[0m\u001b[1;32m    968\u001b[0m         \u001b[0;32melse\u001b[0m\u001b[0;34m:\u001b[0m\u001b[0;34m\u001b[0m\u001b[0;34m\u001b[0m\u001b[0m\n\u001b[1;32m    969\u001b[0m             \u001b[0mdata\u001b[0m \u001b[0;34m=\u001b[0m \u001b[0mself\u001b[0m\u001b[0;34m.\u001b[0m\u001b[0mplot_data\u001b[0m\u001b[0;34m\u001b[0m\u001b[0;34m\u001b[0m\u001b[0m\n",
      "\u001b[0;32m~/opt/anaconda3/lib/python3.8/site-packages/seaborn/_core.py\u001b[0m in \u001b[0;36mcomp_data\u001b[0;34m(self)\u001b[0m\n\u001b[1;32m   1034\u001b[0m                 \u001b[0maxis\u001b[0m \u001b[0;34m=\u001b[0m \u001b[0mgetattr\u001b[0m\u001b[0;34m(\u001b[0m\u001b[0max\u001b[0m\u001b[0;34m,\u001b[0m \u001b[0;34mf\"{var}axis\"\u001b[0m\u001b[0;34m)\u001b[0m\u001b[0;34m\u001b[0m\u001b[0;34m\u001b[0m\u001b[0m\n\u001b[1;32m   1035\u001b[0m \u001b[0;34m\u001b[0m\u001b[0m\n\u001b[0;32m-> 1036\u001b[0;31m                 \u001b[0mcomp_var\u001b[0m \u001b[0;34m=\u001b[0m \u001b[0maxis\u001b[0m\u001b[0;34m.\u001b[0m\u001b[0mconvert_units\u001b[0m\u001b[0;34m(\u001b[0m\u001b[0mself\u001b[0m\u001b[0;34m.\u001b[0m\u001b[0mplot_data\u001b[0m\u001b[0;34m[\u001b[0m\u001b[0mvar\u001b[0m\u001b[0;34m]\u001b[0m\u001b[0;34m)\u001b[0m\u001b[0;34m\u001b[0m\u001b[0;34m\u001b[0m\u001b[0m\n\u001b[0m\u001b[1;32m   1037\u001b[0m                 \u001b[0;32mif\u001b[0m \u001b[0maxis\u001b[0m\u001b[0;34m.\u001b[0m\u001b[0mget_scale\u001b[0m\u001b[0;34m(\u001b[0m\u001b[0;34m)\u001b[0m \u001b[0;34m==\u001b[0m \u001b[0;34m\"log\"\u001b[0m\u001b[0;34m:\u001b[0m\u001b[0;34m\u001b[0m\u001b[0;34m\u001b[0m\u001b[0m\n\u001b[1;32m   1038\u001b[0m                     \u001b[0mcomp_var\u001b[0m \u001b[0;34m=\u001b[0m \u001b[0mnp\u001b[0m\u001b[0;34m.\u001b[0m\u001b[0mlog10\u001b[0m\u001b[0;34m(\u001b[0m\u001b[0mcomp_var\u001b[0m\u001b[0;34m)\u001b[0m\u001b[0;34m\u001b[0m\u001b[0;34m\u001b[0m\u001b[0m\n",
      "\u001b[0;32m~/opt/anaconda3/lib/python3.8/site-packages/matplotlib/axis.py\u001b[0m in \u001b[0;36mconvert_units\u001b[0;34m(self, x)\u001b[0m\n\u001b[1;32m   1520\u001b[0m             \u001b[0mret\u001b[0m \u001b[0;34m=\u001b[0m \u001b[0mself\u001b[0m\u001b[0;34m.\u001b[0m\u001b[0mconverter\u001b[0m\u001b[0;34m.\u001b[0m\u001b[0mconvert\u001b[0m\u001b[0;34m(\u001b[0m\u001b[0mx\u001b[0m\u001b[0;34m,\u001b[0m \u001b[0mself\u001b[0m\u001b[0;34m.\u001b[0m\u001b[0munits\u001b[0m\u001b[0;34m,\u001b[0m \u001b[0mself\u001b[0m\u001b[0;34m)\u001b[0m\u001b[0;34m\u001b[0m\u001b[0;34m\u001b[0m\u001b[0m\n\u001b[1;32m   1521\u001b[0m         \u001b[0;32mexcept\u001b[0m \u001b[0mException\u001b[0m \u001b[0;32mas\u001b[0m \u001b[0me\u001b[0m\u001b[0;34m:\u001b[0m\u001b[0;34m\u001b[0m\u001b[0;34m\u001b[0m\u001b[0m\n\u001b[0;32m-> 1522\u001b[0;31m             raise munits.ConversionError('Failed to convert value(s) to axis '\n\u001b[0m\u001b[1;32m   1523\u001b[0m                                          f'units: {x!r}') from e\n\u001b[1;32m   1524\u001b[0m         \u001b[0;32mreturn\u001b[0m \u001b[0mret\u001b[0m\u001b[0;34m\u001b[0m\u001b[0;34m\u001b[0m\u001b[0m\n",
      "\u001b[0;31mConversionError\u001b[0m: Failed to convert value(s) to axis units: 0      6'4\"\n1      6'4\"\n2      6'4\"\n3      6'4\"\n4      6'5\"\n5      6'2\"\n6      6'5\"\n7      6'2\"\n8     5'10\"\n9      6'1\"\n10     6'2\"\n11     6'2\"\n12    5'11\"\n13     6'3\"\n14     6'2\"\n15     6'2\"\n16     6'3\"\n17     6'3\"\n18     6'2\"\n19     6'1\"\n20     6'5\"\n21     6'5\"\n22     6'4\"\n23     6'3\"\n24     6'3\"\n25     6'2\"\n26     6'0\"\n27     6'3\"\n28     6'4\"\n29     6'5\"\n30      NaN\n31      NaN\n32      NaN\n33     6'2\"\n34     6'1\"\n35      NaN\n36     6'4\"\n37     6'4\"\n38      NaN\n39      NaN\n40      NaN\n41      NaN\n42      NaN\n43      NaN\n44      NaN\n45      NaN\n46      NaN\n47      NaN\n48      NaN\n49      NaN\n50      NaN\nName: x, dtype: object"
     ]
    }
   ],
   "source": [
    "# fig, axes = plt.subplots(1, 3, figsize=(20,10))\n",
    "# fig.suptitle('Completion Distribution by Height')\n",
    "# axes[0].set_title('2018')\n",
    "# axes[1].set_title('2019')\n",
    "# axes[2].set_title('2020')\n",
    "#2018\n",
    "plt.figure(figsize=(8,8))\n",
    "sns.displot(DF_QB_PM_2018['Height'])\n",
    "# sns.histplot(ax=axes[0], x=DF_QB_PM[DF_QB_PM['Height']], y=DF_QB_PM[DF_QB_PM['Cmp']]\n",
    "# axes[0].set_title('2018')\n"
   ]
  },
  {
   "cell_type": "code",
   "execution_count": null,
   "metadata": {},
   "outputs": [],
   "source": []
  }
 ]
}