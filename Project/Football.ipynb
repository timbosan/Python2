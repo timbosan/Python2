{
 "metadata": {
  "language_info": {
   "codemirror_mode": {
    "name": "ipython",
    "version": 3
   },
   "file_extension": ".py",
   "mimetype": "text/x-python",
   "name": "python",
   "nbconvert_exporter": "python",
   "pygments_lexer": "ipython3",
   "version": "3.8.5-final"
  },
  "orig_nbformat": 2,
  "kernelspec": {
   "name": "python3",
   "display_name": "Python 3.8.5 64-bit ('base': conda)",
   "metadata": {
    "interpreter": {
     "hash": "96de974b01b046934b52f4b659c3191343687683fcc318550f674f99061b09c5"
    }
   }
  }
 },
 "nbformat": 4,
 "nbformat_minor": 2,
 "cells": [
  {
   "cell_type": "code",
   "execution_count": null,
   "metadata": {},
   "outputs": [],
   "source": [
    "import pandas as pd\n",
    "import numpy as np \n"
   ]
  },
  {
   "cell_type": "code",
   "execution_count": 51,
   "metadata": {},
   "outputs": [
    {
     "output_type": "execute_result",
     "data": {
      "text/plain": [
       "          Player Name  Age Pos   Tm   G  GS  Cmp  Att   Yds  TD\n",
       "0           Matt Ryan   35  QB  ATL  16  16  407  626  4581  26\n",
       "1           Tom Brady   43  QB  TAM  16  16  401  610  4633  40\n",
       "2  Ben Roethlisberger   38  QB  PIT  15  15  399  608  3803  33\n",
       "3      Justin Herbert   22  QB  LAC  15  15  396  595  4336  31\n",
       "4     Patrick Mahomes   25  QB  KAN  15  15  390  588  4740  38\n",
       "5          Josh Allen   24  QB  BUF  16  16  396  572  4544  37\n",
       "6        Kyler Murray   23  QB  ARI  16  16  375  558  3971  26\n",
       "7      Russell Wilson   32  QB  SEA  16  16  384  558  4212  40\n",
       "8          Jared Goff   26  QB  LAR  15  15  370  552  3952  20\n",
       "9      Deshaun Watson   25  QB  HOU  16  16  382  544  4823  33"
      ],
      "text/html": "<div>\n<style scoped>\n    .dataframe tbody tr th:only-of-type {\n        vertical-align: middle;\n    }\n\n    .dataframe tbody tr th {\n        vertical-align: top;\n    }\n\n    .dataframe thead th {\n        text-align: right;\n    }\n</style>\n<table border=\"1\" class=\"dataframe\">\n  <thead>\n    <tr style=\"text-align: right;\">\n      <th></th>\n      <th>Player Name</th>\n      <th>Age</th>\n      <th>Pos</th>\n      <th>Tm</th>\n      <th>G</th>\n      <th>GS</th>\n      <th>Cmp</th>\n      <th>Att</th>\n      <th>Yds</th>\n      <th>TD</th>\n    </tr>\n  </thead>\n  <tbody>\n    <tr>\n      <th>0</th>\n      <td>Matt Ryan</td>\n      <td>35</td>\n      <td>QB</td>\n      <td>ATL</td>\n      <td>16</td>\n      <td>16</td>\n      <td>407</td>\n      <td>626</td>\n      <td>4581</td>\n      <td>26</td>\n    </tr>\n    <tr>\n      <th>1</th>\n      <td>Tom Brady</td>\n      <td>43</td>\n      <td>QB</td>\n      <td>TAM</td>\n      <td>16</td>\n      <td>16</td>\n      <td>401</td>\n      <td>610</td>\n      <td>4633</td>\n      <td>40</td>\n    </tr>\n    <tr>\n      <th>2</th>\n      <td>Ben Roethlisberger</td>\n      <td>38</td>\n      <td>QB</td>\n      <td>PIT</td>\n      <td>15</td>\n      <td>15</td>\n      <td>399</td>\n      <td>608</td>\n      <td>3803</td>\n      <td>33</td>\n    </tr>\n    <tr>\n      <th>3</th>\n      <td>Justin Herbert</td>\n      <td>22</td>\n      <td>QB</td>\n      <td>LAC</td>\n      <td>15</td>\n      <td>15</td>\n      <td>396</td>\n      <td>595</td>\n      <td>4336</td>\n      <td>31</td>\n    </tr>\n    <tr>\n      <th>4</th>\n      <td>Patrick Mahomes</td>\n      <td>25</td>\n      <td>QB</td>\n      <td>KAN</td>\n      <td>15</td>\n      <td>15</td>\n      <td>390</td>\n      <td>588</td>\n      <td>4740</td>\n      <td>38</td>\n    </tr>\n    <tr>\n      <th>5</th>\n      <td>Josh Allen</td>\n      <td>24</td>\n      <td>QB</td>\n      <td>BUF</td>\n      <td>16</td>\n      <td>16</td>\n      <td>396</td>\n      <td>572</td>\n      <td>4544</td>\n      <td>37</td>\n    </tr>\n    <tr>\n      <th>6</th>\n      <td>Kyler Murray</td>\n      <td>23</td>\n      <td>QB</td>\n      <td>ARI</td>\n      <td>16</td>\n      <td>16</td>\n      <td>375</td>\n      <td>558</td>\n      <td>3971</td>\n      <td>26</td>\n    </tr>\n    <tr>\n      <th>7</th>\n      <td>Russell Wilson</td>\n      <td>32</td>\n      <td>QB</td>\n      <td>SEA</td>\n      <td>16</td>\n      <td>16</td>\n      <td>384</td>\n      <td>558</td>\n      <td>4212</td>\n      <td>40</td>\n    </tr>\n    <tr>\n      <th>8</th>\n      <td>Jared Goff</td>\n      <td>26</td>\n      <td>QB</td>\n      <td>LAR</td>\n      <td>15</td>\n      <td>15</td>\n      <td>370</td>\n      <td>552</td>\n      <td>3952</td>\n      <td>20</td>\n    </tr>\n    <tr>\n      <th>9</th>\n      <td>Deshaun Watson</td>\n      <td>25</td>\n      <td>QB</td>\n      <td>HOU</td>\n      <td>16</td>\n      <td>16</td>\n      <td>382</td>\n      <td>544</td>\n      <td>4823</td>\n      <td>33</td>\n    </tr>\n  </tbody>\n</table>\n</div>"
     },
     "metadata": {},
     "execution_count": 51
    }
   ],
   "source": [
    "#import QB stats CSV\n",
    "DF = pd.read_csv('supp/2020QB.csv')\n",
    "#splitting on '\\' to keep player name\n",
    "Name = DF['Player'].str.split('\\\\').str[0]\n",
    "Name = Name.values.tolist()\n",
    "Name = Name\n",
    "#function to remove puncutaion from player names\n",
    "def remove_punc(string):\n",
    "    punc = '*+'\n",
    "    for ele in string:\n",
    "        if ele in punc:\n",
    "            string = string.replace(ele,'')\n",
    "    return string\n",
    "#needed to add .strip() to lagging white space which affected merge downstream\n",
    "Name = [remove_punc(i).strip() for i in Name]\n",
    "DF['Player Name'] = Name\n",
    "DF['Pos'] = DF['Pos'].str.upper()\n",
    "DF = DF.iloc[:, 2:]\n",
    "#creating DF with fields I want\n",
    "DF_QB = DF[['Player Name', 'Age', 'Pos', 'Tm', 'G', 'GS', 'Cmp', 'Att', 'Yds', 'TD']]\n",
    "DF_QB.head(10)"
   ]
  },
  {
   "cell_type": "code",
   "execution_count": 42,
   "metadata": {
    "tags": []
   },
   "outputs": [
    {
     "output_type": "execute_result",
     "data": {
      "text/plain": [
       "          Player Name Pos Team Height   Weight      DOB\n",
       "1312  Patrick Mahomes  QB   KC   6'3\"  230 lbs  9/17/95"
      ],
      "text/html": "<div>\n<style scoped>\n    .dataframe tbody tr th:only-of-type {\n        vertical-align: middle;\n    }\n\n    .dataframe tbody tr th {\n        vertical-align: top;\n    }\n\n    .dataframe thead th {\n        text-align: right;\n    }\n</style>\n<table border=\"1\" class=\"dataframe\">\n  <thead>\n    <tr style=\"text-align: right;\">\n      <th></th>\n      <th>Player Name</th>\n      <th>Pos</th>\n      <th>Team</th>\n      <th>Height</th>\n      <th>Weight</th>\n      <th>DOB</th>\n    </tr>\n  </thead>\n  <tbody>\n    <tr>\n      <th>1312</th>\n      <td>Patrick Mahomes</td>\n      <td>QB</td>\n      <td>KC</td>\n      <td>6'3\"</td>\n      <td>230 lbs</td>\n      <td>9/17/95</td>\n    </tr>\n  </tbody>\n</table>\n</div>"
     },
     "metadata": {},
     "execution_count": 42
    }
   ],
   "source": [
    "DFPM = pd.read_csv('supp/playermeasureables - Sheet1.csv')\n",
    "Last_NamePM = DFPM['Player'].str.split(', ').str[0]\n",
    "Last_NamePM = Last_NamePM.values.tolist()\n",
    "First_NamePM = DFPM['Player'].str.split(', ').str[1]\n",
    "First_NamePM = First_NamePM.values.tolist()\n",
    "DFPM['First Name'] = First_NamePM\n",
    "DFPM['Last Name'] = Last_NamePM\n",
    "DFPM['Player Name'] = DFPM[['First Name', 'Last Name']].apply(lambda x: ' '.join(x), axis=1)\n",
    "DFPM_Info = DFPM[['Player Name', 'Pos', 'Team', 'Height', 'Weight', 'DOB']]\n",
    "#DFPM_Info.loc[DFPM_Info['Player Name']=='Patrick Mahomes']\n",
    "\n"
   ]
  },
  {
   "cell_type": "code",
   "execution_count": 53,
   "metadata": {},
   "outputs": [
    {
     "output_type": "execute_result",
     "data": {
      "text/plain": [
       "           Player Name  Age  Pos   Tm   G  GS  Cmp  Att   Yds  TD Team Height  \\\n",
       "0            Matt Ryan   35   QB  ATL  16  16  407  626  4581  26  ATL   6'4\"   \n",
       "1            Tom Brady   43   QB  TAM  16  16  401  610  4633  40   TB   6'4\"   \n",
       "2   Ben Roethlisberger   38   QB  PIT  15  15  399  608  3803  33  PIT   6'5\"   \n",
       "3       Justin Herbert   22   QB  LAC  15  15  396  595  4336  31  LAC   6'6\"   \n",
       "4      Patrick Mahomes   25   QB  KAN  15  15  390  588  4740  38   KC   6'3\"   \n",
       "5           Josh Allen   24   QB  BUF  16  16  396  572  4544  37  BUF   6'5\"   \n",
       "6         Kyler Murray   23   QB  ARI  16  16  375  558  3971  26  ARI  5'10\"   \n",
       "7       Russell Wilson   32   QB  SEA  16  16  384  558  4212  40  SEA  5'11\"   \n",
       "8           Jared Goff   26   QB  LAR  15  15  370  552  3952  20  LAR   6'4\"   \n",
       "9       Deshaun Watson   25   QB  HOU  16  16  382  544  4823  33  HOU   6'2\"   \n",
       "10       Philip Rivers   39   QB  IND  16  16  369  543  4169  24  IND   6'5\"   \n",
       "11    Matthew Stafford   32   QB  DET  16  16  339  528  4084  26  DET   6'3\"   \n",
       "12       Aaron Rodgers   37   QB  GNB  16  16  372  526  4299  48   GB   6'2\"   \n",
       "13          Derek Carr   29   QB  LVR  16  16  348  517  4103  27   LV   6'3\"   \n",
       "14        Kirk Cousins   32   QB  MIN  16  16  349  516  4265  35  MIN   6'3\"   \n",
       "15   Teddy Bridgewater   28   QB  CAR  15  15  340  492  3733  15  CAR   6'2\"   \n",
       "16      Baker Mayfield   25   QB  CLE  16  16  305  486  3563  26  CLE   6'1\"   \n",
       "17      Ryan Tannehill   32   QB  TEN  16  16  315  481  3819  33  TEN   6'4\"   \n",
       "18        Daniel Jones   23   QB  NYG  14  14  280  448  2943  11  NYG   6'5\"   \n",
       "19           Drew Lock   24   QB  DEN  13  13  254  443  2933  16  DEN   6'4\"   \n",
       "20        Carson Wentz   28   QB  PHI  12  12  251  437  2620  16  IND   6'5\"   \n",
       "21          Joe Burrow   24   QB  CIN  10  10  264  404  2688  13  CIN   6'4\"   \n",
       "22          Drew Brees   41   QB  NOR  12  12  275  390  2942  24   NO   6'0\"   \n",
       "23       Lamar Jackson   23   QB  BAL  15  15  242  376  2757  26  BAL   6'2\"   \n",
       "24          Cam Newton   31   QB  NWE  15  15  242  368  2657   8   NE   6'5\"   \n",
       "25         Sam Darnold   23   QB  NYJ  12  12  217  364  2208   9  NYJ   6'3\"   \n",
       "26         Andy Dalton   33   QB  DAL  11   9  216  333  2170  14  DAL   6'2\"   \n",
       "27  Gardner Minshew II   24   QB  JAX   9   8  216  327  2259  16  JAC   6'1\"   \n",
       "28        Nick Mullens   25   QB  SFO  10   8  211  326  2437  12   SF   6'1\"   \n",
       "29          Nick Foles   31   QB  CHI   9   7  202  312  1852  10  CHI   6'6\"   \n",
       "30   Mitchell Trubisky   26   QB  CHI  10   9  199  297  2055  16  CHI   6'2\"   \n",
       "31      Tua Tagovailoa   22   QB  MIA  10   9  186  290  1814  11  MIA   6'0\"   \n",
       "32    Ryan Fitzpatrick   38   QB  MIA   9   7  183  267  2091  13  MIA   6'2\"   \n",
       "33          Alex Smith   36   QB  WAS   8   6  168  252  1582   6  WAS   6'4\"   \n",
       "34      Dwayne Haskins   23   QB  WAS   7   6  148  241  1439   5  NaN    NaN   \n",
       "35        Dak Prescott   27   QB  DAL   5   5  151  222  1856   9  DAL   6'2\"   \n",
       "36        Mike Glennon   31   QB  JAX   5   5  111  179  1072   7  JAC   6'7\"   \n",
       "37         Jalen Hurts   22   QB  PHI  15   4   77  148  1061   6  PHI   6'1\"   \n",
       "38       Brandon Allen   28   QB  CIN   5   5   90  142   925   5  CIN   6'2\"   \n",
       "39     Jimmy Garoppolo   29   QB  SFO   6   6   94  140  1096   7   SF   6'2\"   \n",
       "40          Joe Flacco   35   QB  NYJ   5   4   74  134   864   6  NYJ   6'6\"   \n",
       "41         Taysom Hill   30   QB  NOR  16   8   88  121   928   4   NO   6'2\"   \n",
       "42          Jake Luton   24   QB  JAX   3   3   60  110   624   2  JAC   6'6\"   \n",
       "43       C.J. Beathard   27   QB  SFO   6   2   66  104   787   6   SF   6'2\"   \n",
       "44          Kyle Allen   24   QB  WAS   4   4   60   87   610   4  WAS   6'3\"   \n",
       "45          Colt McCoy   34   QB  NYG   4   2   40   66   375   1  NYG   6'1\"   \n",
       "46        Jeff Driskel   27   QB  DEN   3   1   35   64   432   3  DEN   6'4\"   \n",
       "47      Phillip Walker   25   QB  CAR   4   1   32   56   368   1  NaN    NaN   \n",
       "48     Jarrett Stidham   24  NaN  NWE   5   0   22   44   256   2  NaN    NaN   \n",
       "49        Chase Daniel   34  NaN  DET   4   0   29   43   264   1  NaN    NaN   \n",
       "\n",
       "     Weight       DOB  \n",
       "0   217 lbs   5/17/85  \n",
       "1   225 lbs    8/3/77  \n",
       "2   240 lbs    3/2/82  \n",
       "3   237 lbs   3/10/98  \n",
       "4   230 lbs   9/17/95  \n",
       "5   237 lbs   5/21/96  \n",
       "6   207 lbs    8/7/97  \n",
       "7   215 lbs  11/29/88  \n",
       "8   222 lbs  10/14/94  \n",
       "9   220 lbs   9/14/95  \n",
       "10  228 lbs   12/8/81  \n",
       "11  220 lbs    2/7/88  \n",
       "12  225 lbs   12/2/83  \n",
       "13  210 lbs   3/28/91  \n",
       "14  202 lbs   8/19/88  \n",
       "15  215 lbs  11/10/92  \n",
       "16  215 lbs   4/14/95  \n",
       "17  217 lbs   7/27/88  \n",
       "18  221 lbs   5/27/97  \n",
       "19  228 lbs  11/10/96  \n",
       "20  237 lbs  12/30/92  \n",
       "21  221 lbs  12/10/96  \n",
       "22  209 lbs   1/15/79  \n",
       "23  212 lbs    1/7/97  \n",
       "24  245 lbs   5/11/89  \n",
       "25  225 lbs    6/5/97  \n",
       "26  220 lbs  10/29/87  \n",
       "27  225 lbs   5/16/96  \n",
       "28  210 lbs   3/21/95  \n",
       "29  243 lbs   1/20/89  \n",
       "30  215 lbs   8/20/94  \n",
       "31  217 lbs    3/2/98  \n",
       "32  228 lbs  11/24/82  \n",
       "33  215 lbs    5/7/84  \n",
       "34      NaN       NaN  \n",
       "35  238 lbs   7/29/93  \n",
       "36  225 lbs  12/12/89  \n",
       "37  223 lbs    8/7/98  \n",
       "38  209 lbs    9/5/92  \n",
       "39  225 lbs   11/2/91  \n",
       "40  245 lbs   1/16/85  \n",
       "41  221 lbs   8/23/90  \n",
       "42  224 lbs   4/11/96  \n",
       "43  215 lbs  11/16/93  \n",
       "44  210 lbs    3/8/96  \n",
       "45  212 lbs    9/5/86  \n",
       "46  235 lbs   4/23/93  \n",
       "47      NaN       NaN  \n",
       "48      NaN       NaN  \n",
       "49      NaN       NaN  "
      ],
      "text/html": "<div>\n<style scoped>\n    .dataframe tbody tr th:only-of-type {\n        vertical-align: middle;\n    }\n\n    .dataframe tbody tr th {\n        vertical-align: top;\n    }\n\n    .dataframe thead th {\n        text-align: right;\n    }\n</style>\n<table border=\"1\" class=\"dataframe\">\n  <thead>\n    <tr style=\"text-align: right;\">\n      <th></th>\n      <th>Player Name</th>\n      <th>Age</th>\n      <th>Pos</th>\n      <th>Tm</th>\n      <th>G</th>\n      <th>GS</th>\n      <th>Cmp</th>\n      <th>Att</th>\n      <th>Yds</th>\n      <th>TD</th>\n      <th>Team</th>\n      <th>Height</th>\n      <th>Weight</th>\n      <th>DOB</th>\n    </tr>\n  </thead>\n  <tbody>\n    <tr>\n      <th>0</th>\n      <td>Matt Ryan</td>\n      <td>35</td>\n      <td>QB</td>\n      <td>ATL</td>\n      <td>16</td>\n      <td>16</td>\n      <td>407</td>\n      <td>626</td>\n      <td>4581</td>\n      <td>26</td>\n      <td>ATL</td>\n      <td>6'4\"</td>\n      <td>217 lbs</td>\n      <td>5/17/85</td>\n    </tr>\n    <tr>\n      <th>1</th>\n      <td>Tom Brady</td>\n      <td>43</td>\n      <td>QB</td>\n      <td>TAM</td>\n      <td>16</td>\n      <td>16</td>\n      <td>401</td>\n      <td>610</td>\n      <td>4633</td>\n      <td>40</td>\n      <td>TB</td>\n      <td>6'4\"</td>\n      <td>225 lbs</td>\n      <td>8/3/77</td>\n    </tr>\n    <tr>\n      <th>2</th>\n      <td>Ben Roethlisberger</td>\n      <td>38</td>\n      <td>QB</td>\n      <td>PIT</td>\n      <td>15</td>\n      <td>15</td>\n      <td>399</td>\n      <td>608</td>\n      <td>3803</td>\n      <td>33</td>\n      <td>PIT</td>\n      <td>6'5\"</td>\n      <td>240 lbs</td>\n      <td>3/2/82</td>\n    </tr>\n    <tr>\n      <th>3</th>\n      <td>Justin Herbert</td>\n      <td>22</td>\n      <td>QB</td>\n      <td>LAC</td>\n      <td>15</td>\n      <td>15</td>\n      <td>396</td>\n      <td>595</td>\n      <td>4336</td>\n      <td>31</td>\n      <td>LAC</td>\n      <td>6'6\"</td>\n      <td>237 lbs</td>\n      <td>3/10/98</td>\n    </tr>\n    <tr>\n      <th>4</th>\n      <td>Patrick Mahomes</td>\n      <td>25</td>\n      <td>QB</td>\n      <td>KAN</td>\n      <td>15</td>\n      <td>15</td>\n      <td>390</td>\n      <td>588</td>\n      <td>4740</td>\n      <td>38</td>\n      <td>KC</td>\n      <td>6'3\"</td>\n      <td>230 lbs</td>\n      <td>9/17/95</td>\n    </tr>\n    <tr>\n      <th>5</th>\n      <td>Josh Allen</td>\n      <td>24</td>\n      <td>QB</td>\n      <td>BUF</td>\n      <td>16</td>\n      <td>16</td>\n      <td>396</td>\n      <td>572</td>\n      <td>4544</td>\n      <td>37</td>\n      <td>BUF</td>\n      <td>6'5\"</td>\n      <td>237 lbs</td>\n      <td>5/21/96</td>\n    </tr>\n    <tr>\n      <th>6</th>\n      <td>Kyler Murray</td>\n      <td>23</td>\n      <td>QB</td>\n      <td>ARI</td>\n      <td>16</td>\n      <td>16</td>\n      <td>375</td>\n      <td>558</td>\n      <td>3971</td>\n      <td>26</td>\n      <td>ARI</td>\n      <td>5'10\"</td>\n      <td>207 lbs</td>\n      <td>8/7/97</td>\n    </tr>\n    <tr>\n      <th>7</th>\n      <td>Russell Wilson</td>\n      <td>32</td>\n      <td>QB</td>\n      <td>SEA</td>\n      <td>16</td>\n      <td>16</td>\n      <td>384</td>\n      <td>558</td>\n      <td>4212</td>\n      <td>40</td>\n      <td>SEA</td>\n      <td>5'11\"</td>\n      <td>215 lbs</td>\n      <td>11/29/88</td>\n    </tr>\n    <tr>\n      <th>8</th>\n      <td>Jared Goff</td>\n      <td>26</td>\n      <td>QB</td>\n      <td>LAR</td>\n      <td>15</td>\n      <td>15</td>\n      <td>370</td>\n      <td>552</td>\n      <td>3952</td>\n      <td>20</td>\n      <td>LAR</td>\n      <td>6'4\"</td>\n      <td>222 lbs</td>\n      <td>10/14/94</td>\n    </tr>\n    <tr>\n      <th>9</th>\n      <td>Deshaun Watson</td>\n      <td>25</td>\n      <td>QB</td>\n      <td>HOU</td>\n      <td>16</td>\n      <td>16</td>\n      <td>382</td>\n      <td>544</td>\n      <td>4823</td>\n      <td>33</td>\n      <td>HOU</td>\n      <td>6'2\"</td>\n      <td>220 lbs</td>\n      <td>9/14/95</td>\n    </tr>\n    <tr>\n      <th>10</th>\n      <td>Philip Rivers</td>\n      <td>39</td>\n      <td>QB</td>\n      <td>IND</td>\n      <td>16</td>\n      <td>16</td>\n      <td>369</td>\n      <td>543</td>\n      <td>4169</td>\n      <td>24</td>\n      <td>IND</td>\n      <td>6'5\"</td>\n      <td>228 lbs</td>\n      <td>12/8/81</td>\n    </tr>\n    <tr>\n      <th>11</th>\n      <td>Matthew Stafford</td>\n      <td>32</td>\n      <td>QB</td>\n      <td>DET</td>\n      <td>16</td>\n      <td>16</td>\n      <td>339</td>\n      <td>528</td>\n      <td>4084</td>\n      <td>26</td>\n      <td>DET</td>\n      <td>6'3\"</td>\n      <td>220 lbs</td>\n      <td>2/7/88</td>\n    </tr>\n    <tr>\n      <th>12</th>\n      <td>Aaron Rodgers</td>\n      <td>37</td>\n      <td>QB</td>\n      <td>GNB</td>\n      <td>16</td>\n      <td>16</td>\n      <td>372</td>\n      <td>526</td>\n      <td>4299</td>\n      <td>48</td>\n      <td>GB</td>\n      <td>6'2\"</td>\n      <td>225 lbs</td>\n      <td>12/2/83</td>\n    </tr>\n    <tr>\n      <th>13</th>\n      <td>Derek Carr</td>\n      <td>29</td>\n      <td>QB</td>\n      <td>LVR</td>\n      <td>16</td>\n      <td>16</td>\n      <td>348</td>\n      <td>517</td>\n      <td>4103</td>\n      <td>27</td>\n      <td>LV</td>\n      <td>6'3\"</td>\n      <td>210 lbs</td>\n      <td>3/28/91</td>\n    </tr>\n    <tr>\n      <th>14</th>\n      <td>Kirk Cousins</td>\n      <td>32</td>\n      <td>QB</td>\n      <td>MIN</td>\n      <td>16</td>\n      <td>16</td>\n      <td>349</td>\n      <td>516</td>\n      <td>4265</td>\n      <td>35</td>\n      <td>MIN</td>\n      <td>6'3\"</td>\n      <td>202 lbs</td>\n      <td>8/19/88</td>\n    </tr>\n    <tr>\n      <th>15</th>\n      <td>Teddy Bridgewater</td>\n      <td>28</td>\n      <td>QB</td>\n      <td>CAR</td>\n      <td>15</td>\n      <td>15</td>\n      <td>340</td>\n      <td>492</td>\n      <td>3733</td>\n      <td>15</td>\n      <td>CAR</td>\n      <td>6'2\"</td>\n      <td>215 lbs</td>\n      <td>11/10/92</td>\n    </tr>\n    <tr>\n      <th>16</th>\n      <td>Baker Mayfield</td>\n      <td>25</td>\n      <td>QB</td>\n      <td>CLE</td>\n      <td>16</td>\n      <td>16</td>\n      <td>305</td>\n      <td>486</td>\n      <td>3563</td>\n      <td>26</td>\n      <td>CLE</td>\n      <td>6'1\"</td>\n      <td>215 lbs</td>\n      <td>4/14/95</td>\n    </tr>\n    <tr>\n      <th>17</th>\n      <td>Ryan Tannehill</td>\n      <td>32</td>\n      <td>QB</td>\n      <td>TEN</td>\n      <td>16</td>\n      <td>16</td>\n      <td>315</td>\n      <td>481</td>\n      <td>3819</td>\n      <td>33</td>\n      <td>TEN</td>\n      <td>6'4\"</td>\n      <td>217 lbs</td>\n      <td>7/27/88</td>\n    </tr>\n    <tr>\n      <th>18</th>\n      <td>Daniel Jones</td>\n      <td>23</td>\n      <td>QB</td>\n      <td>NYG</td>\n      <td>14</td>\n      <td>14</td>\n      <td>280</td>\n      <td>448</td>\n      <td>2943</td>\n      <td>11</td>\n      <td>NYG</td>\n      <td>6'5\"</td>\n      <td>221 lbs</td>\n      <td>5/27/97</td>\n    </tr>\n    <tr>\n      <th>19</th>\n      <td>Drew Lock</td>\n      <td>24</td>\n      <td>QB</td>\n      <td>DEN</td>\n      <td>13</td>\n      <td>13</td>\n      <td>254</td>\n      <td>443</td>\n      <td>2933</td>\n      <td>16</td>\n      <td>DEN</td>\n      <td>6'4\"</td>\n      <td>228 lbs</td>\n      <td>11/10/96</td>\n    </tr>\n    <tr>\n      <th>20</th>\n      <td>Carson Wentz</td>\n      <td>28</td>\n      <td>QB</td>\n      <td>PHI</td>\n      <td>12</td>\n      <td>12</td>\n      <td>251</td>\n      <td>437</td>\n      <td>2620</td>\n      <td>16</td>\n      <td>IND</td>\n      <td>6'5\"</td>\n      <td>237 lbs</td>\n      <td>12/30/92</td>\n    </tr>\n    <tr>\n      <th>21</th>\n      <td>Joe Burrow</td>\n      <td>24</td>\n      <td>QB</td>\n      <td>CIN</td>\n      <td>10</td>\n      <td>10</td>\n      <td>264</td>\n      <td>404</td>\n      <td>2688</td>\n      <td>13</td>\n      <td>CIN</td>\n      <td>6'4\"</td>\n      <td>221 lbs</td>\n      <td>12/10/96</td>\n    </tr>\n    <tr>\n      <th>22</th>\n      <td>Drew Brees</td>\n      <td>41</td>\n      <td>QB</td>\n      <td>NOR</td>\n      <td>12</td>\n      <td>12</td>\n      <td>275</td>\n      <td>390</td>\n      <td>2942</td>\n      <td>24</td>\n      <td>NO</td>\n      <td>6'0\"</td>\n      <td>209 lbs</td>\n      <td>1/15/79</td>\n    </tr>\n    <tr>\n      <th>23</th>\n      <td>Lamar Jackson</td>\n      <td>23</td>\n      <td>QB</td>\n      <td>BAL</td>\n      <td>15</td>\n      <td>15</td>\n      <td>242</td>\n      <td>376</td>\n      <td>2757</td>\n      <td>26</td>\n      <td>BAL</td>\n      <td>6'2\"</td>\n      <td>212 lbs</td>\n      <td>1/7/97</td>\n    </tr>\n    <tr>\n      <th>24</th>\n      <td>Cam Newton</td>\n      <td>31</td>\n      <td>QB</td>\n      <td>NWE</td>\n      <td>15</td>\n      <td>15</td>\n      <td>242</td>\n      <td>368</td>\n      <td>2657</td>\n      <td>8</td>\n      <td>NE</td>\n      <td>6'5\"</td>\n      <td>245 lbs</td>\n      <td>5/11/89</td>\n    </tr>\n    <tr>\n      <th>25</th>\n      <td>Sam Darnold</td>\n      <td>23</td>\n      <td>QB</td>\n      <td>NYJ</td>\n      <td>12</td>\n      <td>12</td>\n      <td>217</td>\n      <td>364</td>\n      <td>2208</td>\n      <td>9</td>\n      <td>NYJ</td>\n      <td>6'3\"</td>\n      <td>225 lbs</td>\n      <td>6/5/97</td>\n    </tr>\n    <tr>\n      <th>26</th>\n      <td>Andy Dalton</td>\n      <td>33</td>\n      <td>QB</td>\n      <td>DAL</td>\n      <td>11</td>\n      <td>9</td>\n      <td>216</td>\n      <td>333</td>\n      <td>2170</td>\n      <td>14</td>\n      <td>DAL</td>\n      <td>6'2\"</td>\n      <td>220 lbs</td>\n      <td>10/29/87</td>\n    </tr>\n    <tr>\n      <th>27</th>\n      <td>Gardner Minshew II</td>\n      <td>24</td>\n      <td>QB</td>\n      <td>JAX</td>\n      <td>9</td>\n      <td>8</td>\n      <td>216</td>\n      <td>327</td>\n      <td>2259</td>\n      <td>16</td>\n      <td>JAC</td>\n      <td>6'1\"</td>\n      <td>225 lbs</td>\n      <td>5/16/96</td>\n    </tr>\n    <tr>\n      <th>28</th>\n      <td>Nick Mullens</td>\n      <td>25</td>\n      <td>QB</td>\n      <td>SFO</td>\n      <td>10</td>\n      <td>8</td>\n      <td>211</td>\n      <td>326</td>\n      <td>2437</td>\n      <td>12</td>\n      <td>SF</td>\n      <td>6'1\"</td>\n      <td>210 lbs</td>\n      <td>3/21/95</td>\n    </tr>\n    <tr>\n      <th>29</th>\n      <td>Nick Foles</td>\n      <td>31</td>\n      <td>QB</td>\n      <td>CHI</td>\n      <td>9</td>\n      <td>7</td>\n      <td>202</td>\n      <td>312</td>\n      <td>1852</td>\n      <td>10</td>\n      <td>CHI</td>\n      <td>6'6\"</td>\n      <td>243 lbs</td>\n      <td>1/20/89</td>\n    </tr>\n    <tr>\n      <th>30</th>\n      <td>Mitchell Trubisky</td>\n      <td>26</td>\n      <td>QB</td>\n      <td>CHI</td>\n      <td>10</td>\n      <td>9</td>\n      <td>199</td>\n      <td>297</td>\n      <td>2055</td>\n      <td>16</td>\n      <td>CHI</td>\n      <td>6'2\"</td>\n      <td>215 lbs</td>\n      <td>8/20/94</td>\n    </tr>\n    <tr>\n      <th>31</th>\n      <td>Tua Tagovailoa</td>\n      <td>22</td>\n      <td>QB</td>\n      <td>MIA</td>\n      <td>10</td>\n      <td>9</td>\n      <td>186</td>\n      <td>290</td>\n      <td>1814</td>\n      <td>11</td>\n      <td>MIA</td>\n      <td>6'0\"</td>\n      <td>217 lbs</td>\n      <td>3/2/98</td>\n    </tr>\n    <tr>\n      <th>32</th>\n      <td>Ryan Fitzpatrick</td>\n      <td>38</td>\n      <td>QB</td>\n      <td>MIA</td>\n      <td>9</td>\n      <td>7</td>\n      <td>183</td>\n      <td>267</td>\n      <td>2091</td>\n      <td>13</td>\n      <td>MIA</td>\n      <td>6'2\"</td>\n      <td>228 lbs</td>\n      <td>11/24/82</td>\n    </tr>\n    <tr>\n      <th>33</th>\n      <td>Alex Smith</td>\n      <td>36</td>\n      <td>QB</td>\n      <td>WAS</td>\n      <td>8</td>\n      <td>6</td>\n      <td>168</td>\n      <td>252</td>\n      <td>1582</td>\n      <td>6</td>\n      <td>WAS</td>\n      <td>6'4\"</td>\n      <td>215 lbs</td>\n      <td>5/7/84</td>\n    </tr>\n    <tr>\n      <th>34</th>\n      <td>Dwayne Haskins</td>\n      <td>23</td>\n      <td>QB</td>\n      <td>WAS</td>\n      <td>7</td>\n      <td>6</td>\n      <td>148</td>\n      <td>241</td>\n      <td>1439</td>\n      <td>5</td>\n      <td>NaN</td>\n      <td>NaN</td>\n      <td>NaN</td>\n      <td>NaN</td>\n    </tr>\n    <tr>\n      <th>35</th>\n      <td>Dak Prescott</td>\n      <td>27</td>\n      <td>QB</td>\n      <td>DAL</td>\n      <td>5</td>\n      <td>5</td>\n      <td>151</td>\n      <td>222</td>\n      <td>1856</td>\n      <td>9</td>\n      <td>DAL</td>\n      <td>6'2\"</td>\n      <td>238 lbs</td>\n      <td>7/29/93</td>\n    </tr>\n    <tr>\n      <th>36</th>\n      <td>Mike Glennon</td>\n      <td>31</td>\n      <td>QB</td>\n      <td>JAX</td>\n      <td>5</td>\n      <td>5</td>\n      <td>111</td>\n      <td>179</td>\n      <td>1072</td>\n      <td>7</td>\n      <td>JAC</td>\n      <td>6'7\"</td>\n      <td>225 lbs</td>\n      <td>12/12/89</td>\n    </tr>\n    <tr>\n      <th>37</th>\n      <td>Jalen Hurts</td>\n      <td>22</td>\n      <td>QB</td>\n      <td>PHI</td>\n      <td>15</td>\n      <td>4</td>\n      <td>77</td>\n      <td>148</td>\n      <td>1061</td>\n      <td>6</td>\n      <td>PHI</td>\n      <td>6'1\"</td>\n      <td>223 lbs</td>\n      <td>8/7/98</td>\n    </tr>\n    <tr>\n      <th>38</th>\n      <td>Brandon Allen</td>\n      <td>28</td>\n      <td>QB</td>\n      <td>CIN</td>\n      <td>5</td>\n      <td>5</td>\n      <td>90</td>\n      <td>142</td>\n      <td>925</td>\n      <td>5</td>\n      <td>CIN</td>\n      <td>6'2\"</td>\n      <td>209 lbs</td>\n      <td>9/5/92</td>\n    </tr>\n    <tr>\n      <th>39</th>\n      <td>Jimmy Garoppolo</td>\n      <td>29</td>\n      <td>QB</td>\n      <td>SFO</td>\n      <td>6</td>\n      <td>6</td>\n      <td>94</td>\n      <td>140</td>\n      <td>1096</td>\n      <td>7</td>\n      <td>SF</td>\n      <td>6'2\"</td>\n      <td>225 lbs</td>\n      <td>11/2/91</td>\n    </tr>\n    <tr>\n      <th>40</th>\n      <td>Joe Flacco</td>\n      <td>35</td>\n      <td>QB</td>\n      <td>NYJ</td>\n      <td>5</td>\n      <td>4</td>\n      <td>74</td>\n      <td>134</td>\n      <td>864</td>\n      <td>6</td>\n      <td>NYJ</td>\n      <td>6'6\"</td>\n      <td>245 lbs</td>\n      <td>1/16/85</td>\n    </tr>\n    <tr>\n      <th>41</th>\n      <td>Taysom Hill</td>\n      <td>30</td>\n      <td>QB</td>\n      <td>NOR</td>\n      <td>16</td>\n      <td>8</td>\n      <td>88</td>\n      <td>121</td>\n      <td>928</td>\n      <td>4</td>\n      <td>NO</td>\n      <td>6'2\"</td>\n      <td>221 lbs</td>\n      <td>8/23/90</td>\n    </tr>\n    <tr>\n      <th>42</th>\n      <td>Jake Luton</td>\n      <td>24</td>\n      <td>QB</td>\n      <td>JAX</td>\n      <td>3</td>\n      <td>3</td>\n      <td>60</td>\n      <td>110</td>\n      <td>624</td>\n      <td>2</td>\n      <td>JAC</td>\n      <td>6'6\"</td>\n      <td>224 lbs</td>\n      <td>4/11/96</td>\n    </tr>\n    <tr>\n      <th>43</th>\n      <td>C.J. Beathard</td>\n      <td>27</td>\n      <td>QB</td>\n      <td>SFO</td>\n      <td>6</td>\n      <td>2</td>\n      <td>66</td>\n      <td>104</td>\n      <td>787</td>\n      <td>6</td>\n      <td>SF</td>\n      <td>6'2\"</td>\n      <td>215 lbs</td>\n      <td>11/16/93</td>\n    </tr>\n    <tr>\n      <th>44</th>\n      <td>Kyle Allen</td>\n      <td>24</td>\n      <td>QB</td>\n      <td>WAS</td>\n      <td>4</td>\n      <td>4</td>\n      <td>60</td>\n      <td>87</td>\n      <td>610</td>\n      <td>4</td>\n      <td>WAS</td>\n      <td>6'3\"</td>\n      <td>210 lbs</td>\n      <td>3/8/96</td>\n    </tr>\n    <tr>\n      <th>45</th>\n      <td>Colt McCoy</td>\n      <td>34</td>\n      <td>QB</td>\n      <td>NYG</td>\n      <td>4</td>\n      <td>2</td>\n      <td>40</td>\n      <td>66</td>\n      <td>375</td>\n      <td>1</td>\n      <td>NYG</td>\n      <td>6'1\"</td>\n      <td>212 lbs</td>\n      <td>9/5/86</td>\n    </tr>\n    <tr>\n      <th>46</th>\n      <td>Jeff Driskel</td>\n      <td>27</td>\n      <td>QB</td>\n      <td>DEN</td>\n      <td>3</td>\n      <td>1</td>\n      <td>35</td>\n      <td>64</td>\n      <td>432</td>\n      <td>3</td>\n      <td>DEN</td>\n      <td>6'4\"</td>\n      <td>235 lbs</td>\n      <td>4/23/93</td>\n    </tr>\n    <tr>\n      <th>47</th>\n      <td>Phillip Walker</td>\n      <td>25</td>\n      <td>QB</td>\n      <td>CAR</td>\n      <td>4</td>\n      <td>1</td>\n      <td>32</td>\n      <td>56</td>\n      <td>368</td>\n      <td>1</td>\n      <td>NaN</td>\n      <td>NaN</td>\n      <td>NaN</td>\n      <td>NaN</td>\n    </tr>\n    <tr>\n      <th>48</th>\n      <td>Jarrett Stidham</td>\n      <td>24</td>\n      <td>NaN</td>\n      <td>NWE</td>\n      <td>5</td>\n      <td>0</td>\n      <td>22</td>\n      <td>44</td>\n      <td>256</td>\n      <td>2</td>\n      <td>NaN</td>\n      <td>NaN</td>\n      <td>NaN</td>\n      <td>NaN</td>\n    </tr>\n    <tr>\n      <th>49</th>\n      <td>Chase Daniel</td>\n      <td>34</td>\n      <td>NaN</td>\n      <td>DET</td>\n      <td>4</td>\n      <td>0</td>\n      <td>29</td>\n      <td>43</td>\n      <td>264</td>\n      <td>1</td>\n      <td>NaN</td>\n      <td>NaN</td>\n      <td>NaN</td>\n      <td>NaN</td>\n    </tr>\n  </tbody>\n</table>\n</div>"
     },
     "metadata": {},
     "execution_count": 53
    }
   ],
   "source": [
    "#DF_QB.merge(DFPM_Info, how='left', on='Player Name')\n",
    "DF_QB_PM = pd.merge(DF_QB, DFPM_Info, how='left', on=['Player Name', 'Pos'])\n",
    "DF_QB_PM.head(50)"
   ]
  },
  {
   "cell_type": "code",
   "execution_count": null,
   "metadata": {},
   "outputs": [],
   "source": []
  }
 ]
}