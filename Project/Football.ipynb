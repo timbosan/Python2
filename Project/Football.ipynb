{
 "metadata": {
  "language_info": {
   "codemirror_mode": {
    "name": "ipython",
    "version": 3
   },
   "file_extension": ".py",
   "mimetype": "text/x-python",
   "name": "python",
   "nbconvert_exporter": "python",
   "pygments_lexer": "ipython3",
   "version": "3.8.5-final"
  },
  "orig_nbformat": 2,
  "kernelspec": {
   "name": "python3",
   "display_name": "Python 3.8.5 64-bit ('base': conda)",
   "metadata": {
    "interpreter": {
     "hash": "96de974b01b046934b52f4b659c3191343687683fcc318550f674f99061b09c5"
    }
   }
  }
 },
 "nbformat": 4,
 "nbformat_minor": 2,
 "cells": [
  {
   "cell_type": "code",
   "execution_count": null,
   "metadata": {},
   "outputs": [],
   "source": [
    "import pandas as pd\n",
    "import numpy as np \n",
    "import seaborn as sns; sns.set_style('whitegrid')\n",
    "from matplotlib import pyplot as plt\n",
    "from scipy.stats import ttest_ind\n"
   ]
  },
  {
   "cell_type": "code",
   "execution_count": null,
   "metadata": {},
   "outputs": [],
   "source": [
    "#import 2020 QB stats CSV\n",
    "DF2020 = pd.read_csv('supp/2020QB.csv')\n",
    "#splitting on '\\' to keep player name\n",
    "Name = DF2020['Player'].str.split('\\\\').str[0]\n",
    "Name = Name.values.tolist()\n",
    "\n",
    "#function to remove puncutaion from player names\n",
    "def remove_punc(string):\n",
    "    punc = '*+'\n",
    "    for ele in string:\n",
    "        if ele in punc:\n",
    "            string = string.replace(ele,'')\n",
    "    return string\n",
    "#needed to add .strip() to lagging white space which affected merge downstream\n",
    "Name = [remove_punc(i).strip() for i in Name]\n",
    "DF2020['Player Name'] = Name\n",
    "DF2020['Pos'] = DF2020['Pos'].str.upper()\n",
    "DF2020 = DF2020.iloc[:, 2:]\n",
    "DF2020['Year'] = '2020'\n",
    "\n"
   ]
  },
  {
   "cell_type": "code",
   "execution_count": null,
   "metadata": {},
   "outputs": [],
   "source": [
    "#import 2019 QB stats CSV\n",
    "DF2019 = pd.read_csv('supp/2019QB.csv')\n",
    "#splitting on '\\' to keep player name\n",
    "Name = DF2019['Player'].str.split('\\\\').str[0]\n",
    "Name = Name.values.tolist()\n",
    "\n",
    "#function to remove puncutaion from player names\n",
    "def remove_punc(string):\n",
    "    punc = '*+'\n",
    "    for ele in string:\n",
    "        if ele in punc:\n",
    "            string = string.replace(ele,'')\n",
    "    return string\n",
    "#needed to add .strip() to lagging white space which affected merge downstream\n",
    "Name = [remove_punc(i).strip() for i in Name]\n",
    "DF2019['Player Name'] = Name\n",
    "DF2019['Pos'] = DF2019['Pos'].str.upper()\n",
    "DF2019 = DF2019.iloc[:, 2:]\n",
    "DF2019['Year'] = '2019'\n",
    "\n"
   ]
  },
  {
   "cell_type": "code",
   "execution_count": null,
   "metadata": {},
   "outputs": [],
   "source": [
    "#import 2018 QB stats CSV\n",
    "DF2018 = pd.read_csv('supp/2018QB.csv')\n",
    "#splitting on '\\' to keep player name\n",
    "Name = DF2018['Player'].str.split('\\\\').str[0]\n",
    "Name = Name.values.tolist()\n",
    "\n",
    "#function to remove puncutaion from player names\n",
    "def remove_punc(string):\n",
    "    punc = '*+'\n",
    "    for ele in string:\n",
    "        if ele in punc:\n",
    "            string = string.replace(ele,'')\n",
    "    return string\n",
    "#needed to add .strip() to lagging white space which affected merge downstream\n",
    "Name = [remove_punc(i).strip() for i in Name]\n",
    "DF2018['Player Name'] = Name\n",
    "DF2018['Pos'] = DF2018['Pos'].str.upper()\n",
    "DF2018 = DF2018.iloc[:, 2:]\n",
    "DF2018['Year'] = '2018'"
   ]
  },
  {
   "cell_type": "code",
   "execution_count": null,
   "metadata": {},
   "outputs": [],
   "source": [
    "#concat DF here with fields I want, all 3 seasons in 1 DF\n",
    "DF_QB = pd.concat([DF2020,DF2019,DF2018])\n",
    "DF_QB = DF_QB[['Player Name', 'Age', 'Pos', 'Tm', 'Year', 'G', 'GS', 'Cmp', 'Att', 'Cmp%' ,'Yds', 'TD']]\n",
    "DF_QB.head(5)\n"
   ]
  },
  {
   "cell_type": "code",
   "execution_count": null,
   "metadata": {
    "tags": []
   },
   "outputs": [],
   "source": [
    "#Loading Player Measureables data\n",
    "DFPM = pd.read_csv('supp/playermeasureables - Sheet1.csv')\n",
    "Last_NamePM = DFPM['Player'].str.split(', ').str[0]\n",
    "Last_NamePM = Last_NamePM.values.tolist()\n",
    "First_NamePM = DFPM['Player'].str.split(', ').str[1]\n",
    "First_NamePM = First_NamePM.values.tolist()\n",
    "DFPM['First Name'] = First_NamePM\n",
    "DFPM['Last Name'] = Last_NamePM\n",
    "DFPM['Player Name'] = DFPM[['First Name', 'Last Name']].apply(lambda x: ' '.join(x), axis=1)\n",
    "\n",
    "#Convert Height to Inches\n",
    "def parse_ht(ht):\n",
    "    # format: 7'0\"\n",
    "    ht_ = ht.split(\"'\")\n",
    "    ft_ = float(ht_[0])\n",
    "    in_ = float(ht_[1].replace(\"\\\"\",\"\"))\n",
    "    return int((12*ft_) + in_)\n",
    "\n",
    "Height = DFPM[\"Height\"].apply(lambda x:parse_ht(x))\n",
    "DFPM['Height(IN)'] = Height\n",
    "DFPM_Info = DFPM[['Player Name', 'Pos', 'Team', 'Height(IN)', 'Weight', 'DOB']]\n",
    "DFPM_Info.head(5)\n",
    "\n"
   ]
  },
  {
   "cell_type": "code",
   "execution_count": null,
   "metadata": {},
   "outputs": [],
   "source": [
    "#Merged 3 Season DF with player measureables DF\n",
    "DF_QB_PM = pd.merge(DF_QB, DFPM_Info, how='left', on=['Player Name', 'Pos'])\n",
    "#Filtered QB position and those that have greater than 60 passing attempts on the season\n",
    "DF_QB_PM = DF_QB_PM[DF_QB_PM['Att'] > 60]\n",
    "DF_QB_PM = DF_QB_PM[DF_QB_PM['Pos'] == 'QB']\n",
    "DF_QB_PM = DF_QB_PM[DF_QB_PM['Height(IN)'].notnull()]\n"
   ]
  },
  {
   "cell_type": "code",
   "execution_count": null,
   "metadata": {},
   "outputs": [],
   "source": [
    "Means_By_Year = DF_QB_PM.groupby('Year').mean()\n",
    "Means_By_Year"
   ]
  },
  {
   "cell_type": "code",
   "execution_count": null,
   "metadata": {},
   "outputs": [],
   "source": [
    "# #2018 data summary stats\n",
    "DF_QB_PM_2018 = DF_QB_PM[DF_QB_PM['Year'] == '2018']\n",
    "DF_QB_PM_2018.describe().transpose()\n",
    "\n",
    "\n"
   ]
  },
  {
   "cell_type": "code",
   "execution_count": null,
   "metadata": {},
   "outputs": [],
   "source": [
    "#2019 data summary stats\n",
    "DF_QB_PM_2019 = DF_QB_PM[DF_QB_PM['Year'] == '2019']\n",
    "DF_QB_PM_2019.describe().transpose()\n"
   ]
  },
  {
   "cell_type": "code",
   "execution_count": null,
   "metadata": {},
   "outputs": [],
   "source": [
    "#2020 data summary stats\n",
    "DF_QB_PM_2020 = DF_QB_PM[DF_QB_PM['Year'] == '2020']\n",
    "DF_QB_PM_2020.describe().transpose()\n",
    "#DF_QB_PM_2018.head(5)"
   ]
  },
  {
   "cell_type": "code",
   "execution_count": null,
   "metadata": {},
   "outputs": [],
   "source": [
    "#Distribution of QB heights for 2020\n",
    "DF_QB_PM_2020['Height(IN)'].value_counts().sort_index().plot(kind = 'bar')\n",
    "plt.title('Distribution of Quarterback Heights in NFL for 2020')\n",
    "plt.xlabel('Height(IN)')\n",
    "plt.ylabel('Number of Quarterbacks')"
   ]
  },
  {
   "cell_type": "code",
   "execution_count": null,
   "metadata": {},
   "outputs": [],
   "source": [
    "#Distribution of QB heights for 2019\n",
    "DF_QB_PM_2019['Height(IN)'].value_counts().sort_index().plot(kind = 'bar')\n",
    "plt.title('Distribution of Quarterback Heights in NFL for 2019')\n",
    "plt.xlabel('Height(IN)')\n",
    "plt.ylabel('Number of Quarterbacks')"
   ]
  },
  {
   "cell_type": "code",
   "execution_count": null,
   "metadata": {},
   "outputs": [],
   "source": [
    "#Distribution of QB heights for 2018\n",
    "DF_QB_PM_2018['Height(IN)'].value_counts().sort_index().plot(kind = 'bar')\n",
    "plt.title('Distribution of Quarterback Heights in NFL for 2018')\n",
    "plt.xlabel('Height(IN)')\n",
    "plt.ylabel('Number of Quarterbacks')"
   ]
  },
  {
   "cell_type": "code",
   "execution_count": null,
   "metadata": {},
   "outputs": [],
   "source": [
    "#2020 line of best fit height to completions\n",
    "sns.regplot(x=DF_QB_PM_2020['Height(IN)'], y=DF_QB_PM_2020['Cmp']);"
   ]
  },
  {
   "cell_type": "code",
   "execution_count": null,
   "metadata": {},
   "outputs": [],
   "source": [
    "#2019 line of best fit  height to completions\n",
    "sns.regplot(x=DF_QB_PM_2019['Height(IN)'], y=DF_QB_PM_2019['Cmp']);"
   ]
  },
  {
   "cell_type": "code",
   "execution_count": null,
   "metadata": {},
   "outputs": [],
   "source": [
    "#2018 line of best fit height to completions\n",
    "sns.regplot(x=DF_QB_PM_2018['Height(IN)'], y=DF_QB_PM_2018['Cmp']);"
   ]
  },
  {
   "cell_type": "code",
   "execution_count": null,
   "metadata": {},
   "outputs": [],
   "source": [
    "#2020 line of best fit  height to attempts\n",
    "sns.regplot(x=DF_QB_PM_2020['Height(IN)'], y=DF_QB_PM_2020['Att']);"
   ]
  },
  {
   "cell_type": "code",
   "execution_count": null,
   "metadata": {},
   "outputs": [],
   "source": [
    "#2019 line of best fit  height to attempts\n",
    "sns.regplot(x=DF_QB_PM_2019['Height(IN)'], y=DF_QB_PM_2019['Att']);"
   ]
  },
  {
   "cell_type": "code",
   "execution_count": null,
   "metadata": {},
   "outputs": [],
   "source": [
    "#2019 line of best fit height to attempts\n",
    "sns.regplot(x=DF_QB_PM_2018['Height(IN)'], y=DF_QB_PM_2018['Att']);"
   ]
  },
  {
   "cell_type": "code",
   "execution_count": null,
   "metadata": {},
   "outputs": [],
   "source": [
    "#2020 line of best fit  height to completion percentage\n",
    "sns.regplot(x=DF_QB_PM_2020['Height(IN)'], y=DF_QB_PM_2020['Cmp%']);"
   ]
  },
  {
   "cell_type": "code",
   "execution_count": null,
   "metadata": {},
   "outputs": [],
   "source": [
    "#2019 line of best fit  height to completion percentage\n",
    "sns.regplot(x=DF_QB_PM_2019['Height(IN)'], y=DF_QB_PM_2019['Cmp%']);"
   ]
  },
  {
   "cell_type": "code",
   "execution_count": null,
   "metadata": {},
   "outputs": [],
   "source": [
    "#2018 line of best fit  height to completion percentage\n",
    "sns.regplot(x=DF_QB_PM_2018['Height(IN)'], y=DF_QB_PM_2018['Cmp%']);"
   ]
  },
  {
   "cell_type": "code",
   "execution_count": null,
   "metadata": {},
   "outputs": [],
   "source": [
    "#short quarterbacks: 73 inches and shorter \n",
    "DF_Short = DF_QB_PM[DF_QB_PM['Height(IN)']<74]\n",
    "DF_Short_Test = DF_Short[['TD']]\n",
    "#tall quarterbacks: 64 inches and taller\n",
    "DF_Tall = DF_QB_PM[DF_QB_PM['Height(IN)']>73]\n",
    "DF_Tall_Test = DF_Tall[['TD']]\n",
    "\n",
    "# T-test \n",
    "ttest_ind(DF_Short_Test,DF_Tall_Test)\n",
    "\n",
    "\n"
   ]
  },
  {
   "cell_type": "code",
   "execution_count": null,
   "metadata": {},
   "outputs": [],
   "source": [
    "# Returned: Ttest_indResult(statistic=array([0.28508418]), pvalue=array([0.7761015])) "
   ]
  }
 ]
}