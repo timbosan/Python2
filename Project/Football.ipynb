{
 "metadata": {
  "language_info": {
   "codemirror_mode": {
    "name": "ipython",
    "version": 3
   },
   "file_extension": ".py",
   "mimetype": "text/x-python",
   "name": "python",
   "nbconvert_exporter": "python",
   "pygments_lexer": "ipython3",
   "version": "3.8.5-final"
  },
  "orig_nbformat": 2,
  "kernelspec": {
   "name": "python3",
   "display_name": "Python 3.8.5 64-bit ('base': conda)",
   "metadata": {
    "interpreter": {
     "hash": "96de974b01b046934b52f4b659c3191343687683fcc318550f674f99061b09c5"
    }
   }
  }
 },
 "nbformat": 4,
 "nbformat_minor": 2,
 "cells": [
  {
   "cell_type": "code",
   "execution_count": null,
   "metadata": {},
   "outputs": [],
   "source": [
    "import pandas as pd\n",
    "import numpy as np \n"
   ]
  },
  {
   "cell_type": "code",
   "execution_count": 47,
   "metadata": {},
   "outputs": [
    {
     "output_type": "execute_result",
     "data": {
      "text/plain": [
       "       Player Name  Age Pos   Tm   G  GS  Cmp  Att   Yds  TD\n",
       "4  Patrick Mahomes   25  QB  KAN  15  15  390  588  4740  38"
      ],
      "text/html": "<div>\n<style scoped>\n    .dataframe tbody tr th:only-of-type {\n        vertical-align: middle;\n    }\n\n    .dataframe tbody tr th {\n        vertical-align: top;\n    }\n\n    .dataframe thead th {\n        text-align: right;\n    }\n</style>\n<table border=\"1\" class=\"dataframe\">\n  <thead>\n    <tr style=\"text-align: right;\">\n      <th></th>\n      <th>Player Name</th>\n      <th>Age</th>\n      <th>Pos</th>\n      <th>Tm</th>\n      <th>G</th>\n      <th>GS</th>\n      <th>Cmp</th>\n      <th>Att</th>\n      <th>Yds</th>\n      <th>TD</th>\n    </tr>\n  </thead>\n  <tbody>\n    <tr>\n      <th>4</th>\n      <td>Patrick Mahomes</td>\n      <td>25</td>\n      <td>QB</td>\n      <td>KAN</td>\n      <td>15</td>\n      <td>15</td>\n      <td>390</td>\n      <td>588</td>\n      <td>4740</td>\n      <td>38</td>\n    </tr>\n  </tbody>\n</table>\n</div>"
     },
     "metadata": {},
     "execution_count": 47
    }
   ],
   "source": [
    "#import QB stats CSV\n",
    "DF = pd.read_csv('supp/2020QB.csv')\n",
    "#splitting on '\\' to keep player name\n",
    "Name = DF['Player'].str.split('\\\\').str[0]\n",
    "Name = Name.values.tolist()\n",
    "Name = Name\n",
    "#function to remove puncutaion from player names\n",
    "def remove_punc(string):\n",
    "    punc = '*+'\n",
    "    for ele in string:\n",
    "        if ele in punc:\n",
    "            string = string.replace(ele,'')\n",
    "    return string\n",
    "#needed to add .strip() to lagging white space which affected merge downstream\n",
    "Name = [remove_punc(i).strip() for i in Name]\n",
    "DF['Player Name'] = Name\n",
    "DF = DF.iloc[:, 2:]\n",
    "#creating DF with fields I want\n",
    "DF_QB = DF[['Player Name', 'Age', 'Pos', 'Tm', 'G', 'GS', 'Cmp', 'Att', 'Yds', 'TD']]\n",
    "DF_QB.head(10)"
   ]
  },
  {
   "cell_type": "code",
   "execution_count": 42,
   "metadata": {
    "tags": []
   },
   "outputs": [
    {
     "output_type": "execute_result",
     "data": {
      "text/plain": [
       "          Player Name Pos Team Height   Weight      DOB\n",
       "1312  Patrick Mahomes  QB   KC   6'3\"  230 lbs  9/17/95"
      ],
      "text/html": "<div>\n<style scoped>\n    .dataframe tbody tr th:only-of-type {\n        vertical-align: middle;\n    }\n\n    .dataframe tbody tr th {\n        vertical-align: top;\n    }\n\n    .dataframe thead th {\n        text-align: right;\n    }\n</style>\n<table border=\"1\" class=\"dataframe\">\n  <thead>\n    <tr style=\"text-align: right;\">\n      <th></th>\n      <th>Player Name</th>\n      <th>Pos</th>\n      <th>Team</th>\n      <th>Height</th>\n      <th>Weight</th>\n      <th>DOB</th>\n    </tr>\n  </thead>\n  <tbody>\n    <tr>\n      <th>1312</th>\n      <td>Patrick Mahomes</td>\n      <td>QB</td>\n      <td>KC</td>\n      <td>6'3\"</td>\n      <td>230 lbs</td>\n      <td>9/17/95</td>\n    </tr>\n  </tbody>\n</table>\n</div>"
     },
     "metadata": {},
     "execution_count": 42
    }
   ],
   "source": [
    "DFPM = pd.read_csv('supp/playermeasureables - Sheet1.csv')\n",
    "Last_NamePM = DFPM['Player'].str.split(', ').str[0]\n",
    "Last_NamePM = Last_NamePM.values.tolist()\n",
    "First_NamePM = DFPM['Player'].str.split(', ').str[1]\n",
    "First_NamePM = First_NamePM.values.tolist()\n",
    "DFPM['First Name'] = First_NamePM\n",
    "DFPM['Last Name'] = Last_NamePM\n",
    "DFPM['Player Name'] = DFPM[['First Name', 'Last Name']].apply(lambda x: ' '.join(x), axis=1)\n",
    "DFPM_Info = DFPM[['Player Name', 'Pos', 'Team', 'Height', 'Weight', 'DOB']]\n",
    "#DFPM_Info.loc[DFPM_Info['Player Name']=='Patrick Mahomes']\n",
    "\n"
   ]
  },
  {
   "cell_type": "code",
   "execution_count": 48,
   "metadata": {},
   "outputs": [
    {
     "output_type": "execute_result",
     "data": {
      "text/plain": [
       "           Player Name  Age Pos_x   Tm   G  GS  Cmp  Att   Yds  TD Pos_y Team  \\\n",
       "0            Matt Ryan   35    QB  ATL  16  16  407  626  4581  26    QB  ATL   \n",
       "1            Tom Brady   43    QB  TAM  16  16  401  610  4633  40    QB   TB   \n",
       "2   Ben Roethlisberger   38    QB  PIT  15  15  399  608  3803  33    QB  PIT   \n",
       "3       Justin Herbert   22    QB  LAC  15  15  396  595  4336  31    QB  LAC   \n",
       "4      Patrick Mahomes   25    QB  KAN  15  15  390  588  4740  38    QB   KC   \n",
       "5           Josh Allen   24    QB  BUF  16  16  396  572  4544  37    QB  BUF   \n",
       "6           Josh Allen   24    QB  BUF  16  16  396  572  4544  37    DE  JAC   \n",
       "7         Kyler Murray   23    QB  ARI  16  16  375  558  3971  26    QB  ARI   \n",
       "8       Russell Wilson   32    QB  SEA  16  16  384  558  4212  40    QB  SEA   \n",
       "9           Jared Goff   26    QB  LAR  15  15  370  552  3952  20    QB  LAR   \n",
       "10      Deshaun Watson   25    QB  HOU  16  16  382  544  4823  33    QB  HOU   \n",
       "11       Philip Rivers   39    QB  IND  16  16  369  543  4169  24    QB  IND   \n",
       "12    Matthew Stafford   32    QB  DET  16  16  339  528  4084  26    QB  DET   \n",
       "13       Aaron Rodgers   37    QB  GNB  16  16  372  526  4299  48    QB   GB   \n",
       "14          Derek Carr   29    QB  LVR  16  16  348  517  4103  27    QB   LV   \n",
       "15        Kirk Cousins   32    QB  MIN  16  16  349  516  4265  35    QB  MIN   \n",
       "16   Teddy Bridgewater   28    QB  CAR  15  15  340  492  3733  15    QB  CAR   \n",
       "17      Baker Mayfield   25    QB  CLE  16  16  305  486  3563  26    QB  CLE   \n",
       "18      Ryan Tannehill   32    QB  TEN  16  16  315  481  3819  33    QB  TEN   \n",
       "19        Daniel Jones   23    QB  NYG  14  14  280  448  2943  11    QB  NYG   \n",
       "20           Drew Lock   24    QB  DEN  13  13  254  443  2933  16    QB  DEN   \n",
       "21        Carson Wentz   28    QB  PHI  12  12  251  437  2620  16    QB  IND   \n",
       "22          Joe Burrow   24    qb  CIN  10  10  264  404  2688  13    QB  CIN   \n",
       "23          Drew Brees   41    QB  NOR  12  12  275  390  2942  24    QB   NO   \n",
       "24       Lamar Jackson   23    QB  BAL  15  15  242  376  2757  26    QB  BAL   \n",
       "25       Lamar Jackson   23    QB  BAL  15  15  242  376  2757  26    CB  NYJ   \n",
       "26          Cam Newton   31    QB  NWE  15  15  242  368  2657   8    QB   NE   \n",
       "27         Sam Darnold   23    QB  NYJ  12  12  217  364  2208   9    QB  NYJ   \n",
       "28         Andy Dalton   33    qb  DAL  11   9  216  333  2170  14    QB  DAL   \n",
       "29  Gardner Minshew II   24    qb  JAX   9   8  216  327  2259  16    QB  JAC   \n",
       "\n",
       "   Height   Weight       DOB  \n",
       "0    6'4\"  217 lbs   5/17/85  \n",
       "1    6'4\"  225 lbs    8/3/77  \n",
       "2    6'5\"  240 lbs    3/2/82  \n",
       "3    6'6\"  237 lbs   3/10/98  \n",
       "4    6'3\"  230 lbs   9/17/95  \n",
       "5    6'5\"  237 lbs   5/21/96  \n",
       "6    6'5\"  262 lbs   7/13/97  \n",
       "7   5'10\"  207 lbs    8/7/97  \n",
       "8   5'11\"  215 lbs  11/29/88  \n",
       "9    6'4\"  222 lbs  10/14/94  \n",
       "10   6'2\"  220 lbs   9/14/95  \n",
       "11   6'5\"  228 lbs   12/8/81  \n",
       "12   6'3\"  220 lbs    2/7/88  \n",
       "13   6'2\"  225 lbs   12/2/83  \n",
       "14   6'3\"  210 lbs   3/28/91  \n",
       "15   6'3\"  202 lbs   8/19/88  \n",
       "16   6'2\"  215 lbs  11/10/92  \n",
       "17   6'1\"  215 lbs   4/14/95  \n",
       "18   6'4\"  217 lbs   7/27/88  \n",
       "19   6'5\"  221 lbs   5/27/97  \n",
       "20   6'4\"  228 lbs  11/10/96  \n",
       "21   6'5\"  237 lbs  12/30/92  \n",
       "22   6'4\"  221 lbs  12/10/96  \n",
       "23   6'0\"  209 lbs   1/15/79  \n",
       "24   6'2\"  212 lbs    1/7/97  \n",
       "25   6'2\"  208 lbs   4/13/98  \n",
       "26   6'5\"  245 lbs   5/11/89  \n",
       "27   6'3\"  225 lbs    6/5/97  \n",
       "28   6'2\"  220 lbs  10/29/87  \n",
       "29   6'1\"  225 lbs   5/16/96  "
      ],
      "text/html": "<div>\n<style scoped>\n    .dataframe tbody tr th:only-of-type {\n        vertical-align: middle;\n    }\n\n    .dataframe tbody tr th {\n        vertical-align: top;\n    }\n\n    .dataframe thead th {\n        text-align: right;\n    }\n</style>\n<table border=\"1\" class=\"dataframe\">\n  <thead>\n    <tr style=\"text-align: right;\">\n      <th></th>\n      <th>Player Name</th>\n      <th>Age</th>\n      <th>Pos_x</th>\n      <th>Tm</th>\n      <th>G</th>\n      <th>GS</th>\n      <th>Cmp</th>\n      <th>Att</th>\n      <th>Yds</th>\n      <th>TD</th>\n      <th>Pos_y</th>\n      <th>Team</th>\n      <th>Height</th>\n      <th>Weight</th>\n      <th>DOB</th>\n    </tr>\n  </thead>\n  <tbody>\n    <tr>\n      <th>0</th>\n      <td>Matt Ryan</td>\n      <td>35</td>\n      <td>QB</td>\n      <td>ATL</td>\n      <td>16</td>\n      <td>16</td>\n      <td>407</td>\n      <td>626</td>\n      <td>4581</td>\n      <td>26</td>\n      <td>QB</td>\n      <td>ATL</td>\n      <td>6'4\"</td>\n      <td>217 lbs</td>\n      <td>5/17/85</td>\n    </tr>\n    <tr>\n      <th>1</th>\n      <td>Tom Brady</td>\n      <td>43</td>\n      <td>QB</td>\n      <td>TAM</td>\n      <td>16</td>\n      <td>16</td>\n      <td>401</td>\n      <td>610</td>\n      <td>4633</td>\n      <td>40</td>\n      <td>QB</td>\n      <td>TB</td>\n      <td>6'4\"</td>\n      <td>225 lbs</td>\n      <td>8/3/77</td>\n    </tr>\n    <tr>\n      <th>2</th>\n      <td>Ben Roethlisberger</td>\n      <td>38</td>\n      <td>QB</td>\n      <td>PIT</td>\n      <td>15</td>\n      <td>15</td>\n      <td>399</td>\n      <td>608</td>\n      <td>3803</td>\n      <td>33</td>\n      <td>QB</td>\n      <td>PIT</td>\n      <td>6'5\"</td>\n      <td>240 lbs</td>\n      <td>3/2/82</td>\n    </tr>\n    <tr>\n      <th>3</th>\n      <td>Justin Herbert</td>\n      <td>22</td>\n      <td>QB</td>\n      <td>LAC</td>\n      <td>15</td>\n      <td>15</td>\n      <td>396</td>\n      <td>595</td>\n      <td>4336</td>\n      <td>31</td>\n      <td>QB</td>\n      <td>LAC</td>\n      <td>6'6\"</td>\n      <td>237 lbs</td>\n      <td>3/10/98</td>\n    </tr>\n    <tr>\n      <th>4</th>\n      <td>Patrick Mahomes</td>\n      <td>25</td>\n      <td>QB</td>\n      <td>KAN</td>\n      <td>15</td>\n      <td>15</td>\n      <td>390</td>\n      <td>588</td>\n      <td>4740</td>\n      <td>38</td>\n      <td>QB</td>\n      <td>KC</td>\n      <td>6'3\"</td>\n      <td>230 lbs</td>\n      <td>9/17/95</td>\n    </tr>\n    <tr>\n      <th>5</th>\n      <td>Josh Allen</td>\n      <td>24</td>\n      <td>QB</td>\n      <td>BUF</td>\n      <td>16</td>\n      <td>16</td>\n      <td>396</td>\n      <td>572</td>\n      <td>4544</td>\n      <td>37</td>\n      <td>QB</td>\n      <td>BUF</td>\n      <td>6'5\"</td>\n      <td>237 lbs</td>\n      <td>5/21/96</td>\n    </tr>\n    <tr>\n      <th>6</th>\n      <td>Josh Allen</td>\n      <td>24</td>\n      <td>QB</td>\n      <td>BUF</td>\n      <td>16</td>\n      <td>16</td>\n      <td>396</td>\n      <td>572</td>\n      <td>4544</td>\n      <td>37</td>\n      <td>DE</td>\n      <td>JAC</td>\n      <td>6'5\"</td>\n      <td>262 lbs</td>\n      <td>7/13/97</td>\n    </tr>\n    <tr>\n      <th>7</th>\n      <td>Kyler Murray</td>\n      <td>23</td>\n      <td>QB</td>\n      <td>ARI</td>\n      <td>16</td>\n      <td>16</td>\n      <td>375</td>\n      <td>558</td>\n      <td>3971</td>\n      <td>26</td>\n      <td>QB</td>\n      <td>ARI</td>\n      <td>5'10\"</td>\n      <td>207 lbs</td>\n      <td>8/7/97</td>\n    </tr>\n    <tr>\n      <th>8</th>\n      <td>Russell Wilson</td>\n      <td>32</td>\n      <td>QB</td>\n      <td>SEA</td>\n      <td>16</td>\n      <td>16</td>\n      <td>384</td>\n      <td>558</td>\n      <td>4212</td>\n      <td>40</td>\n      <td>QB</td>\n      <td>SEA</td>\n      <td>5'11\"</td>\n      <td>215 lbs</td>\n      <td>11/29/88</td>\n    </tr>\n    <tr>\n      <th>9</th>\n      <td>Jared Goff</td>\n      <td>26</td>\n      <td>QB</td>\n      <td>LAR</td>\n      <td>15</td>\n      <td>15</td>\n      <td>370</td>\n      <td>552</td>\n      <td>3952</td>\n      <td>20</td>\n      <td>QB</td>\n      <td>LAR</td>\n      <td>6'4\"</td>\n      <td>222 lbs</td>\n      <td>10/14/94</td>\n    </tr>\n    <tr>\n      <th>10</th>\n      <td>Deshaun Watson</td>\n      <td>25</td>\n      <td>QB</td>\n      <td>HOU</td>\n      <td>16</td>\n      <td>16</td>\n      <td>382</td>\n      <td>544</td>\n      <td>4823</td>\n      <td>33</td>\n      <td>QB</td>\n      <td>HOU</td>\n      <td>6'2\"</td>\n      <td>220 lbs</td>\n      <td>9/14/95</td>\n    </tr>\n    <tr>\n      <th>11</th>\n      <td>Philip Rivers</td>\n      <td>39</td>\n      <td>QB</td>\n      <td>IND</td>\n      <td>16</td>\n      <td>16</td>\n      <td>369</td>\n      <td>543</td>\n      <td>4169</td>\n      <td>24</td>\n      <td>QB</td>\n      <td>IND</td>\n      <td>6'5\"</td>\n      <td>228 lbs</td>\n      <td>12/8/81</td>\n    </tr>\n    <tr>\n      <th>12</th>\n      <td>Matthew Stafford</td>\n      <td>32</td>\n      <td>QB</td>\n      <td>DET</td>\n      <td>16</td>\n      <td>16</td>\n      <td>339</td>\n      <td>528</td>\n      <td>4084</td>\n      <td>26</td>\n      <td>QB</td>\n      <td>DET</td>\n      <td>6'3\"</td>\n      <td>220 lbs</td>\n      <td>2/7/88</td>\n    </tr>\n    <tr>\n      <th>13</th>\n      <td>Aaron Rodgers</td>\n      <td>37</td>\n      <td>QB</td>\n      <td>GNB</td>\n      <td>16</td>\n      <td>16</td>\n      <td>372</td>\n      <td>526</td>\n      <td>4299</td>\n      <td>48</td>\n      <td>QB</td>\n      <td>GB</td>\n      <td>6'2\"</td>\n      <td>225 lbs</td>\n      <td>12/2/83</td>\n    </tr>\n    <tr>\n      <th>14</th>\n      <td>Derek Carr</td>\n      <td>29</td>\n      <td>QB</td>\n      <td>LVR</td>\n      <td>16</td>\n      <td>16</td>\n      <td>348</td>\n      <td>517</td>\n      <td>4103</td>\n      <td>27</td>\n      <td>QB</td>\n      <td>LV</td>\n      <td>6'3\"</td>\n      <td>210 lbs</td>\n      <td>3/28/91</td>\n    </tr>\n    <tr>\n      <th>15</th>\n      <td>Kirk Cousins</td>\n      <td>32</td>\n      <td>QB</td>\n      <td>MIN</td>\n      <td>16</td>\n      <td>16</td>\n      <td>349</td>\n      <td>516</td>\n      <td>4265</td>\n      <td>35</td>\n      <td>QB</td>\n      <td>MIN</td>\n      <td>6'3\"</td>\n      <td>202 lbs</td>\n      <td>8/19/88</td>\n    </tr>\n    <tr>\n      <th>16</th>\n      <td>Teddy Bridgewater</td>\n      <td>28</td>\n      <td>QB</td>\n      <td>CAR</td>\n      <td>15</td>\n      <td>15</td>\n      <td>340</td>\n      <td>492</td>\n      <td>3733</td>\n      <td>15</td>\n      <td>QB</td>\n      <td>CAR</td>\n      <td>6'2\"</td>\n      <td>215 lbs</td>\n      <td>11/10/92</td>\n    </tr>\n    <tr>\n      <th>17</th>\n      <td>Baker Mayfield</td>\n      <td>25</td>\n      <td>QB</td>\n      <td>CLE</td>\n      <td>16</td>\n      <td>16</td>\n      <td>305</td>\n      <td>486</td>\n      <td>3563</td>\n      <td>26</td>\n      <td>QB</td>\n      <td>CLE</td>\n      <td>6'1\"</td>\n      <td>215 lbs</td>\n      <td>4/14/95</td>\n    </tr>\n    <tr>\n      <th>18</th>\n      <td>Ryan Tannehill</td>\n      <td>32</td>\n      <td>QB</td>\n      <td>TEN</td>\n      <td>16</td>\n      <td>16</td>\n      <td>315</td>\n      <td>481</td>\n      <td>3819</td>\n      <td>33</td>\n      <td>QB</td>\n      <td>TEN</td>\n      <td>6'4\"</td>\n      <td>217 lbs</td>\n      <td>7/27/88</td>\n    </tr>\n    <tr>\n      <th>19</th>\n      <td>Daniel Jones</td>\n      <td>23</td>\n      <td>QB</td>\n      <td>NYG</td>\n      <td>14</td>\n      <td>14</td>\n      <td>280</td>\n      <td>448</td>\n      <td>2943</td>\n      <td>11</td>\n      <td>QB</td>\n      <td>NYG</td>\n      <td>6'5\"</td>\n      <td>221 lbs</td>\n      <td>5/27/97</td>\n    </tr>\n    <tr>\n      <th>20</th>\n      <td>Drew Lock</td>\n      <td>24</td>\n      <td>QB</td>\n      <td>DEN</td>\n      <td>13</td>\n      <td>13</td>\n      <td>254</td>\n      <td>443</td>\n      <td>2933</td>\n      <td>16</td>\n      <td>QB</td>\n      <td>DEN</td>\n      <td>6'4\"</td>\n      <td>228 lbs</td>\n      <td>11/10/96</td>\n    </tr>\n    <tr>\n      <th>21</th>\n      <td>Carson Wentz</td>\n      <td>28</td>\n      <td>QB</td>\n      <td>PHI</td>\n      <td>12</td>\n      <td>12</td>\n      <td>251</td>\n      <td>437</td>\n      <td>2620</td>\n      <td>16</td>\n      <td>QB</td>\n      <td>IND</td>\n      <td>6'5\"</td>\n      <td>237 lbs</td>\n      <td>12/30/92</td>\n    </tr>\n    <tr>\n      <th>22</th>\n      <td>Joe Burrow</td>\n      <td>24</td>\n      <td>qb</td>\n      <td>CIN</td>\n      <td>10</td>\n      <td>10</td>\n      <td>264</td>\n      <td>404</td>\n      <td>2688</td>\n      <td>13</td>\n      <td>QB</td>\n      <td>CIN</td>\n      <td>6'4\"</td>\n      <td>221 lbs</td>\n      <td>12/10/96</td>\n    </tr>\n    <tr>\n      <th>23</th>\n      <td>Drew Brees</td>\n      <td>41</td>\n      <td>QB</td>\n      <td>NOR</td>\n      <td>12</td>\n      <td>12</td>\n      <td>275</td>\n      <td>390</td>\n      <td>2942</td>\n      <td>24</td>\n      <td>QB</td>\n      <td>NO</td>\n      <td>6'0\"</td>\n      <td>209 lbs</td>\n      <td>1/15/79</td>\n    </tr>\n    <tr>\n      <th>24</th>\n      <td>Lamar Jackson</td>\n      <td>23</td>\n      <td>QB</td>\n      <td>BAL</td>\n      <td>15</td>\n      <td>15</td>\n      <td>242</td>\n      <td>376</td>\n      <td>2757</td>\n      <td>26</td>\n      <td>QB</td>\n      <td>BAL</td>\n      <td>6'2\"</td>\n      <td>212 lbs</td>\n      <td>1/7/97</td>\n    </tr>\n    <tr>\n      <th>25</th>\n      <td>Lamar Jackson</td>\n      <td>23</td>\n      <td>QB</td>\n      <td>BAL</td>\n      <td>15</td>\n      <td>15</td>\n      <td>242</td>\n      <td>376</td>\n      <td>2757</td>\n      <td>26</td>\n      <td>CB</td>\n      <td>NYJ</td>\n      <td>6'2\"</td>\n      <td>208 lbs</td>\n      <td>4/13/98</td>\n    </tr>\n    <tr>\n      <th>26</th>\n      <td>Cam Newton</td>\n      <td>31</td>\n      <td>QB</td>\n      <td>NWE</td>\n      <td>15</td>\n      <td>15</td>\n      <td>242</td>\n      <td>368</td>\n      <td>2657</td>\n      <td>8</td>\n      <td>QB</td>\n      <td>NE</td>\n      <td>6'5\"</td>\n      <td>245 lbs</td>\n      <td>5/11/89</td>\n    </tr>\n    <tr>\n      <th>27</th>\n      <td>Sam Darnold</td>\n      <td>23</td>\n      <td>QB</td>\n      <td>NYJ</td>\n      <td>12</td>\n      <td>12</td>\n      <td>217</td>\n      <td>364</td>\n      <td>2208</td>\n      <td>9</td>\n      <td>QB</td>\n      <td>NYJ</td>\n      <td>6'3\"</td>\n      <td>225 lbs</td>\n      <td>6/5/97</td>\n    </tr>\n    <tr>\n      <th>28</th>\n      <td>Andy Dalton</td>\n      <td>33</td>\n      <td>qb</td>\n      <td>DAL</td>\n      <td>11</td>\n      <td>9</td>\n      <td>216</td>\n      <td>333</td>\n      <td>2170</td>\n      <td>14</td>\n      <td>QB</td>\n      <td>DAL</td>\n      <td>6'2\"</td>\n      <td>220 lbs</td>\n      <td>10/29/87</td>\n    </tr>\n    <tr>\n      <th>29</th>\n      <td>Gardner Minshew II</td>\n      <td>24</td>\n      <td>qb</td>\n      <td>JAX</td>\n      <td>9</td>\n      <td>8</td>\n      <td>216</td>\n      <td>327</td>\n      <td>2259</td>\n      <td>16</td>\n      <td>QB</td>\n      <td>JAC</td>\n      <td>6'1\"</td>\n      <td>225 lbs</td>\n      <td>5/16/96</td>\n    </tr>\n  </tbody>\n</table>\n</div>"
     },
     "metadata": {},
     "execution_count": 48
    }
   ],
   "source": [
    "#DF_QB.merge(DFPM_Info, how='left', on='Player Name')\n",
    "DF_QB_PM = pd.merge(DF_QB, DFPM_Info, how='left', on=['Player Name'])\n",
    "DF_QB_PM.head(30)"
   ]
  },
  {
   "cell_type": "code",
   "execution_count": null,
   "metadata": {},
   "outputs": [],
   "source": []
  }
 ]
}