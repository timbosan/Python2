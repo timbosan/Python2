{
 "metadata": {
  "language_info": {
   "codemirror_mode": {
    "name": "ipython",
    "version": 3
   },
   "file_extension": ".py",
   "mimetype": "text/x-python",
   "name": "python",
   "nbconvert_exporter": "python",
   "pygments_lexer": "ipython3",
   "version": "3.8.5-final"
  },
  "orig_nbformat": 2,
  "kernelspec": {
   "name": "python3",
   "display_name": "Python 3.8.5 64-bit ('base': conda)",
   "metadata": {
    "interpreter": {
     "hash": "96de974b01b046934b52f4b659c3191343687683fcc318550f674f99061b09c5"
    }
   }
  }
 },
 "nbformat": 4,
 "nbformat_minor": 2,
 "cells": [
  {
   "cell_type": "code",
   "execution_count": null,
   "metadata": {},
   "outputs": [],
   "source": [
    "import pandas as pd\n",
    "import numpy as np \n"
   ]
  },
  {
   "cell_type": "code",
   "execution_count": 14,
   "metadata": {},
   "outputs": [
    {
     "output_type": "execute_result",
     "data": {
      "text/plain": [
       "          Player Name  Age Pos   Tm   G  GS  Cmp  Att   Yds  TD\n",
       "0           Matt Ryan   35  QB  ATL  16  16  407  626  4581  26\n",
       "1           Tom Brady   43  QB  TAM  16  16  401  610  4633  40\n",
       "2  Ben Roethlisberger   38  QB  PIT  15  15  399  608  3803  33\n",
       "3      Justin Herbert   22  QB  LAC  15  15  396  595  4336  31\n",
       "4    Patrick Mahomes    25  QB  KAN  15  15  390  588  4740  38\n",
       "5         Josh Allen    24  QB  BUF  16  16  396  572  4544  37\n",
       "6       Kyler Murray    23  QB  ARI  16  16  375  558  3971  26\n",
       "7     Russell Wilson    32  QB  SEA  16  16  384  558  4212  40\n",
       "8          Jared Goff   26  QB  LAR  15  15  370  552  3952  20\n",
       "9     Deshaun Watson    25  QB  HOU  16  16  382  544  4823  33"
      ],
      "text/html": "<div>\n<style scoped>\n    .dataframe tbody tr th:only-of-type {\n        vertical-align: middle;\n    }\n\n    .dataframe tbody tr th {\n        vertical-align: top;\n    }\n\n    .dataframe thead th {\n        text-align: right;\n    }\n</style>\n<table border=\"1\" class=\"dataframe\">\n  <thead>\n    <tr style=\"text-align: right;\">\n      <th></th>\n      <th>Player Name</th>\n      <th>Age</th>\n      <th>Pos</th>\n      <th>Tm</th>\n      <th>G</th>\n      <th>GS</th>\n      <th>Cmp</th>\n      <th>Att</th>\n      <th>Yds</th>\n      <th>TD</th>\n    </tr>\n  </thead>\n  <tbody>\n    <tr>\n      <th>0</th>\n      <td>Matt Ryan</td>\n      <td>35</td>\n      <td>QB</td>\n      <td>ATL</td>\n      <td>16</td>\n      <td>16</td>\n      <td>407</td>\n      <td>626</td>\n      <td>4581</td>\n      <td>26</td>\n    </tr>\n    <tr>\n      <th>1</th>\n      <td>Tom Brady</td>\n      <td>43</td>\n      <td>QB</td>\n      <td>TAM</td>\n      <td>16</td>\n      <td>16</td>\n      <td>401</td>\n      <td>610</td>\n      <td>4633</td>\n      <td>40</td>\n    </tr>\n    <tr>\n      <th>2</th>\n      <td>Ben Roethlisberger</td>\n      <td>38</td>\n      <td>QB</td>\n      <td>PIT</td>\n      <td>15</td>\n      <td>15</td>\n      <td>399</td>\n      <td>608</td>\n      <td>3803</td>\n      <td>33</td>\n    </tr>\n    <tr>\n      <th>3</th>\n      <td>Justin Herbert</td>\n      <td>22</td>\n      <td>QB</td>\n      <td>LAC</td>\n      <td>15</td>\n      <td>15</td>\n      <td>396</td>\n      <td>595</td>\n      <td>4336</td>\n      <td>31</td>\n    </tr>\n    <tr>\n      <th>4</th>\n      <td>Patrick Mahomes</td>\n      <td>25</td>\n      <td>QB</td>\n      <td>KAN</td>\n      <td>15</td>\n      <td>15</td>\n      <td>390</td>\n      <td>588</td>\n      <td>4740</td>\n      <td>38</td>\n    </tr>\n    <tr>\n      <th>5</th>\n      <td>Josh Allen</td>\n      <td>24</td>\n      <td>QB</td>\n      <td>BUF</td>\n      <td>16</td>\n      <td>16</td>\n      <td>396</td>\n      <td>572</td>\n      <td>4544</td>\n      <td>37</td>\n    </tr>\n    <tr>\n      <th>6</th>\n      <td>Kyler Murray</td>\n      <td>23</td>\n      <td>QB</td>\n      <td>ARI</td>\n      <td>16</td>\n      <td>16</td>\n      <td>375</td>\n      <td>558</td>\n      <td>3971</td>\n      <td>26</td>\n    </tr>\n    <tr>\n      <th>7</th>\n      <td>Russell Wilson</td>\n      <td>32</td>\n      <td>QB</td>\n      <td>SEA</td>\n      <td>16</td>\n      <td>16</td>\n      <td>384</td>\n      <td>558</td>\n      <td>4212</td>\n      <td>40</td>\n    </tr>\n    <tr>\n      <th>8</th>\n      <td>Jared Goff</td>\n      <td>26</td>\n      <td>QB</td>\n      <td>LAR</td>\n      <td>15</td>\n      <td>15</td>\n      <td>370</td>\n      <td>552</td>\n      <td>3952</td>\n      <td>20</td>\n    </tr>\n    <tr>\n      <th>9</th>\n      <td>Deshaun Watson</td>\n      <td>25</td>\n      <td>QB</td>\n      <td>HOU</td>\n      <td>16</td>\n      <td>16</td>\n      <td>382</td>\n      <td>544</td>\n      <td>4823</td>\n      <td>33</td>\n    </tr>\n  </tbody>\n</table>\n</div>"
     },
     "metadata": {},
     "execution_count": 14
    }
   ],
   "source": [
    "#import QB stats CSV\n",
    "DF = pd.read_csv('supp/2020QB.csv')\n",
    "#splitting on '\\' to keep player name\n",
    "Name = DF['Player'].str.split('\\\\').str[0]\n",
    "Name = Name.values.tolist()\n",
    "#function to remove puncutaion from player names\n",
    "def remove_punc(string):\n",
    "    punc = '*+'\n",
    "    for ele in string:\n",
    "        if ele in punc:\n",
    "            string = string.replace(ele,'')\n",
    "    return string\n",
    "Name = [remove_punc(i) for i in Name]\n",
    "DF['Player Name'] = Name\n",
    "DF = DF.iloc[:, 2:]\n",
    "#creating DF with fields I want\n",
    "DF_QB = DF[['Player Name', 'Age', 'Pos', 'Tm', 'G', 'GS', 'Cmp', 'Att', 'Yds', 'TD']]\n",
    "DF_QB.head(10)"
   ]
  },
  {
   "cell_type": "code",
   "execution_count": 20,
   "metadata": {
    "tags": []
   },
   "outputs": [
    {
     "output_type": "execute_result",
     "data": {
      "text/plain": [
       "        Player Name Pos Team Height   Weight       DOB\n",
       "0    Ameer Abdullah  RB  MIN   5'9\"  203 lbs   6/13/93\n",
       "1      Oday Aboushi   G  DET   6'5\"  315 lbs    6/5/91\n",
       "2   Johnathan Abram   S   LV   6'0\"  205 lbs  10/25/96\n",
       "3    Delrick Abrams  DB  ATL   6'3\"  180 lbs    4/4/97\n",
       "4      Andrew Adams   S   TB  5'11\"  205 lbs  10/28/92\n",
       "5     Davante Adams  WR   GB   6'1\"  215 lbs  12/24/92\n",
       "6       Jamal Adams   S  SEA   6'1\"  213 lbs  10/17/95\n",
       "7        Josh Adams  RB  NYJ   6'2\"  225 lbs  10/26/96\n",
       "8     Matthew Adams  LB  IND   6'0\"  229 lbs  12/12/95\n",
       "9  Montravius Adams  DL   GB   6'4\"  304 lbs   7/24/95"
      ],
      "text/html": "<div>\n<style scoped>\n    .dataframe tbody tr th:only-of-type {\n        vertical-align: middle;\n    }\n\n    .dataframe tbody tr th {\n        vertical-align: top;\n    }\n\n    .dataframe thead th {\n        text-align: right;\n    }\n</style>\n<table border=\"1\" class=\"dataframe\">\n  <thead>\n    <tr style=\"text-align: right;\">\n      <th></th>\n      <th>Player Name</th>\n      <th>Pos</th>\n      <th>Team</th>\n      <th>Height</th>\n      <th>Weight</th>\n      <th>DOB</th>\n    </tr>\n  </thead>\n  <tbody>\n    <tr>\n      <th>0</th>\n      <td>Ameer Abdullah</td>\n      <td>RB</td>\n      <td>MIN</td>\n      <td>5'9\"</td>\n      <td>203 lbs</td>\n      <td>6/13/93</td>\n    </tr>\n    <tr>\n      <th>1</th>\n      <td>Oday Aboushi</td>\n      <td>G</td>\n      <td>DET</td>\n      <td>6'5\"</td>\n      <td>315 lbs</td>\n      <td>6/5/91</td>\n    </tr>\n    <tr>\n      <th>2</th>\n      <td>Johnathan Abram</td>\n      <td>S</td>\n      <td>LV</td>\n      <td>6'0\"</td>\n      <td>205 lbs</td>\n      <td>10/25/96</td>\n    </tr>\n    <tr>\n      <th>3</th>\n      <td>Delrick Abrams</td>\n      <td>DB</td>\n      <td>ATL</td>\n      <td>6'3\"</td>\n      <td>180 lbs</td>\n      <td>4/4/97</td>\n    </tr>\n    <tr>\n      <th>4</th>\n      <td>Andrew Adams</td>\n      <td>S</td>\n      <td>TB</td>\n      <td>5'11\"</td>\n      <td>205 lbs</td>\n      <td>10/28/92</td>\n    </tr>\n    <tr>\n      <th>5</th>\n      <td>Davante Adams</td>\n      <td>WR</td>\n      <td>GB</td>\n      <td>6'1\"</td>\n      <td>215 lbs</td>\n      <td>12/24/92</td>\n    </tr>\n    <tr>\n      <th>6</th>\n      <td>Jamal Adams</td>\n      <td>S</td>\n      <td>SEA</td>\n      <td>6'1\"</td>\n      <td>213 lbs</td>\n      <td>10/17/95</td>\n    </tr>\n    <tr>\n      <th>7</th>\n      <td>Josh Adams</td>\n      <td>RB</td>\n      <td>NYJ</td>\n      <td>6'2\"</td>\n      <td>225 lbs</td>\n      <td>10/26/96</td>\n    </tr>\n    <tr>\n      <th>8</th>\n      <td>Matthew Adams</td>\n      <td>LB</td>\n      <td>IND</td>\n      <td>6'0\"</td>\n      <td>229 lbs</td>\n      <td>12/12/95</td>\n    </tr>\n    <tr>\n      <th>9</th>\n      <td>Montravius Adams</td>\n      <td>DL</td>\n      <td>GB</td>\n      <td>6'4\"</td>\n      <td>304 lbs</td>\n      <td>7/24/95</td>\n    </tr>\n  </tbody>\n</table>\n</div>"
     },
     "metadata": {},
     "execution_count": 20
    }
   ],
   "source": [
    "DFPM = pd.read_csv('supp/playermeasureables - Sheet1.csv')\n",
    "Last_NamePM = DFPM['Player'].str.split(', ').str[0]\n",
    "Last_NamePM = Last_NamePM.values.tolist()\n",
    "First_NamePM = DFPM['Player'].str.split(', ').str[1]\n",
    "First_NamePM = First_NamePM.values.tolist()\n",
    "DFPM['First Name'] = First_NamePM\n",
    "DFPM['Last Name'] = Last_NamePM\n",
    "DFPM['Player Name'] = DFPM[['First Name', 'Last Name']].apply(lambda x: ' '.join(x), axis=1)\n",
    "DFPM_Info = DFPM[['Player Name', 'Pos', 'Team', 'Height', 'Weight', 'DOB']]\n",
    "DFPM_Info.head(10)\n"
   ]
  },
  {
   "cell_type": "code",
   "execution_count": null,
   "metadata": {},
   "outputs": [],
   "source": []
  }
 ]
}