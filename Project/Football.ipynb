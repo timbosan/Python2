{
 "metadata": {
  "language_info": {
   "codemirror_mode": {
    "name": "ipython",
    "version": 3
   },
   "file_extension": ".py",
   "mimetype": "text/x-python",
   "name": "python",
   "nbconvert_exporter": "python",
   "pygments_lexer": "ipython3",
   "version": "3.8.5-final"
  },
  "orig_nbformat": 2,
  "kernelspec": {
   "name": "python3",
   "display_name": "Python 3.8.5 64-bit ('base': conda)",
   "metadata": {
    "interpreter": {
     "hash": "96de974b01b046934b52f4b659c3191343687683fcc318550f674f99061b09c5"
    }
   }
  }
 },
 "nbformat": 4,
 "nbformat_minor": 2,
 "cells": [
  {
   "cell_type": "code",
   "execution_count": null,
   "metadata": {},
   "outputs": [],
   "source": [
    "import pandas as pd\n",
    "import numpy as np \n"
   ]
  },
  {
   "cell_type": "code",
   "execution_count": null,
   "metadata": {},
   "outputs": [],
   "source": [
    "#import 2020 QB stats CSV\n",
    "DF2020 = pd.read_csv('supp/2020QB.csv')\n",
    "#splitting on '\\' to keep player name\n",
    "Name = DF2020['Player'].str.split('\\\\').str[0]\n",
    "Name = Name.values.tolist()\n",
    "Name = Name\n",
    "#function to remove puncutaion from player names\n",
    "def remove_punc(string):\n",
    "    punc = '*+'\n",
    "    for ele in string:\n",
    "        if ele in punc:\n",
    "            string = string.replace(ele,'')\n",
    "    return string\n",
    "#needed to add .strip() to lagging white space which affected merge downstream\n",
    "Name = [remove_punc(i).strip() for i in Name]\n",
    "DF2020['Player Name'] = Name\n",
    "DF2020['Pos'] = DF2020['Pos'].str.upper()\n",
    "DF2020 = DF2020.iloc[:, 2:]\n",
    "DF2020['Year'] = '2020'\n",
    "\n"
   ]
  },
  {
   "cell_type": "code",
   "execution_count": null,
   "metadata": {},
   "outputs": [],
   "source": [
    "#import 2019 QB stats CSV\n",
    "DF2019 = pd.read_csv('supp/2019QB.csv')\n",
    "#splitting on '\\' to keep player name\n",
    "Name = DF2019['Player'].str.split('\\\\').str[0]\n",
    "Name = Name.values.tolist()\n",
    "Name = Name\n",
    "#function to remove puncutaion from player names\n",
    "def remove_punc(string):\n",
    "    punc = '*+'\n",
    "    for ele in string:\n",
    "        if ele in punc:\n",
    "            string = string.replace(ele,'')\n",
    "    return string\n",
    "#needed to add .strip() to lagging white space which affected merge downstream\n",
    "Name = [remove_punc(i).strip() for i in Name]\n",
    "DF2019['Player Name'] = Name\n",
    "DF2019['Pos'] = DF2019['Pos'].str.upper()\n",
    "DF2019 = DF2019.iloc[:, 2:]\n",
    "DF2019['Year'] = '2019'\n",
    "\n"
   ]
  },
  {
   "cell_type": "code",
   "execution_count": 10,
   "metadata": {},
   "outputs": [],
   "source": [
    "#import 2018 QB stats CSV\n",
    "DF2018 = pd.read_csv('supp/2019QB.csv')\n",
    "#splitting on '\\' to keep player name\n",
    "Name = DF2018['Player'].str.split('\\\\').str[0]\n",
    "Name = Name.values.tolist()\n",
    "Name = Name\n",
    "#function to remove puncutaion from player names\n",
    "def remove_punc(string):\n",
    "    punc = '*+'\n",
    "    for ele in string:\n",
    "        if ele in punc:\n",
    "            string = string.replace(ele,'')\n",
    "    return string\n",
    "#needed to add .strip() to lagging white space which affected merge downstream\n",
    "Name = [remove_punc(i).strip() for i in Name]\n",
    "DF2018['Player Name'] = Name\n",
    "DF2018['Pos'] = DF2018['Pos'].str.upper()\n",
    "DF2018 = DF2018.iloc[:, 2:]\n",
    "DF2018['Year'] = '2018'"
   ]
  },
  {
   "cell_type": "code",
   "execution_count": 11,
   "metadata": {},
   "outputs": [
    {
     "output_type": "execute_result",
     "data": {
      "text/plain": [
       "           Player Name  Age  Pos   Tm  Year   G  GS  Cmp  Att   Yds  TD\n",
       "0            Matt Ryan   35   QB  ATL  2020  16  16  407  626  4581  26\n",
       "1            Tom Brady   43   QB  TAM  2020  16  16  401  610  4633  40\n",
       "2   Ben Roethlisberger   38   QB  PIT  2020  15  15  399  608  3803  33\n",
       "3       Justin Herbert   22   QB  LAC  2020  15  15  396  595  4336  31\n",
       "4      Patrick Mahomes   25   QB  KAN  2020  15  15  390  588  4740  38\n",
       "..                 ...  ...  ...  ...   ...  ..  ..  ...  ...   ...  ..\n",
       "81          John Brown   29   WR  BUF  2018  15  15    1    1    28   1\n",
       "82        Randall Cobb   29   WR  DAL  2018  15   6    0    1     0   0\n",
       "83     Dustin Colquitt   37  NaN  KAN  2018  16   0    0    1     0   0\n",
       "84        Stefon Diggs   26   WR  MIN  2018  15  15    0    1     0   0\n",
       "85        Jake Elliott   24  NaN  PHI  2018  16   0    0    1     0   0\n",
       "\n",
       "[300 rows x 11 columns]"
      ],
      "text/html": "<div>\n<style scoped>\n    .dataframe tbody tr th:only-of-type {\n        vertical-align: middle;\n    }\n\n    .dataframe tbody tr th {\n        vertical-align: top;\n    }\n\n    .dataframe thead th {\n        text-align: right;\n    }\n</style>\n<table border=\"1\" class=\"dataframe\">\n  <thead>\n    <tr style=\"text-align: right;\">\n      <th></th>\n      <th>Player Name</th>\n      <th>Age</th>\n      <th>Pos</th>\n      <th>Tm</th>\n      <th>Year</th>\n      <th>G</th>\n      <th>GS</th>\n      <th>Cmp</th>\n      <th>Att</th>\n      <th>Yds</th>\n      <th>TD</th>\n    </tr>\n  </thead>\n  <tbody>\n    <tr>\n      <th>0</th>\n      <td>Matt Ryan</td>\n      <td>35</td>\n      <td>QB</td>\n      <td>ATL</td>\n      <td>2020</td>\n      <td>16</td>\n      <td>16</td>\n      <td>407</td>\n      <td>626</td>\n      <td>4581</td>\n      <td>26</td>\n    </tr>\n    <tr>\n      <th>1</th>\n      <td>Tom Brady</td>\n      <td>43</td>\n      <td>QB</td>\n      <td>TAM</td>\n      <td>2020</td>\n      <td>16</td>\n      <td>16</td>\n      <td>401</td>\n      <td>610</td>\n      <td>4633</td>\n      <td>40</td>\n    </tr>\n    <tr>\n      <th>2</th>\n      <td>Ben Roethlisberger</td>\n      <td>38</td>\n      <td>QB</td>\n      <td>PIT</td>\n      <td>2020</td>\n      <td>15</td>\n      <td>15</td>\n      <td>399</td>\n      <td>608</td>\n      <td>3803</td>\n      <td>33</td>\n    </tr>\n    <tr>\n      <th>3</th>\n      <td>Justin Herbert</td>\n      <td>22</td>\n      <td>QB</td>\n      <td>LAC</td>\n      <td>2020</td>\n      <td>15</td>\n      <td>15</td>\n      <td>396</td>\n      <td>595</td>\n      <td>4336</td>\n      <td>31</td>\n    </tr>\n    <tr>\n      <th>4</th>\n      <td>Patrick Mahomes</td>\n      <td>25</td>\n      <td>QB</td>\n      <td>KAN</td>\n      <td>2020</td>\n      <td>15</td>\n      <td>15</td>\n      <td>390</td>\n      <td>588</td>\n      <td>4740</td>\n      <td>38</td>\n    </tr>\n    <tr>\n      <th>...</th>\n      <td>...</td>\n      <td>...</td>\n      <td>...</td>\n      <td>...</td>\n      <td>...</td>\n      <td>...</td>\n      <td>...</td>\n      <td>...</td>\n      <td>...</td>\n      <td>...</td>\n      <td>...</td>\n    </tr>\n    <tr>\n      <th>81</th>\n      <td>John Brown</td>\n      <td>29</td>\n      <td>WR</td>\n      <td>BUF</td>\n      <td>2018</td>\n      <td>15</td>\n      <td>15</td>\n      <td>1</td>\n      <td>1</td>\n      <td>28</td>\n      <td>1</td>\n    </tr>\n    <tr>\n      <th>82</th>\n      <td>Randall Cobb</td>\n      <td>29</td>\n      <td>WR</td>\n      <td>DAL</td>\n      <td>2018</td>\n      <td>15</td>\n      <td>6</td>\n      <td>0</td>\n      <td>1</td>\n      <td>0</td>\n      <td>0</td>\n    </tr>\n    <tr>\n      <th>83</th>\n      <td>Dustin Colquitt</td>\n      <td>37</td>\n      <td>NaN</td>\n      <td>KAN</td>\n      <td>2018</td>\n      <td>16</td>\n      <td>0</td>\n      <td>0</td>\n      <td>1</td>\n      <td>0</td>\n      <td>0</td>\n    </tr>\n    <tr>\n      <th>84</th>\n      <td>Stefon Diggs</td>\n      <td>26</td>\n      <td>WR</td>\n      <td>MIN</td>\n      <td>2018</td>\n      <td>15</td>\n      <td>15</td>\n      <td>0</td>\n      <td>1</td>\n      <td>0</td>\n      <td>0</td>\n    </tr>\n    <tr>\n      <th>85</th>\n      <td>Jake Elliott</td>\n      <td>24</td>\n      <td>NaN</td>\n      <td>PHI</td>\n      <td>2018</td>\n      <td>16</td>\n      <td>0</td>\n      <td>0</td>\n      <td>1</td>\n      <td>0</td>\n      <td>0</td>\n    </tr>\n  </tbody>\n</table>\n<p>300 rows × 11 columns</p>\n</div>"
     },
     "metadata": {},
     "execution_count": 11
    }
   ],
   "source": [
    "#concat DF here with fields I want\n",
    "DF_QB = pd.concat([DF2020,DF2019,DF2018])\n",
    "DF_QB = DF_QB[['Player Name', 'Age', 'Pos', 'Tm', 'Year', 'G', 'GS', 'Cmp', 'Att', 'Yds', 'TD']]\n",
    "DF_QB.head(300)"
   ]
  },
  {
   "cell_type": "code",
   "execution_count": null,
   "metadata": {
    "tags": []
   },
   "outputs": [],
   "source": [
    "DFPM = pd.read_csv('supp/playermeasureables - Sheet1.csv')\n",
    "Last_NamePM = DFPM['Player'].str.split(', ').str[0]\n",
    "Last_NamePM = Last_NamePM.values.tolist()\n",
    "First_NamePM = DFPM['Player'].str.split(', ').str[1]\n",
    "First_NamePM = First_NamePM.values.tolist()\n",
    "DFPM['First Name'] = First_NamePM\n",
    "DFPM['Last Name'] = Last_NamePM\n",
    "DFPM['Player Name'] = DFPM[['First Name', 'Last Name']].apply(lambda x: ' '.join(x), axis=1)\n",
    "DFPM_Info = DFPM[['Player Name', 'Pos', 'Team', 'Height', 'Weight', 'DOB']]\n",
    "#DFPM_Info.loc[DFPM_Info['Player Name']=='Patrick Mahomes']\n",
    "\n"
   ]
  },
  {
   "cell_type": "code",
   "execution_count": null,
   "metadata": {},
   "outputs": [],
   "source": [
    "#DF_QB.merge(DFPM_Info, how='left', on='Player Name')\n",
    "DF_QB_PM = pd.merge(DF_QB, DFPM_Info, how='left', on=['Player Name', 'Pos'])\n",
    "DF_QB_PM.head(50)"
   ]
  },
  {
   "cell_type": "code",
   "execution_count": null,
   "metadata": {},
   "outputs": [],
   "source": []
  }
 ]
}