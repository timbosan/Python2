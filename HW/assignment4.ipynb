{
 "cells": [
  {
   "cell_type": "markdown",
   "metadata": {
    "deletable": false,
    "editable": false,
    "nbgrader": {
     "checksum": "48770f8b5f5d3062d3badd51fcafc401",
     "grade": false,
     "grade_id": "cell-a6c4f74309fc2379",
     "locked": true,
     "schema_version": 1,
     "solution": false
    }
   },
   "source": [
    "# Assignment 4\n",
    "## Description\n",
    "In this assignment you must read in a file of metropolitan regions and associated sports teams from [assets/wikipedia_data.html](assets/wikipedia_data.html) and answer some questions about each metropolitan region. Each of these regions may have one or more teams from the \"Big 4\": NFL (football, in [assets/nfl.csv](assets/nfl.csv)), MLB (baseball, in [assets/mlb.csv](assets/mlb.csv)), NBA (basketball, in [assets/nba.csv](assets/nba.csv) or NHL (hockey, in [assets/nhl.csv](assets/nhl.csv)). Please keep in mind that all questions are from the perspective of the metropolitan region, and that this file is the \"source of authority\" for the location of a given sports team. Thus teams which are commonly known by a different area (e.g. \"Oakland Raiders\") need to be mapped into the metropolitan region given (e.g. San Francisco Bay Area). This will require some human data understanding outside of the data you've been given (e.g. you will have to hand-code some names, and might need to google to find out where teams are)!\n",
    "\n",
    "For each sport I would like you to answer the question: **what is the win/loss ratio's correlation with the population of the city it is in?** Win/Loss ratio refers to the number of wins over the number of wins plus the number of losses. Remember that to calculate the correlation with [`pearsonr`](https://docs.scipy.org/doc/scipy/reference/generated/scipy.stats.pearsonr.html), so you are going to send in two ordered lists of values, the populations from the wikipedia_data.html file and the win/loss ratio for a given sport in the same order. Average the win/loss ratios for those cities which have multiple teams of a single sport. Each sport is worth an equal amount in this assignment (20%\\*4=80%) of the grade for this assignment. You should only use data **from year 2018** for your analysis -- this is important!\n",
    "\n",
    "## Notes\n",
    "\n",
    "1. Do not include data about the MLS or CFL in any of the work you are doing, we're only interested in the Big 4 in this assignment.\n",
    "2. I highly suggest that you first tackle the four correlation questions in order, as they are all similar and worth the majority of grades for this assignment. This is by design!\n",
    "3. It's fair game to talk with peers about high level strategy as well as the relationship between metropolitan areas and sports teams. However, do not post code solving aspects of the assignment (including such as dictionaries mapping areas to teams, or regexes which will clean up names).\n",
    "4. There may be more teams than the assert statements test, remember to collapse multiple teams in one city into a single value!"
   ]
  },
  {
   "cell_type": "markdown",
   "metadata": {
    "deletable": false,
    "editable": false,
    "nbgrader": {
     "checksum": "369ff9ecf0ee04640574205cbc697f94",
     "grade": false,
     "grade_id": "cell-712b2b5da63d4505",
     "locked": true,
     "schema_version": 1,
     "solution": false
    }
   },
   "source": [
    "## Question 1\n",
    "For this question, calculate the win/loss ratio's correlation with the population of the city it is in for the **NHL** using **2018** data."
   ]
  },
  {
   "cell_type": "code",
   "execution_count": 10,
   "metadata": {
    "deletable": false,
    "nbgrader": {
     "checksum": "1cac4803b02502929f5b1612d48db2b5",
     "grade": false,
     "grade_id": "cell-69b16e4386e58030",
     "locked": false,
     "schema_version": 1,
     "solution": true
    }
   },
   "outputs": [
    {
     "output_type": "execute_result",
     "data": {
      "text/plain": [
       "                      team                      W                      L\n",
       "0        Atlantic Division      Atlantic Division      Atlantic Division\n",
       "1     Tampa Bay Lightning*                     54                     23\n",
       "2           Boston Bruins*                     50                     20\n",
       "3     Toronto Maple Leafs*                     49                     26\n",
       "4         Florida Panthers                     44                     30\n",
       "5        Detroit Red Wings                     30                     39\n",
       "6       Montreal Canadiens                     29                     40\n",
       "7          Ottawa Senators                     28                     43\n",
       "8           Buffalo Sabres                     25                     45\n",
       "9    Metropolitan Division  Metropolitan Division  Metropolitan Division\n",
       "10    Washington Capitals*                     49                     26\n",
       "11    Pittsburgh Penguins*                     47                     29\n",
       "12    Philadelphia Flyers*                     42                     26\n",
       "13  Columbus Blue Jackets*                     45                     30\n",
       "14      New Jersey Devils*                     44                     29\n",
       "15     Carolina Hurricanes                     36                     35\n",
       "16      New York Islanders                     35                     37\n",
       "17        New York Rangers                     34                     39\n",
       "18        Central Division       Central Division       Central Division\n",
       "19    Nashville Predators*                     53                     18\n",
       "20          Winnipeg Jets*                     52                     20\n",
       "21         Minnesota Wild*                     45                     26\n",
       "22     Colorado Avalanche*                     43                     30\n",
       "23         St. Louis Blues                     44                     32\n",
       "24            Dallas Stars                     42                     32\n",
       "25      Chicago Blackhawks                     33                     39\n",
       "26        Pacific Division       Pacific Division       Pacific Division\n",
       "27   Vegas Golden Knights*                     51                     24\n",
       "28          Anaheim Ducks*                     44                     25\n",
       "29        San Jose Sharks*                     45                     27\n",
       "30      Los Angeles Kings*                     45                     29\n",
       "31          Calgary Flames                     37                     35\n",
       "32         Edmonton Oilers                     36                     40\n",
       "33       Vancouver Canucks                     31                     40\n",
       "34         Arizona Coyotes                     29                     41"
      ],
      "text/html": "<div>\n<style scoped>\n    .dataframe tbody tr th:only-of-type {\n        vertical-align: middle;\n    }\n\n    .dataframe tbody tr th {\n        vertical-align: top;\n    }\n\n    .dataframe thead th {\n        text-align: right;\n    }\n</style>\n<table border=\"1\" class=\"dataframe\">\n  <thead>\n    <tr style=\"text-align: right;\">\n      <th></th>\n      <th>team</th>\n      <th>W</th>\n      <th>L</th>\n    </tr>\n  </thead>\n  <tbody>\n    <tr>\n      <th>0</th>\n      <td>Atlantic Division</td>\n      <td>Atlantic Division</td>\n      <td>Atlantic Division</td>\n    </tr>\n    <tr>\n      <th>1</th>\n      <td>Tampa Bay Lightning*</td>\n      <td>54</td>\n      <td>23</td>\n    </tr>\n    <tr>\n      <th>2</th>\n      <td>Boston Bruins*</td>\n      <td>50</td>\n      <td>20</td>\n    </tr>\n    <tr>\n      <th>3</th>\n      <td>Toronto Maple Leafs*</td>\n      <td>49</td>\n      <td>26</td>\n    </tr>\n    <tr>\n      <th>4</th>\n      <td>Florida Panthers</td>\n      <td>44</td>\n      <td>30</td>\n    </tr>\n    <tr>\n      <th>5</th>\n      <td>Detroit Red Wings</td>\n      <td>30</td>\n      <td>39</td>\n    </tr>\n    <tr>\n      <th>6</th>\n      <td>Montreal Canadiens</td>\n      <td>29</td>\n      <td>40</td>\n    </tr>\n    <tr>\n      <th>7</th>\n      <td>Ottawa Senators</td>\n      <td>28</td>\n      <td>43</td>\n    </tr>\n    <tr>\n      <th>8</th>\n      <td>Buffalo Sabres</td>\n      <td>25</td>\n      <td>45</td>\n    </tr>\n    <tr>\n      <th>9</th>\n      <td>Metropolitan Division</td>\n      <td>Metropolitan Division</td>\n      <td>Metropolitan Division</td>\n    </tr>\n    <tr>\n      <th>10</th>\n      <td>Washington Capitals*</td>\n      <td>49</td>\n      <td>26</td>\n    </tr>\n    <tr>\n      <th>11</th>\n      <td>Pittsburgh Penguins*</td>\n      <td>47</td>\n      <td>29</td>\n    </tr>\n    <tr>\n      <th>12</th>\n      <td>Philadelphia Flyers*</td>\n      <td>42</td>\n      <td>26</td>\n    </tr>\n    <tr>\n      <th>13</th>\n      <td>Columbus Blue Jackets*</td>\n      <td>45</td>\n      <td>30</td>\n    </tr>\n    <tr>\n      <th>14</th>\n      <td>New Jersey Devils*</td>\n      <td>44</td>\n      <td>29</td>\n    </tr>\n    <tr>\n      <th>15</th>\n      <td>Carolina Hurricanes</td>\n      <td>36</td>\n      <td>35</td>\n    </tr>\n    <tr>\n      <th>16</th>\n      <td>New York Islanders</td>\n      <td>35</td>\n      <td>37</td>\n    </tr>\n    <tr>\n      <th>17</th>\n      <td>New York Rangers</td>\n      <td>34</td>\n      <td>39</td>\n    </tr>\n    <tr>\n      <th>18</th>\n      <td>Central Division</td>\n      <td>Central Division</td>\n      <td>Central Division</td>\n    </tr>\n    <tr>\n      <th>19</th>\n      <td>Nashville Predators*</td>\n      <td>53</td>\n      <td>18</td>\n    </tr>\n    <tr>\n      <th>20</th>\n      <td>Winnipeg Jets*</td>\n      <td>52</td>\n      <td>20</td>\n    </tr>\n    <tr>\n      <th>21</th>\n      <td>Minnesota Wild*</td>\n      <td>45</td>\n      <td>26</td>\n    </tr>\n    <tr>\n      <th>22</th>\n      <td>Colorado Avalanche*</td>\n      <td>43</td>\n      <td>30</td>\n    </tr>\n    <tr>\n      <th>23</th>\n      <td>St. Louis Blues</td>\n      <td>44</td>\n      <td>32</td>\n    </tr>\n    <tr>\n      <th>24</th>\n      <td>Dallas Stars</td>\n      <td>42</td>\n      <td>32</td>\n    </tr>\n    <tr>\n      <th>25</th>\n      <td>Chicago Blackhawks</td>\n      <td>33</td>\n      <td>39</td>\n    </tr>\n    <tr>\n      <th>26</th>\n      <td>Pacific Division</td>\n      <td>Pacific Division</td>\n      <td>Pacific Division</td>\n    </tr>\n    <tr>\n      <th>27</th>\n      <td>Vegas Golden Knights*</td>\n      <td>51</td>\n      <td>24</td>\n    </tr>\n    <tr>\n      <th>28</th>\n      <td>Anaheim Ducks*</td>\n      <td>44</td>\n      <td>25</td>\n    </tr>\n    <tr>\n      <th>29</th>\n      <td>San Jose Sharks*</td>\n      <td>45</td>\n      <td>27</td>\n    </tr>\n    <tr>\n      <th>30</th>\n      <td>Los Angeles Kings*</td>\n      <td>45</td>\n      <td>29</td>\n    </tr>\n    <tr>\n      <th>31</th>\n      <td>Calgary Flames</td>\n      <td>37</td>\n      <td>35</td>\n    </tr>\n    <tr>\n      <th>32</th>\n      <td>Edmonton Oilers</td>\n      <td>36</td>\n      <td>40</td>\n    </tr>\n    <tr>\n      <th>33</th>\n      <td>Vancouver Canucks</td>\n      <td>31</td>\n      <td>40</td>\n    </tr>\n    <tr>\n      <th>34</th>\n      <td>Arizona Coyotes</td>\n      <td>29</td>\n      <td>41</td>\n    </tr>\n  </tbody>\n</table>\n</div>"
     },
     "metadata": {},
     "execution_count": 10
    }
   ],
   "source": [
    "import pandas as pd\n",
    "import numpy as np\n",
    "import scipy.stats as stats\n",
    "import re\n",
    "\n",
    "nhl_df=pd.read_csv(\"assets/nhl.csv\")\n",
    "cities=pd.read_html(\"assets/wikipedia_data.html\")[1]\n",
    "cities=cities.iloc[:-1,[0,3,5,6,7,8]]\n",
    "#cities.head(70)\n",
    "nhl2018_df = nhl_df[nhl_df['year'] == 2018 ]\n",
    "nhl2018winloss_df = nhl2018_df[['team','W', 'L']] \n",
    "nhl2018winloss_df.head(40)\n",
    "\n",
    "#early_finishers=df[pd.to_datetime(df['assignment1_submission']) < '2016']\n",
    "\n",
    "# def explode_list(df, column: str):\n",
    "#     data = []\n",
    "#     columns = list(df.columns)\n",
    "#     to_explode_index = columns.index(column)\n",
    "#     columns.remove(column)\n",
    "#     columns = [column, *columns]\n",
    "#     for row in df.itertuples(index=False):\n",
    "#         base = [*row[:to_explode_index], *row[to_explode_index + 1:]]\n",
    "#         for entry in re.findall('[A-Z][a-z]*', row[to_explode_index]):\n",
    "#             data.append([entry, *base])\n",
    "#     res = pd.DataFrame(data, columns=columns)[df.columns]\n",
    "#     return res\n",
    "# explode_list(cities, 'NHL')\n",
    "\n",
    "\n",
    "\n",
    "# def nhl_correlation(): \n",
    "#     # YOUR CODE HERE\n",
    "#     raise NotImplementedError()\n",
    "    \n",
    "#     population_by_region = [] # pass in metropolitan area population from cities\n",
    "#     win_loss_by_region = [] # pass in win/loss ratio from nhl_df in the same order as cities[\"Metropolitan area\"]\n",
    "\n",
    "#     assert len(population_by_region) == len(win_loss_by_region), \"Q1: Your lists must be the same length\"\n",
    "#     assert len(population_by_region) == 28, \"Q1: There should be 28 teams being analysed for NHL\"\n",
    "    \n",
    "#     return stats.pearsonr(population_by_region, win_loss_by_region)"
   ]
  },
  {
   "cell_type": "code",
   "execution_count": null,
   "metadata": {},
   "outputs": [],
   "source": [
    "def explode_list(df, column: str):\n",
    "    data = []\n",
    "    columns = list(df.columns)\n",
    "    to_explode_index = columns.index(column)\n",
    "    columns.remove(column)\n",
    "    columns = [column, *columns]\n",
    "    for row in df.itertuples(index=False):\n",
    "        base = [*row[:to_explode_index], *row[to_explode_index + 1:]]\n",
    "        for entry in re.findall('[A-Z][a-z]*', row[to_explode_index]):\n",
    "            data.append([entry, *base])\n",
    "    res = pd.DataFrame(data, columns=columns)[df.columns]\n",
    "    return res\n",
    "explode_list(cities, 'NHL')"
   ]
  },
  {
   "cell_type": "code",
   "execution_count": null,
   "metadata": {
    "deletable": false,
    "editable": false,
    "nbgrader": {
     "checksum": "52a581df513c71153e105b93764cda4b",
     "grade": true,
     "grade_id": "cell-ebe0b2dfe1067e63",
     "locked": true,
     "points": 20,
     "schema_version": 1,
     "solution": false
    }
   },
   "outputs": [],
   "source": []
  },
  {
   "cell_type": "markdown",
   "metadata": {
    "deletable": false,
    "editable": false,
    "nbgrader": {
     "checksum": "988912cae4968d81473f46d783e79c16",
     "grade": false,
     "grade_id": "cell-cb964e690298b71d",
     "locked": true,
     "schema_version": 1,
     "solution": false
    }
   },
   "source": [
    "## Question 2\n",
    "For this question, calculate the win/loss ratio's correlation with the population of the city it is in for the **NBA** using **2018** data."
   ]
  },
  {
   "cell_type": "code",
   "execution_count": null,
   "metadata": {
    "deletable": false,
    "nbgrader": {
     "checksum": "9394222aafc8ccab0a228098ba0d6010",
     "grade": false,
     "grade_id": "cell-5a5f21279e3d3572",
     "locked": false,
     "schema_version": 1,
     "solution": true
    }
   },
   "outputs": [],
   "source": [
    "import pandas as pd\n",
    "import numpy as np\n",
    "import scipy.stats as stats\n",
    "import re\n",
    "\n",
    "nba_df=pd.read_csv(\"assets/nba.csv\")\n",
    "cities=pd.read_html(\"assets/wikipedia_data.html\")[1]\n",
    "cities=cities.iloc[:-1,[0,3,5,6,7,8]]\n",
    "\n",
    "def nba_correlation():\n",
    "    # YOUR CODE HERE\n",
    "    raise NotImplementedError()\n",
    "    \n",
    "    population_by_region = [] # pass in metropolitan area population from cities\n",
    "    win_loss_by_region = [] # pass in win/loss ratio from nba_df in the same order as cities[\"Metropolitan area\"]\n",
    "\n",
    "    assert len(population_by_region) == len(win_loss_by_region), \"Q2: Your lists must be the same length\"\n",
    "    assert len(population_by_region) == 28, \"Q2: There should be 28 teams being analysed for NBA\"\n",
    "\n",
    "    return stats.pearsonr(population_by_region, win_loss_by_region)"
   ]
  },
  {
   "cell_type": "code",
   "execution_count": null,
   "metadata": {
    "deletable": false,
    "editable": false,
    "nbgrader": {
     "checksum": "bbdeb8eb22f525a34c10dc8798324e42",
     "grade": true,
     "grade_id": "cell-e573b2b4a282b470",
     "locked": true,
     "points": 20,
     "schema_version": 1,
     "solution": false
    }
   },
   "outputs": [],
   "source": []
  },
  {
   "cell_type": "markdown",
   "metadata": {
    "deletable": false,
    "editable": false,
    "nbgrader": {
     "checksum": "1a1a5809f675ca033086422007cd73bd",
     "grade": false,
     "grade_id": "cell-96e15e4335df78f4",
     "locked": true,
     "schema_version": 1,
     "solution": false
    }
   },
   "source": [
    "## Question 3\n",
    "For this question, calculate the win/loss ratio's correlation with the population of the city it is in for the **MLB** using **2018** data."
   ]
  },
  {
   "cell_type": "code",
   "execution_count": null,
   "metadata": {
    "deletable": false,
    "nbgrader": {
     "checksum": "27e8c0da6c9fa0dffc10488314335b6c",
     "grade": false,
     "grade_id": "cell-33b00fc3f3467b0c",
     "locked": false,
     "schema_version": 1,
     "solution": true
    }
   },
   "outputs": [],
   "source": [
    "import pandas as pd\n",
    "import numpy as np\n",
    "import scipy.stats as stats\n",
    "import re\n",
    "\n",
    "mlb_df=pd.read_csv(\"assets/mlb.csv\")\n",
    "cities=pd.read_html(\"assets/wikipedia_data.html\")[1]\n",
    "cities=cities.iloc[:-1,[0,3,5,6,7,8]]\n",
    "\n",
    "def mlb_correlation(): \n",
    "    # YOUR CODE HERE\n",
    "    raise NotImplementedError()\n",
    "    \n",
    "    population_by_region = [] # pass in metropolitan area population from cities\n",
    "    win_loss_by_region = [] # pass in win/loss ratio from mlb_df in the same order as cities[\"Metropolitan area\"]\n",
    "\n",
    "    assert len(population_by_region) == len(win_loss_by_region), \"Q3: Your lists must be the same length\"\n",
    "    assert len(population_by_region) == 26, \"Q3: There should be 26 teams being analysed for MLB\"\n",
    "\n",
    "    return stats.pearsonr(population_by_region, win_loss_by_region)"
   ]
  },
  {
   "cell_type": "code",
   "execution_count": null,
   "metadata": {
    "deletable": false,
    "editable": false,
    "nbgrader": {
     "checksum": "cda33b094ba19ccc37a481e0dd29e0bc",
     "grade": true,
     "grade_id": "cell-764d4476f425c5a2",
     "locked": true,
     "points": 20,
     "schema_version": 1,
     "solution": false
    }
   },
   "outputs": [],
   "source": []
  },
  {
   "cell_type": "markdown",
   "metadata": {
    "deletable": false,
    "editable": false,
    "nbgrader": {
     "checksum": "6977a6da9ed6d8b7a0b7e37bbeda709b",
     "grade": false,
     "grade_id": "cell-793df6c04dfb126e",
     "locked": true,
     "schema_version": 1,
     "solution": false
    }
   },
   "source": [
    "## Question 4\n",
    "For this question, calculate the win/loss ratio's correlation with the population of the city it is in for the **NFL** using **2018** data."
   ]
  },
  {
   "cell_type": "code",
   "execution_count": null,
   "metadata": {
    "deletable": false,
    "nbgrader": {
     "checksum": "c4914ad1e119278ec2bd567c52640b66",
     "grade": false,
     "grade_id": "cell-8ccebc209aeec8d9",
     "locked": false,
     "schema_version": 1,
     "solution": true
    }
   },
   "outputs": [],
   "source": [
    "import pandas as pd\n",
    "import numpy as np\n",
    "import scipy.stats as stats\n",
    "import re\n",
    "\n",
    "nfl_df=pd.read_csv(\"assets/nfl.csv\")\n",
    "cities=pd.read_html(\"assets/wikipedia_data.html\")[1]\n",
    "cities=cities.iloc[:-1,[0,3,5,6,7,8]]\n",
    "\n",
    "def nfl_correlation(): \n",
    "    # YOUR CODE HERE\n",
    "    raise NotImplementedError()\n",
    "    \n",
    "    population_by_region = [] # pass in metropolitan area population from cities\n",
    "    win_loss_by_region = [] # pass in win/loss ratio from nfl_df in the same order as cities[\"Metropolitan area\"]\n",
    "\n",
    "    assert len(population_by_region) == len(win_loss_by_region), \"Q4: Your lists must be the same length\"\n",
    "    assert len(population_by_region) == 29, \"Q4: There should be 29 teams being analysed for NFL\"\n",
    "\n",
    "    return stats.pearsonr(population_by_region, win_loss_by_region)"
   ]
  },
  {
   "cell_type": "code",
   "execution_count": null,
   "metadata": {
    "deletable": false,
    "editable": false,
    "nbgrader": {
     "checksum": "e9415d6399aa49e3a1a60813afdefa3b",
     "grade": true,
     "grade_id": "cell-de7b148b9554dbda",
     "locked": true,
     "points": 20,
     "schema_version": 1,
     "solution": false
    }
   },
   "outputs": [],
   "source": []
  },
  {
   "cell_type": "markdown",
   "metadata": {
    "deletable": false,
    "editable": false,
    "nbgrader": {
     "checksum": "b02d5cd3273f561e4ae939bb2a41740c",
     "grade": false,
     "grade_id": "cell-97b49d8639e908c4",
     "locked": true,
     "schema_version": 1,
     "solution": false
    }
   },
   "source": [
    "## Question 5\n",
    "In this question I would like you to explore the hypothesis that **given that an area has two sports teams in different sports, those teams will perform the same within their respective sports**. How I would like to see this explored is with a series of paired t-tests (so use [`ttest_rel`](https://docs.scipy.org/doc/scipy/reference/generated/scipy.stats.ttest_rel.html)) between all pairs of sports. Are there any sports where we can reject the null hypothesis? Again, average values where a sport has multiple teams in one region. Remember, you will only be including, for each sport, cities which have teams engaged in that sport, drop others as appropriate. This question is worth 20% of the grade for this assignment."
   ]
  },
  {
   "cell_type": "code",
   "execution_count": null,
   "metadata": {
    "deletable": false,
    "nbgrader": {
     "checksum": "6d78c961eb66f8d8c81f06d33ae8f393",
     "grade": false,
     "grade_id": "cell-92f25f44b8d1179f",
     "locked": false,
     "schema_version": 1,
     "solution": true
    }
   },
   "outputs": [],
   "source": [
    "import pandas as pd\n",
    "import numpy as np\n",
    "import scipy.stats as stats\n",
    "import re\n",
    "\n",
    "mlb_df=pd.read_csv(\"assets/mlb.csv\")\n",
    "nhl_df=pd.read_csv(\"assets/nhl.csv\")\n",
    "nba_df=pd.read_csv(\"assets/nba.csv\")\n",
    "nfl_df=pd.read_csv(\"assets/nfl.csv\")\n",
    "cities=pd.read_html(\"assets/wikipedia_data.html\")[1]\n",
    "cities=cities.iloc[:-1,[0,3,5,6,7,8]]\n",
    "\n",
    "def sports_team_performance():\n",
    "    # YOUR CODE HERE\n",
    "    raise NotImplementedError()\n",
    "    \n",
    "    # Note: p_values is a full dataframe, so df.loc[\"NFL\",\"NBA\"] should be the same as df.loc[\"NBA\",\"NFL\"] and\n",
    "    # df.loc[\"NFL\",\"NFL\"] should return np.nan\n",
    "    sports = ['NFL', 'NBA', 'NHL', 'MLB']\n",
    "    p_values = pd.DataFrame({k:np.nan for k in sports}, index=sports)\n",
    "    \n",
    "    assert abs(p_values.loc[\"NBA\", \"NHL\"] - 0.02) <= 1e-2, \"The NBA-NHL p-value should be around 0.02\"\n",
    "    assert abs(p_values.loc[\"MLB\", \"NFL\"] - 0.80) <= 1e-2, \"The MLB-NFL p-value should be around 0.80\"\n",
    "    return p_values"
   ]
  },
  {
   "cell_type": "code",
   "execution_count": null,
   "metadata": {
    "deletable": false,
    "editable": false,
    "nbgrader": {
     "checksum": "2a596ab421a45cc01168d10e8fbb8f89",
     "grade": true,
     "grade_id": "cell-fb4b9cb5ff4570a6",
     "locked": true,
     "points": 20,
     "schema_version": 1,
     "solution": false
    }
   },
   "outputs": [],
   "source": []
  }
 ],
 "metadata": {
  "coursera": {
   "schema_names": [
    "mooc_adswpy_1_v2_assignment4"
   ]
  },
  "kernelspec": {
   "display_name": "Python 3",
   "language": "python",
   "name": "python3"
  },
  "language_info": {
   "codemirror_mode": {
    "name": "ipython",
    "version": 3
   },
   "file_extension": ".py",
   "mimetype": "text/x-python",
   "name": "python",
   "nbconvert_exporter": "python",
   "pygments_lexer": "ipython3",
   "version": "3.8.5-final"
  }
 },
 "nbformat": 4,
 "nbformat_minor": 4
}